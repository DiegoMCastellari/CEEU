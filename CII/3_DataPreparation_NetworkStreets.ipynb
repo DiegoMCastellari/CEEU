{
 "cells": [
  {
   "cell_type": "markdown",
   "metadata": {},
   "source": [
    "# CII proyect: Street Data Preparation For Network Analysis\n",
    "### Process:\n",
    "- Create street layer    \n",
    "***Run topology of streets in ArcGIS***\n",
    "- Create bus line buffer\n",
    "- calculate travel time   \n",
    "***Run Network Analyst in ArcGIS***"
   ]
  },
  {
   "cell_type": "code",
   "execution_count": 1,
   "metadata": {},
   "outputs": [],
   "source": [
    "import pandas as pd\n",
    "import geopandas as gpd"
   ]
  },
  {
   "cell_type": "code",
   "execution_count": 2,
   "metadata": {},
   "outputs": [],
   "source": [
    "# import local goverments\n",
    "df_muni = gpd.read_file(\"D:/JOB/UNSAM/2022 - CII/Datos/municipio/municipio.shp\")\n",
    "df_muni = df_muni.loc[df_muni.nam == 'La Matanza']"
   ]
  },
  {
   "cell_type": "markdown",
   "metadata": {},
   "source": [
    "# Create street layer"
   ]
  },
  {
   "cell_type": "code",
   "execution_count": 3,
   "metadata": {},
   "outputs": [],
   "source": [
    "# import streets\n",
    "df_nac = gpd.read_file(\"../Datos/Calles/RedVialNacional.geojson\")\n",
    "df_pro = gpd.read_file(\"../Datos/Calles/RedVialProvincial.geojson\")\n",
    "df_urb = gpd.read_file(\"../Datos/Calles/RedVialUrbana.geojson\")"
   ]
  },
  {
   "cell_type": "code",
   "execution_count": 5,
   "metadata": {},
   "outputs": [
    {
     "name": "stdout",
     "output_type": "stream",
     "text": [
      "['Nacional' 'Provincial' 'Calle']\n",
      "587575\n"
     ]
    },
    {
     "data": {
      "text/html": [
       "<div>\n",
       "<style scoped>\n",
       "    .dataframe tbody tr th:only-of-type {\n",
       "        vertical-align: middle;\n",
       "    }\n",
       "\n",
       "    .dataframe tbody tr th {\n",
       "        vertical-align: top;\n",
       "    }\n",
       "\n",
       "    .dataframe thead th {\n",
       "        text-align: right;\n",
       "    }\n",
       "</style>\n",
       "<table border=\"1\" class=\"dataframe\">\n",
       "  <thead>\n",
       "    <tr style=\"text-align: right;\">\n",
       "      <th></th>\n",
       "      <th>hct</th>\n",
       "      <th>geometry</th>\n",
       "    </tr>\n",
       "  </thead>\n",
       "  <tbody>\n",
       "    <tr>\n",
       "      <th>0</th>\n",
       "      <td>Nacional</td>\n",
       "      <td>MULTILINESTRING ((-54.49869 -25.66899, -54.498...</td>\n",
       "    </tr>\n",
       "    <tr>\n",
       "      <th>1</th>\n",
       "      <td>Nacional</td>\n",
       "      <td>MULTILINESTRING ((-54.46205 -25.71356, -54.462...</td>\n",
       "    </tr>\n",
       "    <tr>\n",
       "      <th>2</th>\n",
       "      <td>Nacional</td>\n",
       "      <td>MULTILINESTRING ((-54.08179 -25.72037, -54.082...</td>\n",
       "    </tr>\n",
       "    <tr>\n",
       "      <th>3</th>\n",
       "      <td>Nacional</td>\n",
       "      <td>MULTILINESTRING ((-53.74518 -26.05548, -53.745...</td>\n",
       "    </tr>\n",
       "    <tr>\n",
       "      <th>4</th>\n",
       "      <td>Nacional</td>\n",
       "      <td>MULTILINESTRING ((-53.74290 -26.05752, -53.743...</td>\n",
       "    </tr>\n",
       "  </tbody>\n",
       "</table>\n",
       "</div>"
      ],
      "text/plain": [
       "        hct                                           geometry\n",
       "0  Nacional  MULTILINESTRING ((-54.49869 -25.66899, -54.498...\n",
       "1  Nacional  MULTILINESTRING ((-54.46205 -25.71356, -54.462...\n",
       "2  Nacional  MULTILINESTRING ((-54.08179 -25.72037, -54.082...\n",
       "3  Nacional  MULTILINESTRING ((-53.74518 -26.05548, -53.745...\n",
       "4  Nacional  MULTILINESTRING ((-53.74290 -26.05752, -53.743..."
      ]
     },
     "execution_count": 5,
     "metadata": {},
     "output_type": "execute_result"
    }
   ],
   "source": [
    "# clean street data\n",
    "df_urb['hct'] = df_urb['objeto']\n",
    "df_calles = pd.concat([df_nac[['hct', 'geometry']], df_pro[['hct', 'geometry']], df_urb[['hct', 'geometry']]])\n",
    "df_calles.loc[df_calles.hct == 2, 'hct'] = 'Provincial'\n",
    "print(df_calles.hct.unique())\n",
    "print(len(df_calles))\n",
    "df_calles.head()"
   ]
  },
  {
   "cell_type": "code",
   "execution_count": 18,
   "metadata": {},
   "outputs": [
    {
     "name": "stdout",
     "output_type": "stream",
     "text": [
      "['Nacional' 'Provincial' 'Calle']\n",
      "29871\n"
     ]
    },
    {
     "data": {
      "text/html": [
       "<div>\n",
       "<style scoped>\n",
       "    .dataframe tbody tr th:only-of-type {\n",
       "        vertical-align: middle;\n",
       "    }\n",
       "\n",
       "    .dataframe tbody tr th {\n",
       "        vertical-align: top;\n",
       "    }\n",
       "\n",
       "    .dataframe thead th {\n",
       "        text-align: right;\n",
       "    }\n",
       "</style>\n",
       "<table border=\"1\" class=\"dataframe\">\n",
       "  <thead>\n",
       "    <tr style=\"text-align: right;\">\n",
       "      <th></th>\n",
       "      <th>hct</th>\n",
       "      <th>geometry</th>\n",
       "    </tr>\n",
       "  </thead>\n",
       "  <tbody>\n",
       "    <tr>\n",
       "      <th>887</th>\n",
       "      <td>Nacional</td>\n",
       "      <td>MULTILINESTRING ((-58.55997 -34.68592, -58.560...</td>\n",
       "    </tr>\n",
       "    <tr>\n",
       "      <th>1480</th>\n",
       "      <td>Nacional</td>\n",
       "      <td>MULTILINESTRING ((-58.48539 -34.68688, -58.486...</td>\n",
       "    </tr>\n",
       "    <tr>\n",
       "      <th>1782</th>\n",
       "      <td>Nacional</td>\n",
       "      <td>MULTILINESTRING ((-58.52488 -34.78398, -58.524...</td>\n",
       "    </tr>\n",
       "    <tr>\n",
       "      <th>2326</th>\n",
       "      <td>Nacional</td>\n",
       "      <td>MULTILINESTRING ((-58.53002 -34.63490, -58.530...</td>\n",
       "    </tr>\n",
       "    <tr>\n",
       "      <th>24174</th>\n",
       "      <td>Provincial</td>\n",
       "      <td>MULTILINESTRING ((-58.56535 -34.64091, -58.567...</td>\n",
       "    </tr>\n",
       "  </tbody>\n",
       "</table>\n",
       "</div>"
      ],
      "text/plain": [
       "              hct                                           geometry\n",
       "887      Nacional  MULTILINESTRING ((-58.55997 -34.68592, -58.560...\n",
       "1480     Nacional  MULTILINESTRING ((-58.48539 -34.68688, -58.486...\n",
       "1782     Nacional  MULTILINESTRING ((-58.52488 -34.78398, -58.524...\n",
       "2326     Nacional  MULTILINESTRING ((-58.53002 -34.63490, -58.530...\n",
       "24174  Provincial  MULTILINESTRING ((-58.56535 -34.64091, -58.567..."
      ]
     },
     "execution_count": 18,
     "metadata": {},
     "output_type": "execute_result"
    }
   ],
   "source": [
    "df_calles_lm = df_calles.sjoin(df_muni[['geometry']])\n",
    "df_calles_lm.drop(columns='index_right', inplace=True)\n",
    "print(df_calles_lm.hct.unique())\n",
    "print(len(df_calles_lm))\n",
    "df_calles_lm.head()"
   ]
  },
  {
   "cell_type": "code",
   "execution_count": 19,
   "metadata": {},
   "outputs": [],
   "source": [
    "# save layer\n",
    "df_calles_lm.to_file(\"../DatosProcesados/CallesLaMatanza.shp\")"
   ]
  },
  {
   "cell_type": "markdown",
   "metadata": {},
   "source": [
    "### Run topology of streets in ArcGIS"
   ]
  },
  {
   "cell_type": "markdown",
   "metadata": {},
   "source": [
    "# Create bus lines buffer (10m)"
   ]
  },
  {
   "cell_type": "code",
   "execution_count": 28,
   "metadata": {},
   "outputs": [],
   "source": [
    "# import bus lines\n",
    "df_redcol = gpd.read_file(\"../DatosProcesados/Urbanos/RecorridoColectivos.geojson\")\n",
    "# create a bus line buffer\n",
    "df_redcol_buffer = df_redcol.copy() \n",
    "df_redcol_buffer = df_redcol_buffer.to_crs(\"EPSG:3035\") \n",
    "df_redcol_buffer.geometry = df_redcol_buffer.buffer(20)\n",
    "df_redcol_buffer = df_redcol_buffer.to_crs(\"EPSG:4326\")\n",
    "df_redcol_buffer.to_file(\"../DatosProcesados/CallesNetwork/RecorridoColectivos.shp\")"
   ]
  },
  {
   "cell_type": "markdown",
   "metadata": {},
   "source": [
    "# Calculate travel time\n",
    "- walking time: 80m/min\n",
    "- bus time: 40km/h == 670m/min"
   ]
  },
  {
   "cell_type": "code",
   "execution_count": 29,
   "metadata": {},
   "outputs": [],
   "source": [
    "df_calles_lm = gpd.read_file(\"../DatosProcesados/CallesNetwork/Calles_topo.shp\")\n",
    "df_redcol_buffer = gpd.read_file(\"../DatosProcesados/CallesNetwork/RecorridoColectivos.shp\")"
   ]
  },
  {
   "cell_type": "code",
   "execution_count": 30,
   "metadata": {},
   "outputs": [],
   "source": [
    "# calculate length\n",
    "df_calles_lm = df_calles_lm.to_crs(\"EPSG:3035\")\n",
    "df_calles_lm['len_m'] = df_calles_lm.length\n",
    "df_calles_lm = df_calles_lm.to_crs(\"EPSG:4326\")"
   ]
  },
  {
   "cell_type": "code",
   "execution_count": 31,
   "metadata": {},
   "outputs": [
    {
     "data": {
      "text/html": [
       "<div>\n",
       "<style scoped>\n",
       "    .dataframe tbody tr th:only-of-type {\n",
       "        vertical-align: middle;\n",
       "    }\n",
       "\n",
       "    .dataframe tbody tr th {\n",
       "        vertical-align: top;\n",
       "    }\n",
       "\n",
       "    .dataframe thead th {\n",
       "        text-align: right;\n",
       "    }\n",
       "</style>\n",
       "<table border=\"1\" class=\"dataframe\">\n",
       "  <thead>\n",
       "    <tr style=\"text-align: right;\">\n",
       "      <th></th>\n",
       "      <th>OBJECTID</th>\n",
       "      <th>hct</th>\n",
       "      <th>Shape_Leng</th>\n",
       "      <th>geometry</th>\n",
       "      <th>len_m</th>\n",
       "      <th>bus_p</th>\n",
       "    </tr>\n",
       "  </thead>\n",
       "  <tbody>\n",
       "    <tr>\n",
       "      <th>0</th>\n",
       "      <td>1</td>\n",
       "      <td>Nacional</td>\n",
       "      <td>0.268575</td>\n",
       "      <td>LINESTRING (-58.70101 -34.90636, -58.70161 -34...</td>\n",
       "      <td>25442.975608</td>\n",
       "      <td>NaN</td>\n",
       "    </tr>\n",
       "    <tr>\n",
       "      <th>1</th>\n",
       "      <td>2</td>\n",
       "      <td>Nacional</td>\n",
       "      <td>0.082431</td>\n",
       "      <td>LINESTRING (-58.51885 -34.73520, -58.51885 -34...</td>\n",
       "      <td>7863.593912</td>\n",
       "      <td>NaN</td>\n",
       "    </tr>\n",
       "    <tr>\n",
       "      <th>2</th>\n",
       "      <td>3</td>\n",
       "      <td>Nacional</td>\n",
       "      <td>0.003143</td>\n",
       "      <td>LINESTRING (-58.48866 -34.69103, -58.48859 -34...</td>\n",
       "      <td>198.774530</td>\n",
       "      <td>1.0</td>\n",
       "    </tr>\n",
       "    <tr>\n",
       "      <th>3</th>\n",
       "      <td>4</td>\n",
       "      <td>Nacional</td>\n",
       "      <td>0.040386</td>\n",
       "      <td>LINESTRING (-58.52835 -34.65379, -58.52825 -34...</td>\n",
       "      <td>6544.503996</td>\n",
       "      <td>NaN</td>\n",
       "    </tr>\n",
       "    <tr>\n",
       "      <th>4</th>\n",
       "      <td>5</td>\n",
       "      <td>Provincial</td>\n",
       "      <td>0.030618</td>\n",
       "      <td>LINESTRING (-58.59084 -34.64575, -58.59089 -34...</td>\n",
       "      <td>3512.694100</td>\n",
       "      <td>NaN</td>\n",
       "    </tr>\n",
       "  </tbody>\n",
       "</table>\n",
       "</div>"
      ],
      "text/plain": [
       "   OBJECTID         hct  Shape_Leng  \\\n",
       "0         1    Nacional    0.268575   \n",
       "1         2    Nacional    0.082431   \n",
       "2         3    Nacional    0.003143   \n",
       "3         4    Nacional    0.040386   \n",
       "4         5  Provincial    0.030618   \n",
       "\n",
       "                                            geometry         len_m  bus_p  \n",
       "0  LINESTRING (-58.70101 -34.90636, -58.70161 -34...  25442.975608    NaN  \n",
       "1  LINESTRING (-58.51885 -34.73520, -58.51885 -34...   7863.593912    NaN  \n",
       "2  LINESTRING (-58.48866 -34.69103, -58.48859 -34...    198.774530    1.0  \n",
       "3  LINESTRING (-58.52835 -34.65379, -58.52825 -34...   6544.503996    NaN  \n",
       "4  LINESTRING (-58.59084 -34.64575, -58.59089 -34...   3512.694100    NaN  "
      ]
     },
     "execution_count": 31,
     "metadata": {},
     "output_type": "execute_result"
    }
   ],
   "source": [
    "# spatial join street with bus lines\n",
    "df_redcol_buffer['bus_p'] = 1\n",
    "df_calles_lm_bu = df_calles_lm.sjoin(df_redcol_buffer[['bus_p', 'geometry']], how='left', predicate='within')\n",
    "df_calles_lm_bu.drop(columns='index_right', inplace=True)\n",
    "df_calles_lm_bu.reset_index(inplace=True)\n",
    "df_calles_lm_bu.rename(columns={df_calles_lm_bu.columns[0]:'ddup'}, inplace=True)\n",
    "df_calles_lm_bu.drop_duplicates(subset='ddup', inplace=True)\n",
    "df_calles_lm_bu.drop(columns='ddup', inplace=True)\n",
    "df_calles_lm_bu.reset_index(inplace=True, drop=True)\n",
    "df_calles_lm_bu.head()"
   ]
  },
  {
   "cell_type": "code",
   "execution_count": 32,
   "metadata": {},
   "outputs": [
    {
     "data": {
      "text/html": [
       "<div>\n",
       "<style scoped>\n",
       "    .dataframe tbody tr th:only-of-type {\n",
       "        vertical-align: middle;\n",
       "    }\n",
       "\n",
       "    .dataframe tbody tr th {\n",
       "        vertical-align: top;\n",
       "    }\n",
       "\n",
       "    .dataframe thead th {\n",
       "        text-align: right;\n",
       "    }\n",
       "</style>\n",
       "<table border=\"1\" class=\"dataframe\">\n",
       "  <thead>\n",
       "    <tr style=\"text-align: right;\">\n",
       "      <th></th>\n",
       "      <th>OBJECTID</th>\n",
       "      <th>hct</th>\n",
       "      <th>Shape_Leng</th>\n",
       "      <th>geometry</th>\n",
       "      <th>len_m</th>\n",
       "      <th>bus_p</th>\n",
       "      <th>ttime_walking</th>\n",
       "      <th>ttime_wbus</th>\n",
       "    </tr>\n",
       "  </thead>\n",
       "  <tbody>\n",
       "    <tr>\n",
       "      <th>0</th>\n",
       "      <td>1</td>\n",
       "      <td>Nacional</td>\n",
       "      <td>0.268575</td>\n",
       "      <td>LINESTRING (-58.70101 -34.90636, -58.70161 -34...</td>\n",
       "      <td>25442.975608</td>\n",
       "      <td>NaN</td>\n",
       "      <td>318.037195</td>\n",
       "      <td>318.037195</td>\n",
       "    </tr>\n",
       "    <tr>\n",
       "      <th>1</th>\n",
       "      <td>2</td>\n",
       "      <td>Nacional</td>\n",
       "      <td>0.082431</td>\n",
       "      <td>LINESTRING (-58.51885 -34.73520, -58.51885 -34...</td>\n",
       "      <td>7863.593912</td>\n",
       "      <td>NaN</td>\n",
       "      <td>98.294924</td>\n",
       "      <td>98.294924</td>\n",
       "    </tr>\n",
       "    <tr>\n",
       "      <th>2</th>\n",
       "      <td>3</td>\n",
       "      <td>Nacional</td>\n",
       "      <td>0.003143</td>\n",
       "      <td>LINESTRING (-58.48866 -34.69103, -58.48859 -34...</td>\n",
       "      <td>198.774530</td>\n",
       "      <td>1.0</td>\n",
       "      <td>2.484682</td>\n",
       "      <td>0.296678</td>\n",
       "    </tr>\n",
       "    <tr>\n",
       "      <th>3</th>\n",
       "      <td>4</td>\n",
       "      <td>Nacional</td>\n",
       "      <td>0.040386</td>\n",
       "      <td>LINESTRING (-58.52835 -34.65379, -58.52825 -34...</td>\n",
       "      <td>6544.503996</td>\n",
       "      <td>NaN</td>\n",
       "      <td>81.806300</td>\n",
       "      <td>81.806300</td>\n",
       "    </tr>\n",
       "    <tr>\n",
       "      <th>4</th>\n",
       "      <td>5</td>\n",
       "      <td>Provincial</td>\n",
       "      <td>0.030618</td>\n",
       "      <td>LINESTRING (-58.59084 -34.64575, -58.59089 -34...</td>\n",
       "      <td>3512.694100</td>\n",
       "      <td>NaN</td>\n",
       "      <td>43.908676</td>\n",
       "      <td>43.908676</td>\n",
       "    </tr>\n",
       "  </tbody>\n",
       "</table>\n",
       "</div>"
      ],
      "text/plain": [
       "   OBJECTID         hct  Shape_Leng  \\\n",
       "0         1    Nacional    0.268575   \n",
       "1         2    Nacional    0.082431   \n",
       "2         3    Nacional    0.003143   \n",
       "3         4    Nacional    0.040386   \n",
       "4         5  Provincial    0.030618   \n",
       "\n",
       "                                            geometry         len_m  bus_p  \\\n",
       "0  LINESTRING (-58.70101 -34.90636, -58.70161 -34...  25442.975608    NaN   \n",
       "1  LINESTRING (-58.51885 -34.73520, -58.51885 -34...   7863.593912    NaN   \n",
       "2  LINESTRING (-58.48866 -34.69103, -58.48859 -34...    198.774530    1.0   \n",
       "3  LINESTRING (-58.52835 -34.65379, -58.52825 -34...   6544.503996    NaN   \n",
       "4  LINESTRING (-58.59084 -34.64575, -58.59089 -34...   3512.694100    NaN   \n",
       "\n",
       "   ttime_walking  ttime_wbus  \n",
       "0     318.037195  318.037195  \n",
       "1      98.294924   98.294924  \n",
       "2       2.484682    0.296678  \n",
       "3      81.806300   81.806300  \n",
       "4      43.908676   43.908676  "
      ]
     },
     "execution_count": 32,
     "metadata": {},
     "output_type": "execute_result"
    }
   ],
   "source": [
    "# calculate travel time for each street\n",
    "df_calles_lm_bu['ttime_walking'] = df_calles_lm_bu['len_m'] / 80\n",
    "df_calles_lm_bu['ttime_wbus'] = df_calles_lm_bu['len_m'] / 80\n",
    "df_calles_lm_bu.loc[df_calles_lm_bu.bus_p.notnull(), 'ttime_wbus'] = df_calles_lm_bu['len_m'] / 670\n",
    "df_calles_lm_bu.head()"
   ]
  },
  {
   "cell_type": "code",
   "execution_count": 33,
   "metadata": {},
   "outputs": [
    {
     "name": "stderr",
     "output_type": "stream",
     "text": [
      "c:\\Users\\Compumar\\anaconda3\\envs\\GeoAnalysis\\lib\\site-packages\\ipykernel_launcher.py:2: UserWarning: Column names longer than 10 characters will be truncated when saved to ESRI Shapefile.\n",
      "  \n"
     ]
    }
   ],
   "source": [
    "# save result\n",
    "df_calles_lm_bu.to_file(\"../DatosProcesados/CallesNetwork/Calles_traveltime.shp\")"
   ]
  },
  {
   "cell_type": "markdown",
   "metadata": {},
   "source": [
    "### Run Network Analyst in ArcGIS"
   ]
  },
  {
   "cell_type": "code",
   "execution_count": null,
   "metadata": {},
   "outputs": [],
   "source": []
  }
 ],
 "metadata": {
  "kernelspec": {
   "display_name": "Python 3.7.8 ('GeoAnalysis')",
   "language": "python",
   "name": "python3"
  },
  "language_info": {
   "codemirror_mode": {
    "name": "ipython",
    "version": 3
   },
   "file_extension": ".py",
   "mimetype": "text/x-python",
   "name": "python",
   "nbconvert_exporter": "python",
   "pygments_lexer": "ipython3",
   "version": "3.7.8"
  },
  "orig_nbformat": 4,
  "vscode": {
   "interpreter": {
    "hash": "76d8fbc8f8336675a1901d9de0a2c7c06ee4b86e9ca9d1443f3f5d90eeade619"
   }
  }
 },
 "nbformat": 4,
 "nbformat_minor": 2
}
