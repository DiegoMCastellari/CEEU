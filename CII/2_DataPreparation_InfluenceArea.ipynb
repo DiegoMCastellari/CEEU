{
 "cells": [
  {
   "cell_type": "code",
   "execution_count": 1,
   "metadata": {},
   "outputs": [],
   "source": [
    "import pandas as pd\n",
    "import geopandas as gpd"
   ]
  },
  {
   "cell_type": "markdown",
   "metadata": {},
   "source": [
    "# Create Influence Area for de polygon"
   ]
  },
  {
   "cell_type": "code",
   "execution_count": 2,
   "metadata": {},
   "outputs": [],
   "source": [
    "df_predio = gpd.read_file(\"../DatosProcesados/Predio/Predio.shp\")\n",
    "\n",
    "# create a 400m buffer\n",
    "df_predio_buffer_400 = df_predio.copy() \n",
    "df_predio_buffer_400 = df_predio_buffer_400.to_crs(\"EPSG:5347\") \n",
    "df_predio_buffer_400.geometry = df_predio_buffer_400.buffer(400)\n",
    "df_predio_buffer_400 = df_predio_buffer_400.to_crs(\"EPSG:4326\")\n",
    "df_predio_buffer_400.to_file(\"../DatosProcesados/AreaInfluencia/predio_buffer_400m.shp\")\n",
    "\n",
    "# create a 1200m buffer\n",
    "df_predio_buffer_1200 = df_predio.copy() \n",
    "df_predio_buffer_1200 = df_predio_buffer_1200.to_crs(\"EPSG:5347\") \n",
    "df_predio_buffer_1200.geometry = df_predio_buffer_1200.buffer(1200)\n",
    "df_predio_buffer_1200 = df_predio_buffer_1200.to_crs(\"EPSG:4326\")\n",
    "df_predio_buffer_1200.to_file(\"../DatosProcesados/AreaInfluencia/predio_buffer_1200m.shp\")"
   ]
  },
  {
   "cell_type": "markdown",
   "metadata": {},
   "source": [
    "# Create Influence Area for travel time"
   ]
  },
  {
   "cell_type": "code",
   "execution_count": 17,
   "metadata": {},
   "outputs": [],
   "source": [
    "# import network analysis result: 10min travel time\n",
    "df_ttime_10min = gpd.read_file(\"../DatosProcesados/AreaInfluencia/traveltime_bus_10min.shp\")\n",
    "\n",
    "# concat with 1200m radius buffer\n",
    "df_ia_1 = pd.concat([df_predio_buffer_1200[['geometry']], df_ttime_10min[['geometry']]])\n",
    "# dissolver both geometries\n",
    "df_ia_1['dis'] = 'x'\n",
    "df_ia_1 = df_ia_1.dissolve(by='dis').reset_index()\n",
    "# calculate area\n",
    "df_ia_1 = df_ia_1.to_crs(\"EPSG:5347\") \n",
    "df_ia_1['sup_m2'] = df_ia_1.area\n",
    "df_ia_1 = df_ia_1.to_crs(\"EPSG:4326\")\n",
    "\n",
    "# save result\n",
    "df_ia_1.to_file(\"../DatosProcesados/AreaInfluencia/predio_ttime10min_1200m.shp\")"
   ]
  },
  {
   "cell_type": "code",
   "execution_count": null,
   "metadata": {},
   "outputs": [],
   "source": []
  }
 ],
 "metadata": {
  "kernelspec": {
   "display_name": "Python 3.7.8 ('GeoAnalysis')",
   "language": "python",
   "name": "python3"
  },
  "language_info": {
   "codemirror_mode": {
    "name": "ipython",
    "version": 3
   },
   "file_extension": ".py",
   "mimetype": "text/x-python",
   "name": "python",
   "nbconvert_exporter": "python",
   "pygments_lexer": "ipython3",
   "version": "3.7.8"
  },
  "orig_nbformat": 4,
  "vscode": {
   "interpreter": {
    "hash": "76d8fbc8f8336675a1901d9de0a2c7c06ee4b86e9ca9d1443f3f5d90eeade619"
   }
  }
 },
 "nbformat": 4,
 "nbformat_minor": 2
}
