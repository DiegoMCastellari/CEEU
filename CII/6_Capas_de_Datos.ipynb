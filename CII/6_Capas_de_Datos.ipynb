{
 "cells": [
  {
   "cell_type": "code",
   "execution_count": 1,
   "metadata": {},
   "outputs": [],
   "source": [
    "import pandas as pd\n",
    "import geopandas as gpd"
   ]
  },
  {
   "cell_type": "code",
   "execution_count": 2,
   "metadata": {},
   "outputs": [],
   "source": [
    "df_b400 = gpd.read_file(\"../DatosProcesados/AreaInfluencia/predio_buffer_400m.shp\")\n",
    "df_b1200 = gpd.read_file(\"../DatosProcesados/AreaInfluencia/predio_buffer_1200m.shp\")\n",
    "df_ttim10min_b1200 = gpd.read_file(\"../DatosProcesados/AreaInfluencia/predio_ttime10min_1200m_manual.shp\")\n",
    "df_CiudadEvita = gpd.read_file(\"../QGIS_projects/Datos/CiudadEvita.shp\")\n",
    "df_IsidroCasanova = gpd.read_file(\"../QGIS_projects/Datos/IsidroCasanova.shp\")\n",
    "df_muni = gpd.read_file(\"D:/JOB/UNSAM/2022 - CII/Datos/municipio/municipio.shp\")\n",
    "df_muni = df_muni.loc[df_muni.nam == 'La Matanza', ['geometry']]\n",
    "lista_areas = [[df_b400, 'buffer_400'], [df_b1200, 'buffer_1200'], [df_ttim10min_b1200, 't10min_b1200'], \n",
    "               [df_CiudadEvita, 'Ciudad_Evita'], [df_IsidroCasanova, 'Isidro_Casanova'], [df_muni, 'La_Matanza']]"
   ]
  },
  {
   "cell_type": "markdown",
   "metadata": {},
   "source": [
    "# Densidad y NBI en Área de Influencia"
   ]
  },
  {
   "cell_type": "code",
   "execution_count": 4,
   "metadata": {},
   "outputs": [],
   "source": [
    "# census data\n",
    "df_census = gpd.read_file(\"../DatosProcesados/Sociodemograficos/DatosCensales.geojson\", driver='GeoJSON')"
   ]
  },
  {
   "cell_type": "code",
   "execution_count": 44,
   "metadata": {},
   "outputs": [],
   "source": [
    "df_ttim10min_b1200_intersection = df_ttim10min_b1200.overlay(df_census, how='intersection')\n",
    "df_ttim10min_b1200_intersection['sup_k2'] = df_ttim10min_b1200_intersection['sup_m2'] / 1000000\n",
    "df_ttim10min_b1200_intersection['densidad_habkm2'] = round(df_ttim10min_b1200_intersection['personas']/df_ttim10min_b1200_intersection['sup_k2'],0)\n",
    "df_ttim10min_b1200_intersection.to_file(\"../QGIS_projects/Datos/Datos_inter/AI_datos_censales.geojson\", driver='GeoJSON')"
   ]
  },
  {
   "cell_type": "markdown",
   "metadata": {},
   "source": [
    "# Centros comunitarios y de deporte dentro de 1200m"
   ]
  },
  {
   "cell_type": "code",
   "execution_count": 23,
   "metadata": {},
   "outputs": [],
   "source": [
    "# sport and recreation\n",
    "df_sport = gpd.read_file(\"../DatosProcesados/Urbanos/CentrosDeportes.geojson\", driver='GeoJSON')\n",
    "df_comcenter = gpd.read_file(\"../DatosProcesados/Urbanos/CentrosComunitarios.geojson\", driver='GeoJSON')"
   ]
  },
  {
   "cell_type": "code",
   "execution_count": 43,
   "metadata": {},
   "outputs": [],
   "source": [
    "df_b1200_sport = df_sport.sjoin(df_b1200[['geometry']])\n",
    "df_b1200_sport.drop(columns='index_right', inplace=True)\n",
    "df_b1200_sport.to_file(\"../QGIS_projects/Datos/Datos_inter/AI_datos_centros_deporte.geojson\", driver='GeoJSON')"
   ]
  },
  {
   "cell_type": "code",
   "execution_count": 41,
   "metadata": {},
   "outputs": [
    {
     "data": {
      "text/plain": [
       "' df_b1200_comcenter = df_comcenter.sjoin(df_b1200[[\\'geometry\\']])\\ndf_b1200_comcenter.drop(columns=\\'index_right\\', inplace=True)\\ndf_b1200_comcenter.to_file(\"../QGIS_projects/Datos/Datos_inter/AI_datos_centros_comunitarios.shp\") '"
      ]
     },
     "execution_count": 41,
     "metadata": {},
     "output_type": "execute_result"
    }
   ],
   "source": [
    "\"\"\" df_b1200_comcenter = df_comcenter.sjoin(df_b1200[['geometry']])\n",
    "df_b1200_comcenter.drop(columns='index_right', inplace=True)\n",
    "df_b1200_comcenter.to_file(\"../QGIS_projects/Datos/Datos_inter/AI_datos_centros_comunitarios.geojson\", driver='GeoJSON') \"\"\""
   ]
  },
  {
   "cell_type": "code",
   "execution_count": null,
   "metadata": {},
   "outputs": [],
   "source": []
  }
 ],
 "metadata": {
  "kernelspec": {
   "display_name": "GeoAnalysis",
   "language": "python",
   "name": "python3"
  },
  "language_info": {
   "codemirror_mode": {
    "name": "ipython",
    "version": 3
   },
   "file_extension": ".py",
   "mimetype": "text/x-python",
   "name": "python",
   "nbconvert_exporter": "python",
   "pygments_lexer": "ipython3",
   "version": "3.7.8"
  },
  "orig_nbformat": 4,
  "vscode": {
   "interpreter": {
    "hash": "76d8fbc8f8336675a1901d9de0a2c7c06ee4b86e9ca9d1443f3f5d90eeade619"
   }
  }
 },
 "nbformat": 4,
 "nbformat_minor": 2
}
