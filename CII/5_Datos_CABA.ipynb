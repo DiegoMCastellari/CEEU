{
 "cells": [
  {
   "cell_type": "code",
   "execution_count": 1,
   "metadata": {},
   "outputs": [],
   "source": [
    "import pandas as pd\n",
    "import geopandas as gpd"
   ]
  },
  {
   "cell_type": "code",
   "execution_count": 2,
   "metadata": {},
   "outputs": [],
   "source": [
    "df_CABA = gpd.read_file(\"../QGIS_projects/Datos/CiudadBA.shp\")\n",
    "df_AMBA = gpd.read_file(\"../QGIS_projects/Datos/AMBA.shp\")\n",
    "df_censo2010 = gpd.read_file(\"../Datos/CABA/informacion_censal_por_radio_2010_wgs84.shp\")\n",
    "df_evp = gpd.read_file(\"../Datos/CABA/espacio_verde_publico_wgs84.shp\")\n",
    "df_pobla = gpd.read_file(\"D:/JOB/UNSAM/2022 - CII/Datos/Sociodemografico/PBA_poblacion_y_datos_basicos_2010.shp\")"
   ]
  },
  {
   "attachments": {},
   "cell_type": "markdown",
   "metadata": {},
   "source": [
    "# Datos CABA"
   ]
  },
  {
   "cell_type": "code",
   "execution_count": 26,
   "metadata": {},
   "outputs": [
    {
     "name": "stdout",
     "output_type": "stream",
     "text": [
      "DATOS CABA\n",
      "Habitantes totales: 2890151\n",
      "Densidad [hab/km²]: 14172\n",
      "Hogares totales: 1150134\n",
      "Hogares con NBI: 68776\n",
      "Porcentaje de hogares con NBI: 5.98\n",
      "Superficie Espacios Verdes [m²]: 16028443.191\n",
      "Superficie Espacios Verdes por habitantes [m²/hab]: 5.55\n"
     ]
    }
   ],
   "source": [
    "# calculate surface\n",
    "df_censo2010 = df_censo2010.to_crs(\"EPSG:5347\")\n",
    "df_censo2010['sup_k2'] = df_censo2010.area / 1000000\n",
    "df_censo2010 = df_censo2010.to_crs(\"EPSG:4326\")\n",
    "\n",
    "hobitantes_tot = df_censo2010.TOTAL_POB.sum()\n",
    "sup_tot_k2 = df_censo2010.sup_k2.sum()\n",
    "densidad = int(round(hobitantes_tot / sup_tot_k2, 0))\n",
    "hogares_tot = int(df_censo2010.T_HOGAR.sum())\n",
    "hogares_nbi = int(df_censo2010.H_CON_NBI.sum())\n",
    "hogares_nbi_porc = round(100* hogares_nbi / hogares_tot, 2)\n",
    "\n",
    "evp_sup_m2 = df_evp['area'].sum()\n",
    "evp_sup_m2_hab = round(evp_sup_m2 / hobitantes_tot, 2)\n",
    "\n",
    "print(\"DATOS CABA\")\n",
    "print(\"Habitantes totales:\", hobitantes_tot)\n",
    "print(\"Densidad [hab/km²]:\", densidad)\n",
    "print(\"Hogares totales:\", hogares_tot)\n",
    "print(\"Hogares con NBI:\", hogares_nbi)\n",
    "print(\"Porcentaje de hogares con NBI:\", hogares_nbi_porc)\n",
    "print(\"Superficie Espacios Verdes [m²]:\", evp_sup_m2)\n",
    "print(\"Superficie Espacios Verdes por habitantes [m²/hab]:\", evp_sup_m2_hab)"
   ]
  },
  {
   "cell_type": "markdown",
   "metadata": {},
   "source": [
    "# Datos AMBA"
   ]
  },
  {
   "cell_type": "code",
   "execution_count": 30,
   "metadata": {},
   "outputs": [],
   "source": [
    "df_AMBA_censo = df_AMBA.sjoin(df_pobla[['personas', 'geometry']])"
   ]
  },
  {
   "cell_type": "code",
   "execution_count": 35,
   "metadata": {},
   "outputs": [
    {
     "name": "stdout",
     "output_type": "stream",
     "text": [
      "DATOS AMBA\n",
      "Habitantes totales: 13540765\n"
     ]
    }
   ],
   "source": [
    "AMBA_habitantes_tot = int(df_AMBA_censo.personas.sum())\n",
    "print(\"DATOS AMBA\")\n",
    "print(\"Habitantes totales:\", AMBA_habitantes_tot)"
   ]
  },
  {
   "cell_type": "code",
   "execution_count": null,
   "metadata": {},
   "outputs": [],
   "source": []
  }
 ],
 "metadata": {
  "kernelspec": {
   "display_name": "GeoAnalysis",
   "language": "python",
   "name": "python3"
  },
  "language_info": {
   "codemirror_mode": {
    "name": "ipython",
    "version": 3
   },
   "file_extension": ".py",
   "mimetype": "text/x-python",
   "name": "python",
   "nbconvert_exporter": "python",
   "pygments_lexer": "ipython3",
   "version": "3.7.8"
  },
  "orig_nbformat": 4,
  "vscode": {
   "interpreter": {
    "hash": "76d8fbc8f8336675a1901d9de0a2c7c06ee4b86e9ca9d1443f3f5d90eeade619"
   }
  }
 },
 "nbformat": 4,
 "nbformat_minor": 2
}
