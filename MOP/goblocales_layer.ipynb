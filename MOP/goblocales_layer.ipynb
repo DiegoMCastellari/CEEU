{
 "cells": [
  {
   "cell_type": "code",
   "execution_count": 1,
   "metadata": {},
   "outputs": [],
   "source": [
    "import pandas as pd\n",
    "import geopandas as gpd\n",
    "from shapely.geometry import Point"
   ]
  },
  {
   "cell_type": "code",
   "execution_count": 2,
   "metadata": {},
   "outputs": [
    {
     "name": "stdout",
     "output_type": "stream",
     "text": [
      "cantidad de gob locales en capa: 2354\n",
      "cantidad de gob locales en tabla: 2309\n",
      "cantidad de gob locales de Jujuy: 3\n",
      "cantidad de gob locales en tabla en CABA: 0\n"
     ]
    }
   ],
   "source": [
    "# carga de datos\n",
    "gob_locales_mop = gpd.read_file('./gobiernos_locales_MOP/GobiernosLocales.shp')\n",
    "gob_locales_total = pd.read_csv('./tablas_MOP/Munis Totales_Municipios.csv', encoding='utf-8', sep=\";\")\n",
    "gob_locales_jujuy = pd.read_csv('./tablas_MOP/Municipios_Jujuy_NoSgo.csv', encoding='latin')\n",
    "\n",
    "print(\"cantidad de gob locales en capa:\", len(gob_locales_mop))\n",
    "print(\"cantidad de gob locales en tabla:\", len(gob_locales_total))\n",
    "print(\"cantidad de gob locales de Jujuy:\", len(gob_locales_jujuy))\n",
    "print(\"cantidad de gob locales en tabla en CABA:\", len(gob_locales_total.loc[gob_locales_total.Cpr == 2]))"
   ]
  },
  {
   "cell_type": "markdown",
   "metadata": {},
   "source": [
    "# Limpieza de datos en la tabla"
   ]
  },
  {
   "cell_type": "code",
   "execution_count": 3,
   "metadata": {},
   "outputs": [],
   "source": [
    "# Se eliminan los registros con UTA2020 = 0 y los duplicados por index\n",
    "gob_locales_total_clean = gob_locales_total.loc[gob_locales_total.UTA2020 != 0]\n",
    "gob_locales_total_clean = gob_locales_total_clean.drop(994)\n",
    "gob_locales_total_clean = gob_locales_total_clean.drop(1826)"
   ]
  },
  {
   "cell_type": "code",
   "execution_count": 4,
   "metadata": {},
   "outputs": [],
   "source": [
    "lista_correcciones = [    \n",
    "    # nombre, código UTA2020 correcto, (nombre al que corresponde), código en tabla\n",
    "    ['Camilo Aldao', 'CAMILO ALDAO', '140630490', '140490', 'Caminiaga', '141543120'],\n",
    "    ['Caminiaga', 'CAMINIAGA', '141543120', '143120', 'Canals', '141821624'],\n",
    "    ['Canals', 'CANALS', '141821624', '141624', 'Candelaria Sud', '141683169'],\n",
    "    ['Candelaria Sud', 'CANDELARIA SUD', '141683169', '143169', 'Cañada De Luque', '141681512'],\n",
    "    ['Cañada De Luque', 'CAÑADA DE LUQUE', '141681512', '141512', 'Cañada De Machado', '141052616'],\n",
    "    ['Cañada De Machado', 'CAÑADA DE MACHADO', '141052616', '142616', 'Cañada De Rio Pinto', '140492266'],\n",
    "    ['Cañada De Rio Pinto', 'CAÑADA DE RIO PINTO', '140492266', '142266', 'Cañada Del Sauce', '140072021'], # corrección no detectada\n",
    "]\n",
    "\n",
    "# corrección de códigos erróneos\n",
    "for i in lista_correcciones:\n",
    "    gob_locales_total_clean.loc[gob_locales_total_clean.Mun ==  i[1], 'UTA2020'] = int(i[2])  # UTA2020 string - Int Ppo int\n",
    "    gob_locales_total_clean.loc[gob_locales_total_clean.Mun ==  i[1], 'Codigo Ppo'] = int(i[2])\n",
    "    gob_locales_total_clean.loc[gob_locales_total_clean.Mun ==  i[1], 'Int Ppo'] = int(i[2])\n",
    "    gob_locales_total_clean.loc[gob_locales_total_clean.Mun ==  i[1], 'Cgl'] = int(i[3])"
   ]
  },
  {
   "cell_type": "code",
   "execution_count": 5,
   "metadata": {},
   "outputs": [
    {
     "name": "stdout",
     "output_type": "stream",
     "text": [
      "registros totales:  2309\n",
      "UTA2020 = 0:  1\n",
      "UTA2020 duplicados:  2\n",
      "UTA2020 totales:  2306\n",
      "----------------------\n",
      "registros limpios totales:  2306\n"
     ]
    }
   ],
   "source": [
    "print(\"registros totales: \", len(gob_locales_total))\n",
    "print(\"UTA2020 = 0: \", len(gob_locales_total.loc[gob_locales_total.UTA2020 == 0]))\n",
    "print(\"UTA2020 duplicados: \", len(gob_locales_total.loc[gob_locales_total.duplicated('UTA2020'), 'UTA2020']))\n",
    "print(\"UTA2020 totales: \", len(gob_locales_total)-len(gob_locales_total.loc[gob_locales_total.UTA2020 == 0])-len(gob_locales_total.loc[gob_locales_total.duplicated('UTA2020'), 'UTA2020']))\n",
    "print(\"----------------------\")\n",
    "print(\"registros limpios totales: \", len(gob_locales_total_clean))"
   ]
  },
  {
   "cell_type": "markdown",
   "metadata": {},
   "source": [
    "# Limpieza de la capa de Gobiernos Locales"
   ]
  },
  {
   "cell_type": "code",
   "execution_count": 6,
   "metadata": {},
   "outputs": [],
   "source": [
    "# código ppo mayor a mil (elimina provincias y país)\n",
    "gob_locales_mop_clean = gob_locales_mop.loc[gob_locales_mop.codigo_ppo > 1000]"
   ]
  },
  {
   "cell_type": "code",
   "execution_count": 7,
   "metadata": {},
   "outputs": [
    {
     "data": {
      "text/plain": [
       "2297    66160616.0\n",
       "Name: codigo_ppo, dtype: float64"
      ]
     },
     "execution_count": 7,
     "metadata": {},
     "output_type": "execute_result"
    }
   ],
   "source": [
    "# Busqueda de registros duplicados\n",
    "gob_locales_mop_clean.loc[gob_locales_mop_clean.codigo_ppo.duplicated(), 'codigo_ppo']"
   ]
  },
  {
   "cell_type": "code",
   "execution_count": 8,
   "metadata": {},
   "outputs": [],
   "source": [
    "# Elimina registro duplicado\n",
    "gob_locales_mop_clean = gob_locales_mop_clean.loc[(gob_locales_mop_clean.codigo_ppo != 66160616.0) | (gob_locales_mop_clean.observ == \"Corregido por capa departamentos IGN\")]"
   ]
  },
  {
   "cell_type": "code",
   "execution_count": 9,
   "metadata": {},
   "outputs": [],
   "source": [
    "# intercambio de coordenadas\n",
    "lista_geometrias = [\n",
    "    [141192819, 140282196],\n",
    "    [141261120, 140352252],\n",
    "    [861336528, 860566405],\n",
    "    [901190133, 900918560]\n",
    "]\n",
    "\n",
    "for p in lista_geometrias:\n",
    "\n",
    "    geom_1 = list(gob_locales_mop_clean.loc[gob_locales_mop_clean.codigo_ppo == p[0], 'geometry'])[0]\n",
    "    geom_2 = list(gob_locales_mop_clean.loc[gob_locales_mop_clean.codigo_ppo == p[1], 'geometry'])[0]\n",
    "\n",
    "    gob_locales_mop_clean.loc[gob_locales_mop_clean.codigo_ppo == p[0], 'geometry'] = geom_2\n",
    "    gob_locales_mop_clean.loc[gob_locales_mop_clean.codigo_ppo == p[1], 'geometry'] = geom_1"
   ]
  },
  {
   "cell_type": "code",
   "execution_count": 10,
   "metadata": {},
   "outputs": [
    {
     "name": "stdout",
     "output_type": "stream",
     "text": [
      "cantidad de gob locales en capa: 2328\n",
      "cantidad de gob locales en capa en CABA: 15\n",
      "cantidad de gob locales en tabla: 2306\n",
      "cantidad de gob locales en tabla en CABA: 0\n"
     ]
    }
   ],
   "source": [
    "print(\"cantidad de gob locales en capa:\", len(gob_locales_mop_clean))\n",
    "print(\"cantidad de gob locales en capa en CABA:\", len(gob_locales_mop_clean.loc[gob_locales_mop_clean.cpr == \"02\"]))\n",
    "print(\"cantidad de gob locales en tabla:\", len(gob_locales_total_clean))\n",
    "print(\"cantidad de gob locales en tabla en CABA:\", len(gob_locales_total_clean.loc[gob_locales_total_clean.Cpr == 2]))"
   ]
  },
  {
   "cell_type": "markdown",
   "metadata": {},
   "source": [
    "# Cruce entre gobiernos locales y tabla"
   ]
  },
  {
   "cell_type": "code",
   "execution_count": 11,
   "metadata": {},
   "outputs": [],
   "source": [
    "# merge entre la tabla de gob locales y la capa geográfica\n",
    "gob_merge = gob_locales_mop_clean.merge(gob_locales_total_clean, left_on='codigo_ppo', right_on='UTA2020', how='left')"
   ]
  },
  {
   "cell_type": "code",
   "execution_count": 12,
   "metadata": {},
   "outputs": [],
   "source": [
    "# separación entre los gob locales que están en la capa y la tabla de los que no están en la tabla\n",
    "gob_merge_sinMatch = gob_merge.loc[(gob_merge.UTA2020.isnull()) & (gob_merge.codigo_ppo > 30000000)]\n",
    "gob_merge_conMatch = gob_merge.loc[(gob_merge.UTA2020.notnull()) | (gob_merge.codigo_ppo < 30000000)]"
   ]
  },
  {
   "cell_type": "code",
   "execution_count": 13,
   "metadata": {},
   "outputs": [
    {
     "name": "stdout",
     "output_type": "stream",
     "text": [
      "cantidad de gob locales (capa): 2328\n",
      "cantidad de gob locales sin matcheo: 16 (0 CABA)\n",
      "cantidad de gob locales con matcheo: 2312 (2297 + 15 CABA)\n",
      "----------------------\n",
      "cantidad de gob locales nuevos de Jujuy: 3\n",
      "----------------------\n",
      "cantidad total de gob locales: 2315 (2300 sin CABA)\n"
     ]
    }
   ],
   "source": [
    "print(\"cantidad de gob locales (capa):\", len(gob_merge_sinMatch)+len(gob_merge_conMatch))\n",
    "print(\"cantidad de gob locales sin matcheo:\", len(gob_merge_sinMatch), \"(\"+ str(len(gob_merge_sinMatch.loc[gob_merge_sinMatch.cpr == \"02\"])) +\" CABA)\")\n",
    "print(\"cantidad de gob locales con matcheo:\", len(gob_merge_conMatch), \"(\"+ str(len(gob_merge_conMatch.loc[gob_merge_conMatch.cpr != \"02\"]))+\" + \"+str(len(gob_merge_conMatch.loc[gob_merge_conMatch.cpr == \"02\"]))+\" CABA)\")\n",
    "print(\"----------------------\")\n",
    "print(\"cantidad de gob locales nuevos de Jujuy:\", len(gob_locales_jujuy))\n",
    "print(\"----------------------\")\n",
    "print(\"cantidad total de gob locales:\", len(gob_locales_jujuy)+len(gob_merge_conMatch), \"(\"+ str(len(gob_locales_jujuy)+len(gob_merge_conMatch)-len(gob_merge_conMatch.loc[gob_merge_conMatch.cpr == \"02\"]))+\" sin CABA)\")"
   ]
  },
  {
   "cell_type": "markdown",
   "metadata": {},
   "source": [
    "## Procesar registros de tabla sin cruzar"
   ]
  },
  {
   "cell_type": "code",
   "execution_count": 14,
   "metadata": {},
   "outputs": [],
   "source": [
    "# generación de un campo booleano que guarda si el gob local está presente en la capa\n",
    "gob_locales_total_clean['isinmatch'] = 0\n",
    "\n",
    "for i in list(gob_locales_total_clean.UTA2020):\n",
    "    if len(gob_merge_conMatch.loc[gob_merge_conMatch.codigo_ppo == i]) == 0:\n",
    "        gob_locales_total_clean.loc[gob_locales_total_clean.UTA2020 == i, 'isinmatch'] = 1\n",
    "# dataframe con gob locales en tabla sin matchear con capa de gob locales\n",
    "gob_locales_total_clean_nomatch = gob_locales_total_clean.loc[gob_locales_total_clean.isinmatch == 1]"
   ]
  },
  {
   "cell_type": "code",
   "execution_count": 15,
   "metadata": {},
   "outputs": [
    {
     "name": "stdout",
     "output_type": "stream",
     "text": [
      "CAPA\n",
      "cantidad de gob locales: 2328\n",
      "cantidad de gob locales sin matcheo: 16 (0 CABA)\n",
      "cantidad de gob locales con matcheo: 2312 (2297 + 15 CABA)\n",
      "----------------------\n",
      "JUJUY\n",
      "cantidad de gob locales nuevos de Jujuy: 3\n",
      "----------------------\n",
      "TABLA\n",
      "cantidad de registros totales: 2309\n",
      "cantidad de registros UTA2020=0: 1\n",
      "cantidad de registros UTA2020 duplicados:  2\n",
      "cantidad de gob locales en tabla: 2306\n",
      "cantidad de gob locales en tabla no matcheados: 9\n",
      "----------------------\n",
      "TOTAL\n",
      "cantidad total de gob locales: 2324 (2309 sin CABA)\n"
     ]
    }
   ],
   "source": [
    "print(\"CAPA\")\n",
    "print(\"cantidad de gob locales:\", len(gob_merge_sinMatch)+len(gob_merge_conMatch))\n",
    "print(\"cantidad de gob locales sin matcheo:\", len(gob_merge_sinMatch), \"(\"+ str(len(gob_merge_sinMatch.loc[gob_merge_sinMatch.cpr == \"02\"])) +\" CABA)\")\n",
    "print(\"cantidad de gob locales con matcheo:\", len(gob_merge_conMatch), \"(\"+ str(len(gob_merge_conMatch.loc[gob_merge_conMatch.cpr != \"02\"]))+\" + \"+str(len(gob_merge_conMatch.loc[gob_merge_conMatch.cpr == \"02\"]))+\" CABA)\")\n",
    "print(\"----------------------\")\n",
    "print(\"JUJUY\")\n",
    "print(\"cantidad de gob locales nuevos de Jujuy:\", len(gob_locales_jujuy))\n",
    "print(\"----------------------\")\n",
    "print(\"TABLA\")\n",
    "print(\"cantidad de registros totales:\", len(gob_locales_total))\n",
    "print(\"cantidad de registros UTA2020=0:\", len(gob_locales_total.loc[gob_locales_total.UTA2020 == 0]))\n",
    "print(\"cantidad de registros UTA2020 duplicados: \", len(gob_locales_total.loc[gob_locales_total.duplicated('UTA2020'), 'UTA2020']))\n",
    "print(\"cantidad de gob locales en tabla:\", len(gob_locales_total_clean))\n",
    "print(\"cantidad de gob locales en tabla no matcheados:\", len(gob_locales_total_clean_nomatch))\n",
    "print(\"----------------------\")\n",
    "print(\"TOTAL\")\n",
    "totalgobs=len(gob_locales_jujuy)+len(gob_merge_conMatch)+len(gob_locales_total_clean_nomatch)\n",
    "print(\"cantidad total de gob locales:\", str(totalgobs), \"(\"+ str(totalgobs-len(gob_merge_conMatch.loc[gob_merge_conMatch.cpr == \"02\"]))+\" sin CABA)\")\n"
   ]
  },
  {
   "cell_type": "code",
   "execution_count": 16,
   "metadata": {},
   "outputs": [
    {
     "name": "stderr",
     "output_type": "stream",
     "text": [
      "c:\\Users\\Compumar\\anaconda3\\envs\\GeoAnalysis\\lib\\site-packages\\ipykernel_launcher.py:2: SettingWithCopyWarning: \n",
      "A value is trying to be set on a copy of a slice from a DataFrame.\n",
      "Try using .loc[row_indexer,col_indexer] = value instead\n",
      "\n",
      "See the caveats in the documentation: https://pandas.pydata.org/pandas-docs/stable/user_guide/indexing.html#returning-a-view-versus-a-copy\n",
      "  \n",
      "c:\\Users\\Compumar\\anaconda3\\envs\\GeoAnalysis\\lib\\site-packages\\ipykernel_launcher.py:3: SettingWithCopyWarning: \n",
      "A value is trying to be set on a copy of a slice from a DataFrame.\n",
      "Try using .loc[row_indexer,col_indexer] = value instead\n",
      "\n",
      "See the caveats in the documentation: https://pandas.pydata.org/pandas-docs/stable/user_guide/indexing.html#returning-a-view-versus-a-copy\n",
      "  This is separate from the ipykernel package so we can avoid doing imports until\n",
      "c:\\Users\\Compumar\\anaconda3\\envs\\GeoAnalysis\\lib\\site-packages\\ipykernel_launcher.py:4: SettingWithCopyWarning: \n",
      "A value is trying to be set on a copy of a slice from a DataFrame.\n",
      "Try using .loc[row_indexer,col_indexer] = value instead\n",
      "\n",
      "See the caveats in the documentation: https://pandas.pydata.org/pandas-docs/stable/user_guide/indexing.html#returning-a-view-versus-a-copy\n",
      "  after removing the cwd from sys.path.\n",
      "c:\\Users\\Compumar\\anaconda3\\envs\\GeoAnalysis\\lib\\site-packages\\ipykernel_launcher.py:5: SettingWithCopyWarning: \n",
      "A value is trying to be set on a copy of a slice from a DataFrame.\n",
      "Try using .loc[row_indexer,col_indexer] = value instead\n",
      "\n",
      "See the caveats in the documentation: https://pandas.pydata.org/pandas-docs/stable/user_guide/indexing.html#returning-a-view-versus-a-copy\n",
      "  \"\"\"\n"
     ]
    }
   ],
   "source": [
    "# campos longitud y latitud a float en gob locales no matcheados\n",
    "gob_locales_total_clean_nomatch['Longitud'] = gob_locales_total_clean_nomatch['Longitud'].str.replace(',', '.')\n",
    "gob_locales_total_clean_nomatch['Latitud'] = gob_locales_total_clean_nomatch['Latitud'].str.replace(',', '.')\n",
    "gob_locales_total_clean_nomatch['Longitud'] = gob_locales_total_clean_nomatch.Longitud.astype(float)\n",
    "gob_locales_total_clean_nomatch['Latitud'] = gob_locales_total_clean_nomatch.Latitud.astype(float)\n",
    "\n",
    "# creación de un dataframe a partir de los campos de coordenadas para los gob locales no matcheados\n",
    "gob_locales_total_clean_nomatch = gpd.GeoDataFrame(\n",
    "    gob_locales_total_clean_nomatch, \n",
    "    geometry= gpd.points_from_xy(gob_locales_total_clean_nomatch.Longitud, gob_locales_total_clean_nomatch.Latitud))"
   ]
  },
  {
   "cell_type": "code",
   "execution_count": 17,
   "metadata": {},
   "outputs": [],
   "source": [
    "# creación de una geometría de polígono a partir de un buffer de 10cm a partir de las coordenadas para los gob locales sin matchear\n",
    "gob_locales_total_clean_nomatch = gob_locales_total_clean_nomatch.set_crs(\"EPSG:4326\")\n",
    "gob_locales_total_clean_nomatch = gob_locales_total_clean_nomatch.to_crs(\"EPSG:3857\")\n",
    "gob_locales_total_clean_nomatch['geometry'] = gob_locales_total_clean_nomatch.buffer(0.01)\n",
    "gob_locales_total_clean_nomatch = gob_locales_total_clean_nomatch.to_crs(\"EPSG:4326\")"
   ]
  },
  {
   "cell_type": "code",
   "execution_count": 18,
   "metadata": {},
   "outputs": [],
   "source": [
    "# edición del campo gna\n",
    "gob_locales_total_clean_nomatch.loc[gob_locales_total_clean_nomatch.tipgobloc == 'Municipio', 'Gna'] = 'Municipio'\n",
    "gob_locales_total_clean_nomatch.loc[gob_locales_total_clean_nomatch.tipgobloc == 'Municipio de Primera', 'Gna'] = 'Municipio'\n",
    "gob_locales_total_clean_nomatch.loc[gob_locales_total_clean_nomatch.tipgobloc == 'Comuna', 'Gna'] = 'Comuna'\n",
    "gob_locales_total_clean_nomatch.loc[gob_locales_total_clean_nomatch.tipgobloc == 'Comision Municipal B', 'Gna'] = 'Comision Municipal'"
   ]
  },
  {
   "cell_type": "markdown",
   "metadata": {},
   "source": [
    "## Procesar polígonos de Jujuy"
   ]
  },
  {
   "cell_type": "code",
   "execution_count": 19,
   "metadata": {},
   "outputs": [],
   "source": [
    "# creación de un dataframe a partir de los campos de coordenadas para los gob locales de Jujuy\n",
    "gob_locales_jujuy = gpd.GeoDataFrame(\n",
    "    gob_locales_jujuy, \n",
    "    geometry= gpd.points_from_xy(gob_locales_jujuy.y, gob_locales_jujuy.x))\n",
    "\n",
    "# generación del campo UTA2020\n",
    "gob_locales_jujuy['UTA2020'] = gob_locales_jujuy.apply(lambda row: str(row['ID_Depto_INDEC']) + str(row['ID_GL_INDEC_2020 (sin reso)'])[2:], axis=1)"
   ]
  },
  {
   "cell_type": "code",
   "execution_count": 20,
   "metadata": {},
   "outputs": [
    {
     "data": {
      "text/html": [
       "<div>\n",
       "<style scoped>\n",
       "    .dataframe tbody tr th:only-of-type {\n",
       "        vertical-align: middle;\n",
       "    }\n",
       "\n",
       "    .dataframe tbody tr th {\n",
       "        vertical-align: top;\n",
       "    }\n",
       "\n",
       "    .dataframe thead th {\n",
       "        text-align: right;\n",
       "    }\n",
       "</style>\n",
       "<table border=\"1\" class=\"dataframe\">\n",
       "  <thead>\n",
       "    <tr style=\"text-align: right;\">\n",
       "      <th></th>\n",
       "      <th>Provincia</th>\n",
       "      <th>UTA2020</th>\n",
       "      <th>Departamento</th>\n",
       "      <th>In1</th>\n",
       "      <th>Mun</th>\n",
       "      <th>tipgobloc</th>\n",
       "      <th>Latitud</th>\n",
       "      <th>Longitud</th>\n",
       "      <th>geometry</th>\n",
       "      <th>Gna</th>\n",
       "    </tr>\n",
       "  </thead>\n",
       "  <tbody>\n",
       "    <tr>\n",
       "      <th>0</th>\n",
       "      <td>Jujuy</td>\n",
       "      <td>380286064</td>\n",
       "      <td>Humahuaca</td>\n",
       "      <td>386064</td>\n",
       "      <td>Palca de Aparzo</td>\n",
       "      <td>Comisión Municipal</td>\n",
       "      <td>-23.098639</td>\n",
       "      <td>-65.108196</td>\n",
       "      <td>POLYGON ((-65.10820 -23.09864, -65.10820 -23.0...</td>\n",
       "      <td>Comisión Municipal</td>\n",
       "    </tr>\n",
       "    <tr>\n",
       "      <th>1</th>\n",
       "      <td>Jujuy</td>\n",
       "      <td>380286065</td>\n",
       "      <td>Humahuaca</td>\n",
       "      <td>386065</td>\n",
       "      <td>Uquia</td>\n",
       "      <td>Comisión Municipal</td>\n",
       "      <td>-23.304496</td>\n",
       "      <td>-65.357177</td>\n",
       "      <td>POLYGON ((-65.35718 -23.30450, -65.35718 -23.3...</td>\n",
       "      <td>Comisión Municipal</td>\n",
       "    </tr>\n",
       "    <tr>\n",
       "      <th>2</th>\n",
       "      <td>Jujuy</td>\n",
       "      <td>380986204</td>\n",
       "      <td>Tumbaya</td>\n",
       "      <td>386204</td>\n",
       "      <td>El Moreno</td>\n",
       "      <td>Comisión Municipal</td>\n",
       "      <td>-23.853668</td>\n",
       "      <td>-65.831784</td>\n",
       "      <td>POLYGON ((-65.83178 -23.85367, -65.83178 -23.8...</td>\n",
       "      <td>Comisión Municipal</td>\n",
       "    </tr>\n",
       "  </tbody>\n",
       "</table>\n",
       "</div>"
      ],
      "text/plain": [
       "  Provincia    UTA2020 Departamento     In1              Mun  \\\n",
       "0     Jujuy  380286064    Humahuaca  386064  Palca de Aparzo   \n",
       "1     Jujuy  380286065    Humahuaca  386065            Uquia   \n",
       "2     Jujuy  380986204      Tumbaya  386204        El Moreno   \n",
       "\n",
       "            tipgobloc    Latitud   Longitud  \\\n",
       "0  Comisión Municipal -23.098639 -65.108196   \n",
       "1  Comisión Municipal -23.304496 -65.357177   \n",
       "2  Comisión Municipal -23.853668 -65.831784   \n",
       "\n",
       "                                            geometry                 Gna  \n",
       "0  POLYGON ((-65.10820 -23.09864, -65.10820 -23.0...  Comisión Municipal  \n",
       "1  POLYGON ((-65.35718 -23.30450, -65.35718 -23.3...  Comisión Municipal  \n",
       "2  POLYGON ((-65.83178 -23.85367, -65.83178 -23.8...  Comisión Municipal  "
      ]
     },
     "execution_count": 20,
     "metadata": {},
     "output_type": "execute_result"
    }
   ],
   "source": [
    "# filtro de las columnas de interés y cambio de nombre \n",
    "gob_locales_jujuy_2 = gob_locales_jujuy[['Provincia', 'UTA2020', 'Departamento', 'ID_GL_INDEC_2020 (sin reso)', 'Nombre del Gobierno Local', 'Categoría de Gobierno', 'x', 'y', 'geometry']]\n",
    "gob_locales_jujuy_2.columns = ['Provincia', 'UTA2020', 'Departamento', 'In1', 'Mun', 'tipgobloc', 'Latitud', 'Longitud', 'geometry']\n",
    "# creación de una geometría de polígono a partir de un buffer de 10cm a partir de las coordenadas para los gob locales de Jujuy\n",
    "gob_locales_jujuy_2 = gob_locales_jujuy_2.set_crs(\"EPSG:4326\")\n",
    "gob_locales_jujuy_2 = gob_locales_jujuy_2.to_crs(\"EPSG:3857\")\n",
    "gob_locales_jujuy_2['geometry'] = gob_locales_jujuy_2.buffer(0.01)\n",
    "gob_locales_jujuy_2 = gob_locales_jujuy_2.to_crs(\"EPSG:4326\")\n",
    "# edición del campo gna\n",
    "gob_locales_jujuy_2['Gna'] = 'Comisión Municipal'\n",
    "gob_locales_jujuy_2"
   ]
  },
  {
   "cell_type": "markdown",
   "metadata": {},
   "source": [
    "## Concatenar y exportar datos"
   ]
  },
  {
   "cell_type": "code",
   "execution_count": 21,
   "metadata": {},
   "outputs": [
    {
     "name": "stderr",
     "output_type": "stream",
     "text": [
      "c:\\Users\\Compumar\\anaconda3\\envs\\GeoAnalysis\\lib\\site-packages\\pandas\\core\\indexing.py:1745: SettingWithCopyWarning: \n",
      "A value is trying to be set on a copy of a slice from a DataFrame.\n",
      "Try using .loc[row_indexer,col_indexer] = value instead\n",
      "\n",
      "See the caveats in the documentation: https://pandas.pydata.org/pandas-docs/stable/user_guide/indexing.html#returning-a-view-versus-a-copy\n",
      "  isetter(ilocs[0], value)\n"
     ]
    }
   ],
   "source": [
    "# CABA fix\n",
    "gob_merge_conMatch.loc[gob_merge_conMatch.UTA2020.isnull(), 'Provincia'] = gob_merge_conMatch.loc[gob_merge_conMatch.UTA2020.isnull(), 'provincia']\n",
    "gob_merge_conMatch.loc[gob_merge_conMatch.UTA2020.isnull(), 'Mun'] = gob_merge_conMatch.loc[gob_merge_conMatch.UTA2020.isnull(), 'nam']\n",
    "gob_merge_conMatch.loc[gob_merge_conMatch.UTA2020.isnull(), 'Gna'] = gob_merge_conMatch.loc[gob_merge_conMatch.UTA2020.isnull(), 'gna']\n",
    "gob_merge_conMatch.loc[gob_merge_conMatch.UTA2020.isnull(), 'tipgobloc'] = gob_merge_conMatch.loc[gob_merge_conMatch.UTA2020.isnull(), 'gna']\n",
    "gob_merge_conMatch.loc[gob_merge_conMatch.UTA2020.isnull(), 'Fdc'] = gob_merge_conMatch.loc[gob_merge_conMatch.UTA2020.isnull(), 'fdc']\n",
    "gob_merge_conMatch.loc[gob_merge_conMatch.UTA2020.isnull(), 'Fuente'] = gob_merge_conMatch.loc[gob_merge_conMatch.UTA2020.isnull(), 'fuente']\n",
    "\n",
    "gob_merge_conMatch.loc[gob_merge_conMatch.UTA2020.isnull(), 'UTA2020'] = gob_merge_conMatch.loc[gob_merge_conMatch.UTA2020.isnull(), 'codigo_ppo']"
   ]
  },
  {
   "cell_type": "code",
   "execution_count": 22,
   "metadata": {},
   "outputs": [
    {
     "name": "stderr",
     "output_type": "stream",
     "text": [
      "c:\\Users\\Compumar\\anaconda3\\envs\\GeoAnalysis\\lib\\site-packages\\geopandas\\geodataframe.py:1351: SettingWithCopyWarning: \n",
      "A value is trying to be set on a copy of a slice from a DataFrame.\n",
      "Try using .loc[row_indexer,col_indexer] = value instead\n",
      "\n",
      "See the caveats in the documentation: https://pandas.pydata.org/pandas-docs/stable/user_guide/indexing.html#returning-a-view-versus-a-copy\n",
      "  super().__setitem__(key, value)\n"
     ]
    }
   ],
   "source": [
    "# generación de un booleano para reconocer los gob locales cuya geometría se generó a partir de un buffer\n",
    "gob_merge_conMatch['buffer'] = 0\n",
    "gob_locales_total_clean_nomatch['buffer'] = 1\n",
    "gob_locales_jujuy_2['buffer'] = 1"
   ]
  },
  {
   "cell_type": "code",
   "execution_count": 23,
   "metadata": {},
   "outputs": [
    {
     "name": "stdout",
     "output_type": "stream",
     "text": [
      "True\n"
     ]
    },
    {
     "data": {
      "text/html": [
       "<div>\n",
       "<style scoped>\n",
       "    .dataframe tbody tr th:only-of-type {\n",
       "        vertical-align: middle;\n",
       "    }\n",
       "\n",
       "    .dataframe tbody tr th {\n",
       "        vertical-align: top;\n",
       "    }\n",
       "\n",
       "    .dataframe thead th {\n",
       "        text-align: right;\n",
       "    }\n",
       "</style>\n",
       "<table border=\"1\" class=\"dataframe\">\n",
       "  <thead>\n",
       "    <tr style=\"text-align: right;\">\n",
       "      <th></th>\n",
       "      <th>cpr</th>\n",
       "      <th>Provincia</th>\n",
       "      <th>cde</th>\n",
       "      <th>Departamento</th>\n",
       "      <th>cgl</th>\n",
       "      <th>Municipio</th>\n",
       "      <th>UTA2020</th>\n",
       "      <th>indec2019</th>\n",
       "      <th>in1</th>\n",
       "      <th>CodRedatam</th>\n",
       "      <th>Gna</th>\n",
       "      <th>tipgobloc</th>\n",
       "      <th>Fdc</th>\n",
       "      <th>Fuente</th>\n",
       "      <th>Latitud</th>\n",
       "      <th>Longitud</th>\n",
       "      <th>buffer</th>\n",
       "      <th>geometry</th>\n",
       "    </tr>\n",
       "  </thead>\n",
       "  <tbody>\n",
       "    <tr>\n",
       "      <th>0</th>\n",
       "      <td>02</td>\n",
       "      <td>C.A.B.A.</td>\n",
       "      <td>007</td>\n",
       "      <td>NaN</td>\n",
       "      <td>022007</td>\n",
       "      <td>Comuna 1</td>\n",
       "      <td>020072007</td>\n",
       "      <td>nan</td>\n",
       "      <td>020001</td>\n",
       "      <td>nan</td>\n",
       "      <td>Comuna</td>\n",
       "      <td>Comuna</td>\n",
       "      <td>None</td>\n",
       "      <td>Capa Departamentos IGN</td>\n",
       "      <td>NaN</td>\n",
       "      <td>NaN</td>\n",
       "      <td>0</td>\n",
       "      <td>POLYGON ((-58.38609 -34.57823, -58.38592 -34.5...</td>\n",
       "    </tr>\n",
       "    <tr>\n",
       "      <th>1</th>\n",
       "      <td>02</td>\n",
       "      <td>C.A.B.A.</td>\n",
       "      <td>014</td>\n",
       "      <td>NaN</td>\n",
       "      <td>022014</td>\n",
       "      <td>Comuna 2</td>\n",
       "      <td>020142014</td>\n",
       "      <td>nan</td>\n",
       "      <td>020002</td>\n",
       "      <td>nan</td>\n",
       "      <td>Comuna</td>\n",
       "      <td>Comuna</td>\n",
       "      <td>None</td>\n",
       "      <td>Capa Departamentos IGN</td>\n",
       "      <td>NaN</td>\n",
       "      <td>NaN</td>\n",
       "      <td>0</td>\n",
       "      <td>POLYGON ((-58.38359 -34.57339, -58.38180 -34.5...</td>\n",
       "    </tr>\n",
       "    <tr>\n",
       "      <th>2</th>\n",
       "      <td>02</td>\n",
       "      <td>C.A.B.A.</td>\n",
       "      <td>021</td>\n",
       "      <td>NaN</td>\n",
       "      <td>022021</td>\n",
       "      <td>Comuna 3</td>\n",
       "      <td>020212021</td>\n",
       "      <td>nan</td>\n",
       "      <td>020003</td>\n",
       "      <td>nan</td>\n",
       "      <td>Comuna</td>\n",
       "      <td>Comuna</td>\n",
       "      <td>None</td>\n",
       "      <td>Capa Departamentos IGN</td>\n",
       "      <td>NaN</td>\n",
       "      <td>NaN</td>\n",
       "      <td>0</td>\n",
       "      <td>POLYGON ((-58.41026 -34.59811, -58.40939 -34.5...</td>\n",
       "    </tr>\n",
       "    <tr>\n",
       "      <th>3</th>\n",
       "      <td>02</td>\n",
       "      <td>C.A.B.A.</td>\n",
       "      <td>028</td>\n",
       "      <td>NaN</td>\n",
       "      <td>022028</td>\n",
       "      <td>Comuna 4</td>\n",
       "      <td>020282028</td>\n",
       "      <td>nan</td>\n",
       "      <td>020004</td>\n",
       "      <td>nan</td>\n",
       "      <td>Comuna</td>\n",
       "      <td>Comuna</td>\n",
       "      <td>None</td>\n",
       "      <td>Capa Departamentos IGN</td>\n",
       "      <td>NaN</td>\n",
       "      <td>NaN</td>\n",
       "      <td>0</td>\n",
       "      <td>POLYGON ((-58.35517 -34.61945, -58.35511 -34.6...</td>\n",
       "    </tr>\n",
       "    <tr>\n",
       "      <th>4</th>\n",
       "      <td>02</td>\n",
       "      <td>C.A.B.A.</td>\n",
       "      <td>035</td>\n",
       "      <td>NaN</td>\n",
       "      <td>022035</td>\n",
       "      <td>Comuna 5</td>\n",
       "      <td>020352035</td>\n",
       "      <td>nan</td>\n",
       "      <td>020005</td>\n",
       "      <td>nan</td>\n",
       "      <td>Comuna</td>\n",
       "      <td>Comuna</td>\n",
       "      <td>None</td>\n",
       "      <td>Capa Departamentos IGN</td>\n",
       "      <td>NaN</td>\n",
       "      <td>NaN</td>\n",
       "      <td>0</td>\n",
       "      <td>POLYGON ((-58.42271 -34.59773, -58.42174 -34.5...</td>\n",
       "    </tr>\n",
       "  </tbody>\n",
       "</table>\n",
       "</div>"
      ],
      "text/plain": [
       "  cpr Provincia  cde Departamento     cgl Municipio    UTA2020 indec2019  \\\n",
       "0  02  C.A.B.A.  007          NaN  022007  Comuna 1  020072007       nan   \n",
       "1  02  C.A.B.A.  014          NaN  022014  Comuna 2  020142014       nan   \n",
       "2  02  C.A.B.A.  021          NaN  022021  Comuna 3  020212021       nan   \n",
       "3  02  C.A.B.A.  028          NaN  022028  Comuna 4  020282028       nan   \n",
       "4  02  C.A.B.A.  035          NaN  022035  Comuna 5  020352035       nan   \n",
       "\n",
       "      in1 CodRedatam     Gna tipgobloc   Fdc                  Fuente Latitud  \\\n",
       "0  020001        nan  Comuna    Comuna  None  Capa Departamentos IGN     NaN   \n",
       "1  020002        nan  Comuna    Comuna  None  Capa Departamentos IGN     NaN   \n",
       "2  020003        nan  Comuna    Comuna  None  Capa Departamentos IGN     NaN   \n",
       "3  020004        nan  Comuna    Comuna  None  Capa Departamentos IGN     NaN   \n",
       "4  020005        nan  Comuna    Comuna  None  Capa Departamentos IGN     NaN   \n",
       "\n",
       "  Longitud  buffer                                           geometry  \n",
       "0      NaN       0  POLYGON ((-58.38609 -34.57823, -58.38592 -34.5...  \n",
       "1      NaN       0  POLYGON ((-58.38359 -34.57339, -58.38180 -34.5...  \n",
       "2      NaN       0  POLYGON ((-58.41026 -34.59811, -58.40939 -34.5...  \n",
       "3      NaN       0  POLYGON ((-58.35517 -34.61945, -58.35511 -34.6...  \n",
       "4      NaN       0  POLYGON ((-58.42271 -34.59773, -58.42174 -34.5...  "
      ]
     },
     "execution_count": 23,
     "metadata": {},
     "output_type": "execute_result"
    }
   ],
   "source": [
    "# concatenación de todos los dataframes de gob locales\n",
    "df_final = pd.concat([gob_merge_conMatch, gob_locales_total_clean_nomatch, gob_locales_jujuy_2])\n",
    "# edición de los campos UTA2020, indec2019 y CodRedatam\n",
    "df_final['UTA2020'] = df_final.apply(lambda row: str(row['UTA2020']).split('.')[0], axis=1)\n",
    "df_final['UTA2020'] = df_final.apply(lambda row: '0'+row['UTA2020'] if len(row['UTA2020']) ==8 else row['UTA2020'], axis=1)\n",
    "df_final['indec2019'] = df_final.apply(lambda row: str(row['indec2019']).split('.')[0], axis=1)\n",
    "df_final['CodRedatam'] = df_final.apply(lambda row: str(row['CodRedatam']).split('.')[0], axis=1)\n",
    "# generación de los códigos de pcia, depto y gob local\n",
    "df_final['cpr'] = df_final.apply(lambda row: str(row['UTA2020'])[:2], axis=1)\n",
    "df_final['cde'] = df_final.apply(lambda row: str(row['UTA2020'])[2:5], axis=1)\n",
    "df_final['cgl'] = df_final.apply(lambda row: str(row['UTA2020'])[:2] + str(row['UTA2020'])[5:9], axis=1)\n",
    "# capos strign a formato Title\n",
    "df_final['Provincia'] = df_final.Provincia.str.title()\n",
    "df_final['Departamento'] = df_final.Departamento.str.title()\n",
    "df_final['Mun'] = df_final.Mun.str.title()\n",
    "# filtro de los atributos de interés\n",
    "df_final = df_final[['cpr', 'Provincia', 'cde', 'Departamento', 'cgl', 'Mun', 'UTA2020', 'indec2019', 'in1', \n",
    "'CodRedatam', 'Gna', 'tipgobloc', 'Fdc', 'Fuente', 'Latitud', 'Longitud', 'buffer', 'geometry']]\n",
    "# cambio de nombre de columna\n",
    "df_final.rename(columns={'Mun':'Municipio'}, inplace=True)\n",
    "# ordenar por UTA2020\n",
    "df_final.sort_values('UTA2020', inplace=True)\n",
    "df_final.reset_index(inplace=True, drop=True)\n",
    "\n",
    "print(len(df_final) == len(df_final.UTA2020.unique()))\n",
    "df_final.head()"
   ]
  },
  {
   "cell_type": "code",
   "execution_count": 24,
   "metadata": {},
   "outputs": [
    {
     "name": "stderr",
     "output_type": "stream",
     "text": [
      "c:\\Users\\Compumar\\anaconda3\\envs\\GeoAnalysis\\lib\\site-packages\\ipykernel_launcher.py:3: UserWarning: Column names longer than 10 characters will be truncated when saved to ESRI Shapefile.\n",
      "  This is separate from the ipykernel package so we can avoid doing imports until\n"
     ]
    }
   ],
   "source": [
    "# exportación de los gob locales\n",
    "# gob_merge_sinMatch.to_file('./gobiernos_locales_shp/GobiernosLocales_sinMatch.shp')\n",
    "df_final.to_file('./gobiernos_locales_shp/GobiernosLocales.shp')"
   ]
  },
  {
   "cell_type": "markdown",
   "metadata": {},
   "source": [
    "# Agregar gob locales faltantes"
   ]
  },
  {
   "cell_type": "code",
   "execution_count": 25,
   "metadata": {},
   "outputs": [
    {
     "name": "stderr",
     "output_type": "stream",
     "text": [
      "c:\\Users\\Compumar\\anaconda3\\envs\\GeoAnalysis\\lib\\site-packages\\ipykernel_launcher.py:13: UserWarning: Geometry is in a geographic CRS. Results from 'centroid' are likely incorrect. Use 'GeoSeries.to_crs()' to re-project geometries to a projected CRS before this operation.\n",
      "\n",
      "  del sys.path[0]\n",
      "c:\\Users\\Compumar\\anaconda3\\envs\\GeoAnalysis\\lib\\site-packages\\ipykernel_launcher.py:14: UserWarning: Geometry is in a geographic CRS. Results from 'centroid' are likely incorrect. Use 'GeoSeries.to_crs()' to re-project geometries to a projected CRS before this operation.\n",
      "\n",
      "  \n"
     ]
    },
    {
     "data": {
      "text/html": [
       "<div>\n",
       "<style scoped>\n",
       "    .dataframe tbody tr th:only-of-type {\n",
       "        vertical-align: middle;\n",
       "    }\n",
       "\n",
       "    .dataframe tbody tr th {\n",
       "        vertical-align: top;\n",
       "    }\n",
       "\n",
       "    .dataframe thead th {\n",
       "        text-align: right;\n",
       "    }\n",
       "</style>\n",
       "<table border=\"1\" class=\"dataframe\">\n",
       "  <thead>\n",
       "    <tr style=\"text-align: right;\">\n",
       "      <th></th>\n",
       "      <th>cpr</th>\n",
       "      <th>Provincia</th>\n",
       "      <th>cgl</th>\n",
       "      <th>Municipio</th>\n",
       "      <th>UTA2020</th>\n",
       "      <th>Gna</th>\n",
       "      <th>Fdc</th>\n",
       "      <th>Fuente</th>\n",
       "      <th>geometry</th>\n",
       "      <th>cde</th>\n",
       "      <th>Departamento</th>\n",
       "      <th>indec2019</th>\n",
       "      <th>in1</th>\n",
       "      <th>CodRedatam</th>\n",
       "      <th>tipgobloc</th>\n",
       "      <th>Latitud</th>\n",
       "      <th>Longitud</th>\n",
       "      <th>buffer</th>\n",
       "    </tr>\n",
       "  </thead>\n",
       "  <tbody>\n",
       "    <tr>\n",
       "      <th>152</th>\n",
       "      <td>38</td>\n",
       "      <td>Jujuy</td>\n",
       "      <td>386140</td>\n",
       "      <td>Cusi Cusi</td>\n",
       "      <td>380776140</td>\n",
       "      <td>Comisión Municipal</td>\n",
       "      <td>Direc. Grl. de Catastro</td>\n",
       "      <td>IGN: Capa municipios</td>\n",
       "      <td>POLYGON ((-66.40999 -22.18012, -66.40951 -22.1...</td>\n",
       "      <td>077</td>\n",
       "      <td>Santa Catalina</td>\n",
       "      <td>0</td>\n",
       "      <td>0</td>\n",
       "      <td>0</td>\n",
       "      <td>Comisión Municipal</td>\n",
       "      <td>-22.492077</td>\n",
       "      <td>-66.741029</td>\n",
       "      <td>0</td>\n",
       "    </tr>\n",
       "    <tr>\n",
       "      <th>498</th>\n",
       "      <td>14</td>\n",
       "      <td>Córdoba</td>\n",
       "      <td>142021</td>\n",
       "      <td>Cañada del  Sauce</td>\n",
       "      <td>140072021</td>\n",
       "      <td>Comuna</td>\n",
       "      <td>Direc. Grl. de Catastro</td>\n",
       "      <td>IGN: Capa municipios</td>\n",
       "      <td>MULTIPOLYGON (((-64.62405 -32.35469, -64.62334...</td>\n",
       "      <td>007</td>\n",
       "      <td>Calamuchita</td>\n",
       "      <td>0</td>\n",
       "      <td>0</td>\n",
       "      <td>0</td>\n",
       "      <td>Comuna</td>\n",
       "      <td>-32.382720</td>\n",
       "      <td>-64.636927</td>\n",
       "      <td>0</td>\n",
       "    </tr>\n",
       "  </tbody>\n",
       "</table>\n",
       "</div>"
      ],
      "text/plain": [
       "    cpr Provincia     cgl          Municipio    UTA2020                 Gna  \\\n",
       "152  38     Jujuy  386140          Cusi Cusi  380776140  Comisión Municipal   \n",
       "498  14   Córdoba  142021  Cañada del  Sauce  140072021              Comuna   \n",
       "\n",
       "                         Fdc                Fuente  \\\n",
       "152  Direc. Grl. de Catastro  IGN: Capa municipios   \n",
       "498  Direc. Grl. de Catastro  IGN: Capa municipios   \n",
       "\n",
       "                                              geometry  cde    Departamento  \\\n",
       "152  POLYGON ((-66.40999 -22.18012, -66.40951 -22.1...  077  Santa Catalina   \n",
       "498  MULTIPOLYGON (((-64.62405 -32.35469, -64.62334...  007     Calamuchita   \n",
       "\n",
       "     indec2019  in1  CodRedatam           tipgobloc    Latitud   Longitud  \\\n",
       "152          0    0           0  Comisión Municipal -22.492077 -66.741029   \n",
       "498          0    0           0              Comuna -32.382720 -64.636927   \n",
       "\n",
       "     buffer  \n",
       "152       0  \n",
       "498       0  "
      ]
     },
     "execution_count": 25,
     "metadata": {},
     "output_type": "execute_result"
    }
   ],
   "source": [
    "# Se recuperan dos gob locales faltantes de la capa geográfica original, que fueron filtrados por tener datos incompletos\n",
    "df_2faltantes = gob_locales_mop.loc[(gob_locales_mop.codigo_ppo == 140072021)|(gob_locales_mop.codigo_ppo == 380776140), ['cpr', 'provincia',  'cgl', 'nam', 'codigo_ppo', 'gna', 'fdc', 'fuente', 'geometry']]\n",
    "df_2faltantes.rename(columns={'provincia':'Provincia', 'nam':'Municipio', 'codigo_ppo':'UTA2020', 'gna':'Gna', 'fdc':'Fdc', 'fuente':'Fuente'}, inplace=True)\n",
    "# se cargan los datos de los gob locales\n",
    "df_2faltantes.loc[df_2faltantes.UTA2020 == 140072021, 'cde'] = '007'\n",
    "df_2faltantes.loc[df_2faltantes.UTA2020 == 140072021, 'Departamento'] = 'Calamuchita'\n",
    "df_2faltantes.loc[df_2faltantes.UTA2020 == 380776140, 'cde'] = '077'\n",
    "df_2faltantes.loc[df_2faltantes.UTA2020 == 380776140, 'Departamento'] = 'Santa Catalina'\n",
    "df_2faltantes['indec2019'] = 0\n",
    "df_2faltantes['in1'] = 0\n",
    "df_2faltantes['CodRedatam'] = 0\n",
    "df_2faltantes['tipgobloc'] = df_2faltantes['Gna']\n",
    "df_2faltantes['Latitud'] = df_2faltantes.centroid.y\n",
    "df_2faltantes['Longitud'] = df_2faltantes.centroid.x\n",
    "df_2faltantes['buffer'] = 0\n",
    "df_2faltantes.UTA2020 = df_2faltantes.UTA2020.astype(int)\n",
    "df_2faltantes.UTA2020 = df_2faltantes.UTA2020.astype(str)\n",
    "df_2faltantes"
   ]
  },
  {
   "cell_type": "code",
   "execution_count": 26,
   "metadata": {},
   "outputs": [
    {
     "name": "stderr",
     "output_type": "stream",
     "text": [
      "c:\\Users\\Compumar\\anaconda3\\envs\\GeoAnalysis\\lib\\site-packages\\ipykernel_launcher.py:4: UserWarning: Geometry is in a geographic CRS. Results from 'centroid' are likely incorrect. Use 'GeoSeries.to_crs()' to re-project geometries to a projected CRS before this operation.\n",
      "\n",
      "  after removing the cwd from sys.path.\n",
      "c:\\Users\\Compumar\\anaconda3\\envs\\GeoAnalysis\\lib\\site-packages\\ipykernel_launcher.py:5: UserWarning: Geometry is in a geographic CRS. Results from 'centroid' are likely incorrect. Use 'GeoSeries.to_crs()' to re-project geometries to a projected CRS before this operation.\n",
      "\n",
      "  \"\"\"\n"
     ]
    },
    {
     "data": {
      "text/html": [
       "<div>\n",
       "<style scoped>\n",
       "    .dataframe tbody tr th:only-of-type {\n",
       "        vertical-align: middle;\n",
       "    }\n",
       "\n",
       "    .dataframe tbody tr th {\n",
       "        vertical-align: top;\n",
       "    }\n",
       "\n",
       "    .dataframe thead th {\n",
       "        text-align: right;\n",
       "    }\n",
       "</style>\n",
       "<table border=\"1\" class=\"dataframe\">\n",
       "  <thead>\n",
       "    <tr style=\"text-align: right;\">\n",
       "      <th></th>\n",
       "      <th>cpr</th>\n",
       "      <th>Provincia</th>\n",
       "      <th>cde</th>\n",
       "      <th>Departamento</th>\n",
       "      <th>cgl</th>\n",
       "      <th>Municipio</th>\n",
       "      <th>UTA2020</th>\n",
       "      <th>indec2019</th>\n",
       "      <th>in1</th>\n",
       "      <th>CodRedatam</th>\n",
       "      <th>Gna</th>\n",
       "      <th>tipgobloc</th>\n",
       "      <th>Fdc</th>\n",
       "      <th>Fuente</th>\n",
       "      <th>Latitud</th>\n",
       "      <th>Longitud</th>\n",
       "      <th>buffer</th>\n",
       "      <th>geometry</th>\n",
       "    </tr>\n",
       "  </thead>\n",
       "  <tbody>\n",
       "    <tr>\n",
       "      <th>0</th>\n",
       "      <td>02</td>\n",
       "      <td>C.A.B.A.</td>\n",
       "      <td>007</td>\n",
       "      <td>NaN</td>\n",
       "      <td>022007</td>\n",
       "      <td>Comuna 1</td>\n",
       "      <td>020072007</td>\n",
       "      <td>nan</td>\n",
       "      <td>020001</td>\n",
       "      <td>nan</td>\n",
       "      <td>Comuna</td>\n",
       "      <td>Comuna</td>\n",
       "      <td>None</td>\n",
       "      <td>Capa Departamentos IGN</td>\n",
       "      <td>-34.6064</td>\n",
       "      <td>-58.3715</td>\n",
       "      <td>0</td>\n",
       "      <td>POLYGON ((-58.38609 -34.57823, -58.38592 -34.5...</td>\n",
       "    </tr>\n",
       "    <tr>\n",
       "      <th>1</th>\n",
       "      <td>02</td>\n",
       "      <td>C.A.B.A.</td>\n",
       "      <td>014</td>\n",
       "      <td>NaN</td>\n",
       "      <td>022014</td>\n",
       "      <td>Comuna 2</td>\n",
       "      <td>020142014</td>\n",
       "      <td>nan</td>\n",
       "      <td>020002</td>\n",
       "      <td>nan</td>\n",
       "      <td>Comuna</td>\n",
       "      <td>Comuna</td>\n",
       "      <td>None</td>\n",
       "      <td>Capa Departamentos IGN</td>\n",
       "      <td>-34.5858</td>\n",
       "      <td>-58.3949</td>\n",
       "      <td>0</td>\n",
       "      <td>POLYGON ((-58.38359 -34.57339, -58.38180 -34.5...</td>\n",
       "    </tr>\n",
       "    <tr>\n",
       "      <th>2</th>\n",
       "      <td>02</td>\n",
       "      <td>C.A.B.A.</td>\n",
       "      <td>021</td>\n",
       "      <td>NaN</td>\n",
       "      <td>022021</td>\n",
       "      <td>Comuna 3</td>\n",
       "      <td>020212021</td>\n",
       "      <td>nan</td>\n",
       "      <td>020003</td>\n",
       "      <td>nan</td>\n",
       "      <td>Comuna</td>\n",
       "      <td>Comuna</td>\n",
       "      <td>None</td>\n",
       "      <td>Capa Departamentos IGN</td>\n",
       "      <td>-34.6138</td>\n",
       "      <td>-58.4027</td>\n",
       "      <td>0</td>\n",
       "      <td>POLYGON ((-58.41026 -34.59811, -58.40939 -34.5...</td>\n",
       "    </tr>\n",
       "    <tr>\n",
       "      <th>3</th>\n",
       "      <td>02</td>\n",
       "      <td>C.A.B.A.</td>\n",
       "      <td>028</td>\n",
       "      <td>NaN</td>\n",
       "      <td>022028</td>\n",
       "      <td>Comuna 4</td>\n",
       "      <td>020282028</td>\n",
       "      <td>nan</td>\n",
       "      <td>020004</td>\n",
       "      <td>nan</td>\n",
       "      <td>Comuna</td>\n",
       "      <td>Comuna</td>\n",
       "      <td>None</td>\n",
       "      <td>Capa Departamentos IGN</td>\n",
       "      <td>-34.6421</td>\n",
       "      <td>-58.3875</td>\n",
       "      <td>0</td>\n",
       "      <td>POLYGON ((-58.35517 -34.61945, -58.35511 -34.6...</td>\n",
       "    </tr>\n",
       "    <tr>\n",
       "      <th>4</th>\n",
       "      <td>02</td>\n",
       "      <td>C.A.B.A.</td>\n",
       "      <td>035</td>\n",
       "      <td>NaN</td>\n",
       "      <td>022035</td>\n",
       "      <td>Comuna 5</td>\n",
       "      <td>020352035</td>\n",
       "      <td>nan</td>\n",
       "      <td>020005</td>\n",
       "      <td>nan</td>\n",
       "      <td>Comuna</td>\n",
       "      <td>Comuna</td>\n",
       "      <td>None</td>\n",
       "      <td>Capa Departamentos IGN</td>\n",
       "      <td>-34.6174</td>\n",
       "      <td>-58.4206</td>\n",
       "      <td>0</td>\n",
       "      <td>POLYGON ((-58.42271 -34.59773, -58.42174 -34.5...</td>\n",
       "    </tr>\n",
       "  </tbody>\n",
       "</table>\n",
       "</div>"
      ],
      "text/plain": [
       "  cpr Provincia  cde Departamento     cgl Municipio    UTA2020 indec2019  \\\n",
       "0  02  C.A.B.A.  007          NaN  022007  Comuna 1  020072007       nan   \n",
       "1  02  C.A.B.A.  014          NaN  022014  Comuna 2  020142014       nan   \n",
       "2  02  C.A.B.A.  021          NaN  022021  Comuna 3  020212021       nan   \n",
       "3  02  C.A.B.A.  028          NaN  022028  Comuna 4  020282028       nan   \n",
       "4  02  C.A.B.A.  035          NaN  022035  Comuna 5  020352035       nan   \n",
       "\n",
       "      in1 CodRedatam     Gna tipgobloc   Fdc                  Fuente  Latitud  \\\n",
       "0  020001        nan  Comuna    Comuna  None  Capa Departamentos IGN -34.6064   \n",
       "1  020002        nan  Comuna    Comuna  None  Capa Departamentos IGN -34.5858   \n",
       "2  020003        nan  Comuna    Comuna  None  Capa Departamentos IGN -34.6138   \n",
       "3  020004        nan  Comuna    Comuna  None  Capa Departamentos IGN -34.6421   \n",
       "4  020005        nan  Comuna    Comuna  None  Capa Departamentos IGN -34.6174   \n",
       "\n",
       "  Longitud  buffer                                           geometry  \n",
       "0 -58.3715       0  POLYGON ((-58.38609 -34.57823, -58.38592 -34.5...  \n",
       "1 -58.3949       0  POLYGON ((-58.38359 -34.57339, -58.38180 -34.5...  \n",
       "2 -58.4027       0  POLYGON ((-58.41026 -34.59811, -58.40939 -34.5...  \n",
       "3 -58.3875       0  POLYGON ((-58.35517 -34.61945, -58.35511 -34.6...  \n",
       "4 -58.4206       0  POLYGON ((-58.42271 -34.59773, -58.42174 -34.5...  "
      ]
     },
     "execution_count": 26,
     "metadata": {},
     "output_type": "execute_result"
    }
   ],
   "source": [
    "# se unen estos dos gob locales al resto\n",
    "df_merged = pd.concat([df_final, df_2faltantes]).reset_index(drop=True)\n",
    "df_merged = df_merged.sort_values(by='UTA2020').reset_index(drop=True)\n",
    "df_merged.loc[df_merged.Latitud.isnull(), 'Latitud'] = df_merged.loc[df_merged.Latitud.isnull()].centroid.y\n",
    "df_merged.loc[df_merged.Longitud.isnull(), 'Longitud'] = df_merged.loc[df_merged.Longitud.isnull()].centroid.x\n",
    "df_merged.loc[df_merged.Provincia == \"Córdoba\", 'Provincia'] = \"Cordoba\"\n",
    "df_merged.head()"
   ]
  },
  {
   "attachments": {},
   "cell_type": "markdown",
   "metadata": {},
   "source": [
    "## Completar los datos CodRedatam de CABA"
   ]
  },
  {
   "cell_type": "code",
   "execution_count": 30,
   "metadata": {},
   "outputs": [
    {
     "data": {
      "text/html": [
       "<div>\n",
       "<style scoped>\n",
       "    .dataframe tbody tr th:only-of-type {\n",
       "        vertical-align: middle;\n",
       "    }\n",
       "\n",
       "    .dataframe tbody tr th {\n",
       "        vertical-align: top;\n",
       "    }\n",
       "\n",
       "    .dataframe thead th {\n",
       "        text-align: right;\n",
       "    }\n",
       "</style>\n",
       "<table border=\"1\" class=\"dataframe\">\n",
       "  <thead>\n",
       "    <tr style=\"text-align: right;\">\n",
       "      <th></th>\n",
       "      <th>cpr</th>\n",
       "      <th>Provincia</th>\n",
       "      <th>cde</th>\n",
       "      <th>Departamento</th>\n",
       "      <th>cgl</th>\n",
       "      <th>Municipio</th>\n",
       "      <th>UTA2020</th>\n",
       "      <th>indec2019</th>\n",
       "      <th>in1</th>\n",
       "      <th>CodRedatam</th>\n",
       "      <th>Gna</th>\n",
       "      <th>tipgobloc</th>\n",
       "      <th>Fdc</th>\n",
       "      <th>Fuente</th>\n",
       "      <th>Latitud</th>\n",
       "      <th>Longitud</th>\n",
       "      <th>buffer</th>\n",
       "      <th>geometry</th>\n",
       "    </tr>\n",
       "  </thead>\n",
       "  <tbody>\n",
       "    <tr>\n",
       "      <th>0</th>\n",
       "      <td>02</td>\n",
       "      <td>C.A.B.A.</td>\n",
       "      <td>007</td>\n",
       "      <td>Comuna 1</td>\n",
       "      <td>022007</td>\n",
       "      <td>Comuna 1</td>\n",
       "      <td>020072007</td>\n",
       "      <td>nan</td>\n",
       "      <td>020001</td>\n",
       "      <td>20010001</td>\n",
       "      <td>Comuna</td>\n",
       "      <td>Comuna</td>\n",
       "      <td>None</td>\n",
       "      <td>Capa Departamentos IGN</td>\n",
       "      <td>-34.6064</td>\n",
       "      <td>-58.3715</td>\n",
       "      <td>0</td>\n",
       "      <td>POLYGON ((-58.38609 -34.57823, -58.38592 -34.5...</td>\n",
       "    </tr>\n",
       "    <tr>\n",
       "      <th>1</th>\n",
       "      <td>02</td>\n",
       "      <td>C.A.B.A.</td>\n",
       "      <td>014</td>\n",
       "      <td>Comuna 2</td>\n",
       "      <td>022014</td>\n",
       "      <td>Comuna 2</td>\n",
       "      <td>020142014</td>\n",
       "      <td>nan</td>\n",
       "      <td>020002</td>\n",
       "      <td>20020001</td>\n",
       "      <td>Comuna</td>\n",
       "      <td>Comuna</td>\n",
       "      <td>None</td>\n",
       "      <td>Capa Departamentos IGN</td>\n",
       "      <td>-34.5858</td>\n",
       "      <td>-58.3949</td>\n",
       "      <td>0</td>\n",
       "      <td>POLYGON ((-58.38359 -34.57339, -58.38180 -34.5...</td>\n",
       "    </tr>\n",
       "    <tr>\n",
       "      <th>2</th>\n",
       "      <td>02</td>\n",
       "      <td>C.A.B.A.</td>\n",
       "      <td>021</td>\n",
       "      <td>Comuna 3</td>\n",
       "      <td>022021</td>\n",
       "      <td>Comuna 3</td>\n",
       "      <td>020212021</td>\n",
       "      <td>nan</td>\n",
       "      <td>020003</td>\n",
       "      <td>20030001</td>\n",
       "      <td>Comuna</td>\n",
       "      <td>Comuna</td>\n",
       "      <td>None</td>\n",
       "      <td>Capa Departamentos IGN</td>\n",
       "      <td>-34.6138</td>\n",
       "      <td>-58.4027</td>\n",
       "      <td>0</td>\n",
       "      <td>POLYGON ((-58.41026 -34.59811, -58.40939 -34.5...</td>\n",
       "    </tr>\n",
       "    <tr>\n",
       "      <th>3</th>\n",
       "      <td>02</td>\n",
       "      <td>C.A.B.A.</td>\n",
       "      <td>028</td>\n",
       "      <td>Comuna 4</td>\n",
       "      <td>022028</td>\n",
       "      <td>Comuna 4</td>\n",
       "      <td>020282028</td>\n",
       "      <td>nan</td>\n",
       "      <td>020004</td>\n",
       "      <td>20040001</td>\n",
       "      <td>Comuna</td>\n",
       "      <td>Comuna</td>\n",
       "      <td>None</td>\n",
       "      <td>Capa Departamentos IGN</td>\n",
       "      <td>-34.6421</td>\n",
       "      <td>-58.3875</td>\n",
       "      <td>0</td>\n",
       "      <td>POLYGON ((-58.35517 -34.61945, -58.35511 -34.6...</td>\n",
       "    </tr>\n",
       "    <tr>\n",
       "      <th>4</th>\n",
       "      <td>02</td>\n",
       "      <td>C.A.B.A.</td>\n",
       "      <td>035</td>\n",
       "      <td>Comuna 5</td>\n",
       "      <td>022035</td>\n",
       "      <td>Comuna 5</td>\n",
       "      <td>020352035</td>\n",
       "      <td>nan</td>\n",
       "      <td>020005</td>\n",
       "      <td>20050001</td>\n",
       "      <td>Comuna</td>\n",
       "      <td>Comuna</td>\n",
       "      <td>None</td>\n",
       "      <td>Capa Departamentos IGN</td>\n",
       "      <td>-34.6174</td>\n",
       "      <td>-58.4206</td>\n",
       "      <td>0</td>\n",
       "      <td>POLYGON ((-58.42271 -34.59773, -58.42174 -34.5...</td>\n",
       "    </tr>\n",
       "  </tbody>\n",
       "</table>\n",
       "</div>"
      ],
      "text/plain": [
       "  cpr Provincia  cde Departamento     cgl Municipio    UTA2020 indec2019  \\\n",
       "0  02  C.A.B.A.  007     Comuna 1  022007  Comuna 1  020072007       nan   \n",
       "1  02  C.A.B.A.  014     Comuna 2  022014  Comuna 2  020142014       nan   \n",
       "2  02  C.A.B.A.  021     Comuna 3  022021  Comuna 3  020212021       nan   \n",
       "3  02  C.A.B.A.  028     Comuna 4  022028  Comuna 4  020282028       nan   \n",
       "4  02  C.A.B.A.  035     Comuna 5  022035  Comuna 5  020352035       nan   \n",
       "\n",
       "      in1 CodRedatam     Gna tipgobloc   Fdc                  Fuente  Latitud  \\\n",
       "0  020001   20010001  Comuna    Comuna  None  Capa Departamentos IGN -34.6064   \n",
       "1  020002   20020001  Comuna    Comuna  None  Capa Departamentos IGN -34.5858   \n",
       "2  020003   20030001  Comuna    Comuna  None  Capa Departamentos IGN -34.6138   \n",
       "3  020004   20040001  Comuna    Comuna  None  Capa Departamentos IGN -34.6421   \n",
       "4  020005   20050001  Comuna    Comuna  None  Capa Departamentos IGN -34.6174   \n",
       "\n",
       "  Longitud  buffer                                           geometry  \n",
       "0 -58.3715       0  POLYGON ((-58.38609 -34.57823, -58.38592 -34.5...  \n",
       "1 -58.3949       0  POLYGON ((-58.38359 -34.57339, -58.38180 -34.5...  \n",
       "2 -58.4027       0  POLYGON ((-58.41026 -34.59811, -58.40939 -34.5...  \n",
       "3 -58.3875       0  POLYGON ((-58.35517 -34.61945, -58.35511 -34.6...  \n",
       "4 -58.4206       0  POLYGON ((-58.42271 -34.59773, -58.42174 -34.5...  "
      ]
     },
     "execution_count": 30,
     "metadata": {},
     "output_type": "execute_result"
    }
   ],
   "source": [
    "df_merged.loc[df_merged.cpr == '02', 'CodRedatam'] = (\"2\"+ df_merged.loc[df_merged.cpr == '02', 'in1'].str[-3:] + \"0001\")\n",
    "df_merged.loc[df_merged.cpr == '02', 'Departamento'] = df_merged.loc[df_merged.cpr == '02', 'Municipio']\n",
    "df_merged.head()"
   ]
  },
  {
   "cell_type": "code",
   "execution_count": 31,
   "metadata": {},
   "outputs": [
    {
     "name": "stderr",
     "output_type": "stream",
     "text": [
      "c:\\Users\\Compumar\\anaconda3\\envs\\GeoAnalysis\\lib\\site-packages\\ipykernel_launcher.py:1: UserWarning: Column names longer than 10 characters will be truncated when saved to ESRI Shapefile.\n",
      "  \"\"\"Entry point for launching an IPython kernel.\n"
     ]
    }
   ],
   "source": [
    "df_merged.to_file('./gobiernos_locales_shp/GobiernosLocales.shp')"
   ]
  },
  {
   "cell_type": "markdown",
   "metadata": {},
   "source": [
    "# Chequeos"
   ]
  },
  {
   "attachments": {},
   "cell_type": "markdown",
   "metadata": {},
   "source": [
    "## Deptos mal"
   ]
  },
  {
   "cell_type": "code",
   "execution_count": 32,
   "metadata": {},
   "outputs": [
    {
     "name": "stderr",
     "output_type": "stream",
     "text": [
      "c:\\Users\\Compumar\\anaconda3\\envs\\GeoAnalysis\\lib\\site-packages\\ipykernel_launcher.py:4: UserWarning: Geometry is in a geographic CRS. Results from 'centroid' are likely incorrect. Use 'GeoSeries.to_crs()' to re-project geometries to a projected CRS before this operation.\n",
      "\n",
      "  after removing the cwd from sys.path.\n"
     ]
    }
   ],
   "source": [
    "df_deptos = gpd.read_file('./departamentos/departamento.shp')\n",
    "df_gob_locales= gpd.read_file('./gobiernos_locales_shp/GobiernosLocales.shp')\n",
    "df_gob_locales_check = df_gob_locales.copy()\n",
    "df_gob_locales_check.geometry = df_gob_locales.centroid"
   ]
  },
  {
   "cell_type": "markdown",
   "metadata": {},
   "source": [
    "### Chequeo Espacial"
   ]
  },
  {
   "cell_type": "code",
   "execution_count": 33,
   "metadata": {},
   "outputs": [],
   "source": [
    "# se ajustan los nombres de la capa de gob locales para que coincidan con la de departamentos\n",
    "df_gob_loc = df_gob_locales_check[['Provincia', 'Departamen', 'Municipio', 'UTA2020', 'geometry']].sjoin(df_deptos[['nam', 'geometry']])\n",
    "df_gob_loc.Departamen = df_gob_loc.Departamen.str.upper()\n",
    "df_gob_loc.nam = df_gob_loc.nam.str.upper()\n",
    "df_gob_loc.nam = df_gob_loc.nam.str.replace('Á','A')\n",
    "df_gob_loc.nam = df_gob_loc.nam.str.replace('É','E')\n",
    "df_gob_loc.nam = df_gob_loc.nam.str.replace('Í','I')\n",
    "df_gob_loc.nam = df_gob_loc.nam.str.replace('Ó','O')\n",
    "df_gob_loc.nam = df_gob_loc.nam.str.replace('Ú','U')\n",
    "df_gob_loc.nam = df_gob_loc.nam.str.replace('JUAN BAUTISTA ALBERDI','JUAN B ALBERDI')\n",
    "df_gob_loc.nam = df_gob_loc.nam.str.replace('JOSE C. PAZ','JOSE C PAZ')\n",
    "df_gob_loc.nam = df_gob_loc.nam.str.replace('LEANDRO N. ALEM','LEANDRO N ALEM')\n",
    "df_gob_loc.Departamen = df_gob_loc.Departamen.str.replace('LEANDRO N. ALEM','LEANDRO N ALEM')\n",
    "df_gob_loc.nam = df_gob_loc.nam.str.replace('CORONEL DE MARINA LEONARDO ROSALES','CORONEL DE MARINA L ROSALES')\n",
    "df_gob_loc.nam = df_gob_loc.nam.str.replace('JUAN FELIPE IBARRA','JUAN F IBARRA')\n",
    "df_gob_loc.nam = df_gob_loc.nam.str.replace('GENERAL GÜEMES','GENERAL GUEMES')\n",
    "df_gob_loc.nam = df_gob_loc.nam.str.replace('MAYOR LUIS J. FONTANA','MAYOR LUIS J FONTANA')\n",
    "df_gob_loc.nam = df_gob_loc.nam.str.replace(\"O'HIGGINS\",'O HIGGINS')\n",
    "df_gob_loc.nam = df_gob_loc.nam.str.replace('DR. MANUEL BELGRANO', 'DOCTOR MANUEL BELGRANO')\n",
    "df_gob_loc.nam = df_gob_loc.nam.str.replace('GENERAL FELIPE VARELA','CORONEL FELIPE VARELA')\n",
    "df_gob_loc.nam = df_gob_loc.nam.str.replace('ANGEL VICENTE PEÑALOZA','GENERAL ANGEL VERA PEÑALOZA')\n",
    "df_gob_loc.nam = df_gob_loc.nam.str.replace('GENERAL JUAN FACUNDO QUIROGA','GENERAL JUAN F QUIROGA')\n",
    "df_gob_loc.nam = df_gob_loc.nam.str.replace('GENERAL ORTIZ DE OCAMPO','GENERAL OCAMPO')\n",
    "df_gob_loc.nam = df_gob_loc.nam.str.replace('MALARGÜE','MALARGUE')\n",
    "df_gob_loc.nam = df_gob_loc.nam.str.replace('GÜER AIKE','GUER AIKE')"
   ]
  },
  {
   "cell_type": "code",
   "execution_count": 34,
   "metadata": {},
   "outputs": [
    {
     "name": "stdout",
     "output_type": "stream",
     "text": [
      "Cantidad de gob locales con deptos incorrectos 0\n"
     ]
    }
   ],
   "source": [
    "# se chequea que no hay gob locales con el nombre de departamento no coincidente con la capa geográfica\n",
    "# se filtran algunos casos que fueron chequeados en el mapa\n",
    "print(\"Cantidad de gob locales con deptos incorrectos\", len(df_gob_loc.loc[(df_gob_loc.Departamen != df_gob_loc.nam)&(df_gob_loc.Departamen.notnull())\n",
    "    &(df_gob_loc.Provincia != 'Salta')&(df_gob_loc.Provincia != 'Santa Fe')&(df_gob_loc.Provincia != 'Rio Negro')&(df_gob_loc.Provincia != 'Buenos Aires')\n",
    "    &(df_gob_loc.Provincia != 'Catamarca')&(df_gob_loc.Provincia != 'Chaco')&(df_gob_loc.Provincia != 'Jujuy')&(df_gob_loc.Provincia != 'La Pampa')\n",
    "    &(df_gob_loc.Departamen != 'JIMENEZ')&(df_gob_loc.Departamen != 'BELGRANO')\n",
    "    &(df_gob_loc.UTA2020 != '141471400')&(df_gob_loc.UTA2020 != '140070021')&(df_gob_loc.UTA2020 != '141823232')\n",
    "    &(df_gob_loc.UTA2020 != '141681526')&(df_gob_loc.UTA2020 != '141122735')])  )"
   ]
  },
  {
   "cell_type": "markdown",
   "metadata": {},
   "source": [
    "### Chequeo de Códigos"
   ]
  },
  {
   "cell_type": "code",
   "execution_count": 35,
   "metadata": {},
   "outputs": [
    {
     "data": {
      "text/html": [
       "<div>\n",
       "<style scoped>\n",
       "    .dataframe tbody tr th:only-of-type {\n",
       "        vertical-align: middle;\n",
       "    }\n",
       "\n",
       "    .dataframe tbody tr th {\n",
       "        vertical-align: top;\n",
       "    }\n",
       "\n",
       "    .dataframe thead th {\n",
       "        text-align: right;\n",
       "    }\n",
       "</style>\n",
       "<table border=\"1\" class=\"dataframe\">\n",
       "  <thead>\n",
       "    <tr style=\"text-align: right;\">\n",
       "      <th></th>\n",
       "      <th>cpr</th>\n",
       "      <th>cde</th>\n",
       "      <th>cde_count</th>\n",
       "    </tr>\n",
       "  </thead>\n",
       "  <tbody>\n",
       "    <tr>\n",
       "      <th>0</th>\n",
       "      <td>74</td>\n",
       "      <td>035</td>\n",
       "      <td>2</td>\n",
       "    </tr>\n",
       "    <tr>\n",
       "      <th>1</th>\n",
       "      <td>74</td>\n",
       "      <td>042</td>\n",
       "      <td>2</td>\n",
       "    </tr>\n",
       "    <tr>\n",
       "      <th>2</th>\n",
       "      <td>74</td>\n",
       "      <td>056</td>\n",
       "      <td>2</td>\n",
       "    </tr>\n",
       "    <tr>\n",
       "      <th>3</th>\n",
       "      <td>82</td>\n",
       "      <td>014</td>\n",
       "      <td>2</td>\n",
       "    </tr>\n",
       "    <tr>\n",
       "      <th>4</th>\n",
       "      <td>82</td>\n",
       "      <td>084</td>\n",
       "      <td>2</td>\n",
       "    </tr>\n",
       "  </tbody>\n",
       "</table>\n",
       "</div>"
      ],
      "text/plain": [
       "  cpr  cde  cde_count\n",
       "0  74  035          2\n",
       "1  74  042          2\n",
       "2  74  056          2\n",
       "3  82  014          2\n",
       "4  82  084          2"
      ]
     },
     "execution_count": 35,
     "metadata": {},
     "output_type": "execute_result"
    }
   ],
   "source": [
    "# se chequea que los códigos de los deptos se correspondan con un único nombre de depto, para cada provincia\n",
    "df_deptos_unique = df_gob_locales_check.loc[(~df_gob_locales_check.duplicated(subset=['cpr', 'cde', 'Departamen'])) & (df_gob_locales_check.cpr != '02')] \\\n",
    "    .groupby(['cpr', 'cde'])\\\n",
    "    .size()\\\n",
    "    .reset_index()\n",
    "df_deptos_unique.rename(columns={df_deptos_unique.columns[2]:'cde_count'}, inplace=True)\n",
    "df_deptos_unique_dup = df_deptos_unique.loc[df_deptos_unique.cde_count > 1].reset_index(drop=True)\n",
    "df_deptos_unique_dup"
   ]
  },
  {
   "cell_type": "code",
   "execution_count": 36,
   "metadata": {},
   "outputs": [
    {
     "name": "stdout",
     "output_type": "stream",
     "text": [
      "     cpr  cde         Departamen     Municipio\n",
      "1619  74  035  General Pedernera  Justo Daract\n",
      "1623  74  035   Coronel Pringles  Juan Llerena\n",
      "Correcto: General Pedernera\n",
      "----------------------\n",
      "     cpr  cde                 Departamen        Municipio\n",
      "1626  74  042           Gobernador Dupuy  Buena Esperanza\n",
      "1634  74  042  Juan Martin De Pueyrredon            Navia\n",
      "Correcto: Gobernador Dupuy\n",
      "----------------------\n",
      "     cpr  cde                 Departamen    Municipio\n",
      "1642  74  056  Juan Martin De Pueyrredon  Desaguadero\n",
      "1648  74  056          General Pedernera  Alto Pelado\n",
      "Correcto: Juan Martin De Pueyrredon\n",
      "----------------------\n",
      "     cpr  cde     Departamen        Municipio\n",
      "1687  82  014        Caseros          Casilda\n",
      "1700  82  014  General Lopez  Cañada Del Ucle\n",
      "Correcto: Caseros\n",
      "----------------------\n",
      "     cpr  cde   Departamen       Municipio\n",
      "1899  82  084      Rosario     Arroyo Seco\n",
      "1923  82  084  San Lorenzo  Coronel Arnold\n",
      "Correcto: Rosario\n",
      "----------------------\n",
      "[[1623, '74', '035', 'General Pedernera', 'Juan Llerena', 'Coronel Pringles'], [1634, '74', '042', 'Gobernador Dupuy', 'Navia', 'Juan Martin De Pueyrredon'], [1648, '74', '056', 'Juan Martin De Pueyrredon', 'Alto Pelado', 'General Pedernera'], [1700, '82', '014', 'Caseros', 'Cañada Del Ucle', 'General Lopez'], [1923, '82', '084', 'Rosario', 'Coronel Arnold', 'San Lorenzo']]\n"
     ]
    }
   ],
   "source": [
    "# se realiza un conteo de deptos para capa código\n",
    "df_deptos_count = df_gob_locales_check.loc[(df_gob_locales_check.cpr != '02')] \\\n",
    "    .groupby(['cpr', 'cde', 'Departamen'])\\\n",
    "    .size()\\\n",
    "    .reset_index()\n",
    "# lista para corregir nombres\n",
    "lista_map_deptos = []\n",
    "\n",
    "for i in range(len(df_deptos_unique_dup)):\n",
    "    # en función de la cantidad de nombres para ese código, se determina cual es el correcto\n",
    "    depto_correcto = df_deptos_count.loc[(df_deptos_count.cpr == df_deptos_unique_dup.loc[i, 'cpr']) & (df_deptos_count.cde == df_deptos_unique_dup.loc[i, 'cde'])]\\\n",
    "        .rename(columns={0:'count'})\\\n",
    "        .sort_values(by='count', ascending=False)\\\n",
    "        .reset_index(drop=True)\\\n",
    "        .loc[0, 'Departamen']\n",
    "    # se filtra el gob local a corregir \n",
    "    df_goblocal_fix_depto = df_gob_locales_check.loc[(df_gob_locales_check.cpr == df_deptos_unique_dup.loc[i, 'cpr']) & (df_gob_locales_check.cde == df_deptos_unique_dup.loc[i, 'cde'])\n",
    "                                                 & (~df_gob_locales_check.duplicated(subset=['cpr', 'cde', 'Departamen'])), ['cpr', 'cde', 'Departamen', 'Municipio']]\n",
    "    print(df_goblocal_fix_depto)\n",
    "    print(\"Correcto:\", depto_correcto)\n",
    "    print(\"----------------------\")\n",
    "\n",
    "    # se agregan a la lista los datos del gob local a corregir\n",
    "    lista_map_deptos.append([\n",
    "        list(df_goblocal_fix_depto.loc[df_goblocal_fix_depto.Departamen != depto_correcto].index)[0],\n",
    "        list(df_goblocal_fix_depto.loc[df_goblocal_fix_depto.Departamen != depto_correcto, 'cpr'])[0], \n",
    "        list(df_goblocal_fix_depto.loc[df_goblocal_fix_depto.Departamen != depto_correcto, 'cde'])[0],\n",
    "        depto_correcto,\n",
    "        list(df_goblocal_fix_depto.loc[df_goblocal_fix_depto.Departamen != depto_correcto, 'Municipio'])[0],\n",
    "        list(df_goblocal_fix_depto.loc[df_goblocal_fix_depto.Departamen != depto_correcto, 'Departamen'])[0],\n",
    "    ])\n",
    "\n",
    "print(lista_map_deptos)"
   ]
  },
  {
   "cell_type": "code",
   "execution_count": 37,
   "metadata": {},
   "outputs": [
    {
     "name": "stdout",
     "output_type": "stream",
     "text": [
      "Coronel Pringles  -  General Pedernera\n",
      "Juan Martin De Pueyrredon  -  Gobernador Dupuy\n",
      "General Pedernera  -  Juan Martin De Pueyrredon\n",
      "General Lopez  -  Caseros\n",
      "San Lorenzo  -  Rosario\n"
     ]
    }
   ],
   "source": [
    "for i in lista_map_deptos:\n",
    "    # nombre del depto previo a la corrección\n",
    "    depto_antes = list(df_gob_locales.loc[(df_gob_locales.cpr == i[1]) & (df_gob_locales.cde == i[2])\n",
    "                             & (df_gob_locales.Municipio == i[4]), 'Departamen'])[0]\n",
    "    if i[5] == depto_antes:\n",
    "        # corrección del nombre de depto\n",
    "        df_gob_locales.loc[(df_gob_locales.cpr == i[1]) & (df_gob_locales.cde == i[2])\n",
    "                                & (df_gob_locales.Municipio == i[4]), ['Departamen']] = i[3]\n",
    "        # nombre del depto luego de la corrección\n",
    "        depto_despues = list(df_gob_locales.loc[(df_gob_locales.cpr == i[1]) & (df_gob_locales.cde == i[2])\n",
    "                                & (df_gob_locales.Municipio == i[4]), 'Departamen'])[0]\n",
    "        print(depto_antes, ' - ', depto_despues)"
   ]
  },
  {
   "cell_type": "code",
   "execution_count": 38,
   "metadata": {},
   "outputs": [],
   "source": [
    "df_gob_locales.to_file('./gobiernos_locales_shp/GobiernosLocales.shp')"
   ]
  },
  {
   "cell_type": "code",
   "execution_count": null,
   "metadata": {},
   "outputs": [],
   "source": []
  }
 ],
 "metadata": {
  "kernelspec": {
   "display_name": "Python 3.7.8 ('GeoAnalysis')",
   "language": "python",
   "name": "python3"
  },
  "language_info": {
   "codemirror_mode": {
    "name": "ipython",
    "version": 3
   },
   "file_extension": ".py",
   "mimetype": "text/x-python",
   "name": "python",
   "nbconvert_exporter": "python",
   "pygments_lexer": "ipython3",
   "version": "3.7.8"
  },
  "orig_nbformat": 4,
  "vscode": {
   "interpreter": {
    "hash": "76d8fbc8f8336675a1901d9de0a2c7c06ee4b86e9ca9d1443f3f5d90eeade619"
   }
  }
 },
 "nbformat": 4,
 "nbformat_minor": 2
}
