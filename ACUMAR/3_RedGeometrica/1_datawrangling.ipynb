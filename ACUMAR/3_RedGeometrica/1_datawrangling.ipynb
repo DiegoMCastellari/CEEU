{
 "cells": [
  {
   "cell_type": "code",
   "execution_count": 1,
   "metadata": {},
   "outputs": [],
   "source": [
    "import pandas as pd\n",
    "import geopandas as gpd"
   ]
  },
  {
   "cell_type": "code",
   "execution_count": 2,
   "metadata": {},
   "outputs": [],
   "source": [
    "# importar eps\n",
    "df_eps = gpd.read_file(\"../2_Procesamiento/CapasEditadas/EspaciosPublicos_v11.geojson\")\n",
    "df_eps = df_eps.loc[df_eps.evp == 1]\n",
    "df_eps['rango'] = '0 - 5'"
   ]
  },
  {
   "cell_type": "code",
   "execution_count": 3,
   "metadata": {},
   "outputs": [],
   "source": [
    "# importar capas de municipios y límite antrópico\n",
    "gdf_muni = gpd.read_file(\"../1_Datos/ACUMAR/LIMITE_POLITICO.shp\")\n",
    "gdf_antro = gpd.read_file(\"../1_Datos/ACUMAR/LIMITE_ANTROPICO_POLIGONO.geojson\")\n",
    "# filtro de los municipios de interés \n",
    "gdf_muni = gdf_muni.loc[(gdf_muni.DISTRITO == \"LOMAS DE ZAMORA\") | (gdf_muni.DISTRITO == \"LANUS\")]"
   ]
  },
  {
   "cell_type": "code",
   "execution_count": 4,
   "metadata": {},
   "outputs": [
    {
     "ename": "KeyboardInterrupt",
     "evalue": "",
     "output_type": "error",
     "traceback": [
      "\u001b[1;31m---------------------------------------------------------------------------\u001b[0m",
      "\u001b[1;31mKeyboardInterrupt\u001b[0m                         Traceback (most recent call last)",
      "\u001b[1;32m<ipython-input-4-f61db5910dc4>\u001b[0m in \u001b[0;36m<module>\u001b[1;34m()\u001b[0m\n\u001b[0;32m      3\u001b[0m \u001b[0mdf_pro\u001b[0m \u001b[1;33m=\u001b[0m \u001b[0mgpd\u001b[0m\u001b[1;33m.\u001b[0m\u001b[0mread_file\u001b[0m\u001b[1;33m(\u001b[0m\u001b[1;34m\"./Calles/RedVialProvincial.geojson\"\u001b[0m\u001b[1;33m)\u001b[0m\u001b[1;33m\u001b[0m\u001b[1;33m\u001b[0m\u001b[0m\n\u001b[0;32m      4\u001b[0m \u001b[0mdf_ter\u001b[0m \u001b[1;33m=\u001b[0m \u001b[0mgpd\u001b[0m\u001b[1;33m.\u001b[0m\u001b[0mread_file\u001b[0m\u001b[1;33m(\u001b[0m\u001b[1;34m\"./Calles/RedVialTerciaria.geojson\"\u001b[0m\u001b[1;33m)\u001b[0m\u001b[1;33m\u001b[0m\u001b[1;33m\u001b[0m\u001b[0m\n\u001b[1;32m----> 5\u001b[1;33m \u001b[0mdf_urb\u001b[0m \u001b[1;33m=\u001b[0m \u001b[0mgpd\u001b[0m\u001b[1;33m.\u001b[0m\u001b[0mread_file\u001b[0m\u001b[1;33m(\u001b[0m\u001b[1;34m\"./Calles/RedVialUrbana.geojson\"\u001b[0m\u001b[1;33m)\u001b[0m\u001b[1;33m\u001b[0m\u001b[1;33m\u001b[0m\u001b[0m\n\u001b[0m",
      "\u001b[1;32mc:\\Users\\Compumar\\anaconda3\\envs\\GeoAnalysis\\lib\\site-packages\\geopandas\\io\\file.py\u001b[0m in \u001b[0;36m_read_file\u001b[1;34m(filename, bbox, mask, rows, **kwargs)\u001b[0m\n\u001b[0;32m    199\u001b[0m \u001b[1;33m\u001b[0m\u001b[0m\n\u001b[0;32m    200\u001b[0m     \u001b[1;32mwith\u001b[0m \u001b[0mfiona_env\u001b[0m\u001b[1;33m(\u001b[0m\u001b[1;33m)\u001b[0m\u001b[1;33m:\u001b[0m\u001b[1;33m\u001b[0m\u001b[1;33m\u001b[0m\u001b[0m\n\u001b[1;32m--> 201\u001b[1;33m         \u001b[1;32mwith\u001b[0m \u001b[0mreader\u001b[0m\u001b[1;33m(\u001b[0m\u001b[0mpath_or_bytes\u001b[0m\u001b[1;33m,\u001b[0m \u001b[1;33m**\u001b[0m\u001b[0mkwargs\u001b[0m\u001b[1;33m)\u001b[0m \u001b[1;32mas\u001b[0m \u001b[0mfeatures\u001b[0m\u001b[1;33m:\u001b[0m\u001b[1;33m\u001b[0m\u001b[1;33m\u001b[0m\u001b[0m\n\u001b[0m\u001b[0;32m    202\u001b[0m \u001b[1;33m\u001b[0m\u001b[0m\n\u001b[0;32m    203\u001b[0m             \u001b[1;31m# In a future Fiona release the crs attribute of features will\u001b[0m\u001b[1;33m\u001b[0m\u001b[1;33m\u001b[0m\u001b[1;33m\u001b[0m\u001b[0m\n",
      "\u001b[1;32mc:\\Users\\Compumar\\anaconda3\\envs\\GeoAnalysis\\lib\\site-packages\\fiona\\env.py\u001b[0m in \u001b[0;36mwrapper\u001b[1;34m(*args, **kwargs)\u001b[0m\n\u001b[0;32m    398\u001b[0m     \u001b[1;32mdef\u001b[0m \u001b[0mwrapper\u001b[0m\u001b[1;33m(\u001b[0m\u001b[1;33m*\u001b[0m\u001b[0margs\u001b[0m\u001b[1;33m,\u001b[0m \u001b[1;33m**\u001b[0m\u001b[0mkwargs\u001b[0m\u001b[1;33m)\u001b[0m\u001b[1;33m:\u001b[0m\u001b[1;33m\u001b[0m\u001b[1;33m\u001b[0m\u001b[0m\n\u001b[0;32m    399\u001b[0m         \u001b[1;32mif\u001b[0m \u001b[0mlocal\u001b[0m\u001b[1;33m.\u001b[0m\u001b[0m_env\u001b[0m\u001b[1;33m:\u001b[0m\u001b[1;33m\u001b[0m\u001b[1;33m\u001b[0m\u001b[0m\n\u001b[1;32m--> 400\u001b[1;33m             \u001b[1;32mreturn\u001b[0m \u001b[0mf\u001b[0m\u001b[1;33m(\u001b[0m\u001b[1;33m*\u001b[0m\u001b[0margs\u001b[0m\u001b[1;33m,\u001b[0m \u001b[1;33m**\u001b[0m\u001b[0mkwargs\u001b[0m\u001b[1;33m)\u001b[0m\u001b[1;33m\u001b[0m\u001b[1;33m\u001b[0m\u001b[0m\n\u001b[0m\u001b[0;32m    401\u001b[0m         \u001b[1;32melse\u001b[0m\u001b[1;33m:\u001b[0m\u001b[1;33m\u001b[0m\u001b[1;33m\u001b[0m\u001b[0m\n\u001b[0;32m    402\u001b[0m             \u001b[1;32mif\u001b[0m \u001b[0misinstance\u001b[0m\u001b[1;33m(\u001b[0m\u001b[0margs\u001b[0m\u001b[1;33m[\u001b[0m\u001b[1;36m0\u001b[0m\u001b[1;33m]\u001b[0m\u001b[1;33m,\u001b[0m \u001b[0mstr\u001b[0m\u001b[1;33m)\u001b[0m\u001b[1;33m:\u001b[0m\u001b[1;33m\u001b[0m\u001b[1;33m\u001b[0m\u001b[0m\n",
      "\u001b[1;32mc:\\Users\\Compumar\\anaconda3\\envs\\GeoAnalysis\\lib\\site-packages\\fiona\\__init__.py\u001b[0m in \u001b[0;36mopen\u001b[1;34m(fp, mode, driver, schema, crs, encoding, layer, vfs, enabled_drivers, crs_wkt, **kwargs)\u001b[0m\n\u001b[0;32m    255\u001b[0m         \u001b[1;32mif\u001b[0m \u001b[0mmode\u001b[0m \u001b[1;32min\u001b[0m \u001b[1;33m(\u001b[0m\u001b[1;34m'a'\u001b[0m\u001b[1;33m,\u001b[0m \u001b[1;34m'r'\u001b[0m\u001b[1;33m)\u001b[0m\u001b[1;33m:\u001b[0m\u001b[1;33m\u001b[0m\u001b[1;33m\u001b[0m\u001b[0m\n\u001b[0;32m    256\u001b[0m             c = Collection(path, mode, driver=driver, encoding=encoding,\n\u001b[1;32m--> 257\u001b[1;33m                            layer=layer, enabled_drivers=enabled_drivers, **kwargs)\n\u001b[0m\u001b[0;32m    258\u001b[0m         \u001b[1;32melif\u001b[0m \u001b[0mmode\u001b[0m \u001b[1;33m==\u001b[0m \u001b[1;34m'w'\u001b[0m\u001b[1;33m:\u001b[0m\u001b[1;33m\u001b[0m\u001b[1;33m\u001b[0m\u001b[0m\n\u001b[0;32m    259\u001b[0m             \u001b[1;32mif\u001b[0m \u001b[0mschema\u001b[0m\u001b[1;33m:\u001b[0m\u001b[1;33m\u001b[0m\u001b[1;33m\u001b[0m\u001b[0m\n",
      "\u001b[1;32mc:\\Users\\Compumar\\anaconda3\\envs\\GeoAnalysis\\lib\\site-packages\\fiona\\collection.py\u001b[0m in \u001b[0;36m__init__\u001b[1;34m(self, path, mode, driver, schema, crs, encoding, layer, vsi, archive, enabled_drivers, crs_wkt, ignore_fields, ignore_geometry, **kwargs)\u001b[0m\n\u001b[0;32m    165\u001b[0m             \u001b[1;32melif\u001b[0m \u001b[0mself\u001b[0m\u001b[1;33m.\u001b[0m\u001b[0mmode\u001b[0m \u001b[1;32min\u001b[0m \u001b[1;33m(\u001b[0m\u001b[1;34m'a'\u001b[0m\u001b[1;33m,\u001b[0m \u001b[1;34m'w'\u001b[0m\u001b[1;33m)\u001b[0m\u001b[1;33m:\u001b[0m\u001b[1;33m\u001b[0m\u001b[1;33m\u001b[0m\u001b[0m\n\u001b[0;32m    166\u001b[0m                 \u001b[0mself\u001b[0m\u001b[1;33m.\u001b[0m\u001b[0msession\u001b[0m \u001b[1;33m=\u001b[0m \u001b[0mWritingSession\u001b[0m\u001b[1;33m(\u001b[0m\u001b[1;33m)\u001b[0m\u001b[1;33m\u001b[0m\u001b[1;33m\u001b[0m\u001b[0m\n\u001b[1;32m--> 167\u001b[1;33m                 \u001b[0mself\u001b[0m\u001b[1;33m.\u001b[0m\u001b[0msession\u001b[0m\u001b[1;33m.\u001b[0m\u001b[0mstart\u001b[0m\u001b[1;33m(\u001b[0m\u001b[0mself\u001b[0m\u001b[1;33m,\u001b[0m \u001b[1;33m**\u001b[0m\u001b[0mkwargs\u001b[0m\u001b[1;33m)\u001b[0m\u001b[1;33m\u001b[0m\u001b[1;33m\u001b[0m\u001b[0m\n\u001b[0m\u001b[0;32m    168\u001b[0m         \u001b[1;32mexcept\u001b[0m \u001b[0mIOError\u001b[0m\u001b[1;33m:\u001b[0m\u001b[1;33m\u001b[0m\u001b[1;33m\u001b[0m\u001b[0m\n\u001b[0;32m    169\u001b[0m             \u001b[0mself\u001b[0m\u001b[1;33m.\u001b[0m\u001b[0msession\u001b[0m \u001b[1;33m=\u001b[0m \u001b[1;32mNone\u001b[0m\u001b[1;33m\u001b[0m\u001b[1;33m\u001b[0m\u001b[0m\n",
      "\u001b[1;31mKeyboardInterrupt\u001b[0m: "
     ]
    }
   ],
   "source": [
    "# importar calles\n",
    "df_nac = gpd.read_file(\"./Calles/RedVialNacional.geojson\")\n",
    "df_pro = gpd.read_file(\"./Calles/RedVialProvincial.geojson\")\n",
    "df_ter = gpd.read_file(\"./Calles/RedVialTerciaria.geojson\")\n",
    "df_urb = gpd.read_file(\"./Calles/RedVialUrbana.geojson\")"
   ]
  },
  {
   "cell_type": "code",
   "execution_count": 23,
   "metadata": {},
   "outputs": [
    {
     "name": "stdout",
     "output_type": "stream",
     "text": [
      "['Nacional' 'Provincial' 'Terciario' 'Calle']\n"
     ]
    },
    {
     "data": {
      "text/html": [
       "<div>\n",
       "<style scoped>\n",
       "    .dataframe tbody tr th:only-of-type {\n",
       "        vertical-align: middle;\n",
       "    }\n",
       "\n",
       "    .dataframe tbody tr th {\n",
       "        vertical-align: top;\n",
       "    }\n",
       "\n",
       "    .dataframe thead th {\n",
       "        text-align: right;\n",
       "    }\n",
       "</style>\n",
       "<table border=\"1\" class=\"dataframe\">\n",
       "  <thead>\n",
       "    <tr style=\"text-align: right;\">\n",
       "      <th></th>\n",
       "      <th>hct</th>\n",
       "      <th>geometry</th>\n",
       "    </tr>\n",
       "  </thead>\n",
       "  <tbody>\n",
       "    <tr>\n",
       "      <th>0</th>\n",
       "      <td>Nacional</td>\n",
       "      <td>MULTILINESTRING ((-54.49869 -25.66899, -54.498...</td>\n",
       "    </tr>\n",
       "    <tr>\n",
       "      <th>1</th>\n",
       "      <td>Nacional</td>\n",
       "      <td>MULTILINESTRING ((-54.46205 -25.71356, -54.462...</td>\n",
       "    </tr>\n",
       "    <tr>\n",
       "      <th>2</th>\n",
       "      <td>Nacional</td>\n",
       "      <td>MULTILINESTRING ((-54.08179 -25.72037, -54.082...</td>\n",
       "    </tr>\n",
       "    <tr>\n",
       "      <th>3</th>\n",
       "      <td>Nacional</td>\n",
       "      <td>MULTILINESTRING ((-53.74518 -26.05548, -53.745...</td>\n",
       "    </tr>\n",
       "    <tr>\n",
       "      <th>4</th>\n",
       "      <td>Nacional</td>\n",
       "      <td>MULTILINESTRING ((-53.74290 -26.05752, -53.743...</td>\n",
       "    </tr>\n",
       "  </tbody>\n",
       "</table>\n",
       "</div>"
      ],
      "text/plain": [
       "        hct                                           geometry\n",
       "0  Nacional  MULTILINESTRING ((-54.49869 -25.66899, -54.498...\n",
       "1  Nacional  MULTILINESTRING ((-54.46205 -25.71356, -54.462...\n",
       "2  Nacional  MULTILINESTRING ((-54.08179 -25.72037, -54.082...\n",
       "3  Nacional  MULTILINESTRING ((-53.74518 -26.05548, -53.745...\n",
       "4  Nacional  MULTILINESTRING ((-53.74290 -26.05752, -53.743..."
      ]
     },
     "execution_count": 23,
     "metadata": {},
     "output_type": "execute_result"
    }
   ],
   "source": [
    "df_urb['hct'] = df_urb['objeto']\n",
    "df_calles = pd.concat([df_nac[['hct', 'geometry']], df_pro[['hct', 'geometry']], df_ter[['hct', 'geometry']], df_urb[['hct', 'geometry']]])\n",
    "df_calles.loc[df_calles.hct == 2, 'hct'] = 'Provincial'\n",
    "df_calles.loc[df_calles.hct == 4, 'hct'] = 'Terciario'\n",
    "print(df_calles.hct.unique())\n",
    "df_calles.head()"
   ]
  },
  {
   "cell_type": "code",
   "execution_count": 25,
   "metadata": {},
   "outputs": [
    {
     "data": {
      "text/html": [
       "<div>\n",
       "<style scoped>\n",
       "    .dataframe tbody tr th:only-of-type {\n",
       "        vertical-align: middle;\n",
       "    }\n",
       "\n",
       "    .dataframe tbody tr th {\n",
       "        vertical-align: top;\n",
       "    }\n",
       "\n",
       "    .dataframe thead th {\n",
       "        text-align: right;\n",
       "    }\n",
       "</style>\n",
       "<table border=\"1\" class=\"dataframe\">\n",
       "  <thead>\n",
       "    <tr style=\"text-align: right;\">\n",
       "      <th></th>\n",
       "      <th>hct</th>\n",
       "      <th>SUPERFICIE</th>\n",
       "      <th>DISTRITO</th>\n",
       "      <th>geometry</th>\n",
       "    </tr>\n",
       "  </thead>\n",
       "  <tbody>\n",
       "    <tr>\n",
       "      <th>0</th>\n",
       "      <td>Provincial</td>\n",
       "      <td>88</td>\n",
       "      <td>LOMAS DE ZAMORA</td>\n",
       "      <td>MULTILINESTRING ((-58.45688 -34.78142, -58.446...</td>\n",
       "    </tr>\n",
       "    <tr>\n",
       "      <th>1</th>\n",
       "      <td>Provincial</td>\n",
       "      <td>88</td>\n",
       "      <td>LOMAS DE ZAMORA</td>\n",
       "      <td>LINESTRING (-58.43914 -34.80495, -58.43024 -34...</td>\n",
       "    </tr>\n",
       "    <tr>\n",
       "      <th>2</th>\n",
       "      <td>Provincial</td>\n",
       "      <td>88</td>\n",
       "      <td>LOMAS DE ZAMORA</td>\n",
       "      <td>LINESTRING (-58.43980 -34.80533, -58.43914 -34...</td>\n",
       "    </tr>\n",
       "    <tr>\n",
       "      <th>3</th>\n",
       "      <td>Provincial</td>\n",
       "      <td>88</td>\n",
       "      <td>LOMAS DE ZAMORA</td>\n",
       "      <td>LINESTRING (-58.33941 -34.75048, -58.34284 -34...</td>\n",
       "    </tr>\n",
       "    <tr>\n",
       "      <th>4</th>\n",
       "      <td>Provincial</td>\n",
       "      <td>88</td>\n",
       "      <td>LOMAS DE ZAMORA</td>\n",
       "      <td>LINESTRING (-58.34642 -34.75396, -58.37181 -34...</td>\n",
       "    </tr>\n",
       "  </tbody>\n",
       "</table>\n",
       "</div>"
      ],
      "text/plain": [
       "          hct  SUPERFICIE         DISTRITO  \\\n",
       "0  Provincial          88  LOMAS DE ZAMORA   \n",
       "1  Provincial          88  LOMAS DE ZAMORA   \n",
       "2  Provincial          88  LOMAS DE ZAMORA   \n",
       "3  Provincial          88  LOMAS DE ZAMORA   \n",
       "4  Provincial          88  LOMAS DE ZAMORA   \n",
       "\n",
       "                                            geometry  \n",
       "0  MULTILINESTRING ((-58.45688 -34.78142, -58.446...  \n",
       "1  LINESTRING (-58.43914 -34.80495, -58.43024 -34...  \n",
       "2  LINESTRING (-58.43980 -34.80533, -58.43914 -34...  \n",
       "3  LINESTRING (-58.33941 -34.75048, -58.34284 -34...  \n",
       "4  LINESTRING (-58.34642 -34.75396, -58.37181 -34...  "
      ]
     },
     "execution_count": 25,
     "metadata": {},
     "output_type": "execute_result"
    }
   ],
   "source": [
    "df_calles_muni = gpd.overlay(df_calles, gdf_muni, how=\"intersection\")\n",
    "df_calles_muni.head()"
   ]
  },
  {
   "cell_type": "code",
   "execution_count": 27,
   "metadata": {},
   "outputs": [],
   "source": [
    "#df_calles_muni.to_file(\"./Calles/RedVial_LanusLomas.geojson\", driver='GeoJSON')\n",
    "df_calles_muni.to_file(\"./Calles/RedVial_LanusLomas.shp\")"
   ]
  },
  {
   "cell_type": "markdown",
   "metadata": {},
   "source": [
    "# Functions"
   ]
  },
  {
   "cell_type": "code",
   "execution_count": 9,
   "metadata": {},
   "outputs": [],
   "source": [
    "def dissolveTiempos(df_time, df_ep, outpath):\n",
    "    # load time data\n",
    "    df_pol = df_time\n",
    "    # filter ep polygons\n",
    "    df_eps = df_ep.loc[df_ep.evp == 1]\n",
    "    df_eps['rango'] = '0 - 5'\n",
    "    # merge eps and service areas\n",
    "    df_pol = pd.concat([df_pol, df_eps])\n",
    "    df_pol.reset_index(inplace=True, drop=True)\n",
    "\n",
    "    # split data by time range\n",
    "    df_pol_5 = df_pol.loc[df_pol.rango == '0 - 5']\n",
    "    df_pol_5['tiempo'] = '0 - 5'\n",
    "    df_pol_10 = df_pol.loc[df_pol.rango == '5 - 10']\n",
    "    df_pol_10['tiempo'] = '5 - 10'\n",
    "    df_pol_15 = df_pol.loc[df_pol.rango == '10 - 15']\n",
    "    df_pol_15['tiempo'] = '10 - 15'\n",
    "\n",
    "    # Dissolve polygons by time range\n",
    "    df_pol_5_d = df_pol_5.dissolve(by='rango')\n",
    "    df_pol_10_d = df_pol_10.dissolve(by='rango')\n",
    "    df_pol_15_d = df_pol_15.dissolve(by='rango')\n",
    "    # erase lower times to higher times \n",
    "    df_pol_10_d_dif = gpd.overlay(df_pol_10_d, df_pol_5, how='difference')\n",
    "    df_pol_15_d_dif = gpd.overlay(df_pol_15_d, df_pol_5, how='difference')\n",
    "    df_pol_15_d_dif = gpd.overlay(df_pol_15_d_dif, df_pol_10_d, how='difference')\n",
    "    # merge all time polygons\n",
    "    df_pol_time = pd.concat([df_pol_5_d, df_pol_10_d_dif, df_pol_15_d_dif])\n",
    "    df_pol_time.reset_index(inplace=True, drop=True)\n",
    "    df_pol_time\n",
    "    # clip to the muni area\n",
    "    df_time_muni = gpd.overlay(df_pol_time, gdf_muni, how='intersection')\n",
    "    # clip to the antro area\n",
    "    df_time_muni_antro = gpd.overlay(df_time_muni[['Name', 'FromBreak', 'ToBreak', 'tiempo', 'DISTRITO', 'geometry']], gdf_antro[['geometry']], how='intersection')\n",
    "    # export\n",
    "    df_time_muni_antro.to_file(outpath)"
   ]
  },
  {
   "cell_type": "markdown",
   "metadata": {},
   "source": [
    "# After Network Dataset in ArcMap"
   ]
  },
  {
   "cell_type": "code",
   "execution_count": 2,
   "metadata": {},
   "outputs": [
    {
     "data": {
      "text/plain": [
       "array(['0 - 15', '0 - 10', '0 - 7,61950549423523', '0 - 6,0169798759962',\n",
       "       '0 - 5'], dtype=object)"
      ]
     },
     "execution_count": 2,
     "metadata": {},
     "output_type": "execute_result"
    }
   ],
   "source": [
    "# importar tiempos de viaje\n",
    "df_pol = gpd.read_file(\"./evp_acce/geonet_poltime_2.shp\")\n",
    "df_pol['rango'] = df_pol.apply(lambda row: row.Name.split(': ')[1], axis=1)\n",
    "df_pol.rango.unique()"
   ]
  },
  {
   "cell_type": "code",
   "execution_count": 3,
   "metadata": {},
   "outputs": [
    {
     "data": {
      "text/plain": [
       "array(['10 - 15', '5 - 10', '0 - 5'], dtype=object)"
      ]
     },
     "execution_count": 3,
     "metadata": {},
     "output_type": "execute_result"
    }
   ],
   "source": [
    "df_pol.loc[df_pol.rango == '0 - 7,61950549423523', 'rango'] = '0 - 10'\n",
    "df_pol.loc[df_pol.rango == '0 - 6,0169798759962', 'rango'] = '0 - 10'\n",
    "\n",
    "df_pol.loc[df_pol.rango == '0 - 10', 'rango'] = '5 - 10'\n",
    "df_pol.loc[df_pol.rango == '0 - 15', 'rango'] = '10 - 15'\n",
    "\n",
    "df_pol.rango.unique()"
   ]
  },
  {
   "cell_type": "code",
   "execution_count": null,
   "metadata": {},
   "outputs": [],
   "source": [
    "dissolveTiempos(df_pol, df_eps, \"./evp_acce/geonet_poltime_distritos_antropico.shp\")"
   ]
  },
  {
   "cell_type": "markdown",
   "metadata": {},
   "source": [
    "## Clean data"
   ]
  },
  {
   "cell_type": "code",
   "execution_count": 16,
   "metadata": {},
   "outputs": [],
   "source": [
    "# importar time travel\n",
    "df_pol = gpd.read_file(\"./acce_output_2/geonet_poltime_Parque.shp\")\n",
    "df_pol['rango'] = df_pol.apply(lambda row: row.Name.split(': ')[1], axis=1)\n",
    "df_pol.rango.unique()\n",
    "df_pol.to_file(\"./acce_output_2/geonet_poltime_Parque_clean.shp\")"
   ]
  },
  {
   "cell_type": "code",
   "execution_count": 17,
   "metadata": {},
   "outputs": [
    {
     "data": {
      "text/plain": [
       "array(['10 - 15', '5 - 10', '5 - 8,86072503011333', '0 - 5',\n",
       "       '0 - 0,565751806879071', '0 - 0,349764172997331'], dtype=object)"
      ]
     },
     "execution_count": 17,
     "metadata": {},
     "output_type": "execute_result"
    }
   ],
   "source": [
    "# importar time travel\n",
    "df_pol = gpd.read_file(\"./acce_output_2/geonet_poltime_Parque_con_equipamiento.shp\")\n",
    "df_pol['rango'] = df_pol.apply(lambda row: row.Name.split(': ')[1], axis=1)\n",
    "df_pol.rango.unique()"
   ]
  },
  {
   "cell_type": "code",
   "execution_count": 18,
   "metadata": {},
   "outputs": [
    {
     "data": {
      "text/plain": [
       "array(['10 - 15', '5 - 10', '0 - 5'], dtype=object)"
      ]
     },
     "execution_count": 18,
     "metadata": {},
     "output_type": "execute_result"
    }
   ],
   "source": [
    "df_pol.loc[df_pol.rango == '0 - 0,349764172997331', 'rango'] = '0 - 10'\n",
    "df_pol.loc[df_pol.rango == '0 - 0,565751806879071', 'rango'] = '0 - 10'\n",
    "df_pol.loc[df_pol.rango == '5 - 8,86072503011333', 'rango'] = '5 - 10'\n",
    "\n",
    "df_pol.loc[df_pol.rango == '0 - 10', 'rango'] = '5 - 10'\n",
    "df_pol.loc[df_pol.rango == '0 - 15', 'rango'] = '10 - 15'\n",
    "\n",
    "df_pol.rango.unique()"
   ]
  },
  {
   "cell_type": "code",
   "execution_count": 19,
   "metadata": {},
   "outputs": [],
   "source": [
    "df_pol.to_file(\"./acce_output_2/geonet_poltime_Parque con equipamiento_clean.shp\")"
   ]
  },
  {
   "cell_type": "code",
   "execution_count": 20,
   "metadata": {},
   "outputs": [],
   "source": [
    "# importar time travel\n",
    "df_pol = gpd.read_file(\"./acce_output_2/geonet_poltime_Plaza.shp\")\n",
    "df_pol['rango'] = df_pol.apply(lambda row: row.Name.split(': ')[1], axis=1)\n",
    "df_pol.rango.unique()\n",
    "df_pol.to_file(\"./acce_output_2/geonet_poltime_Plaza_clean.shp\")"
   ]
  },
  {
   "cell_type": "code",
   "execution_count": 21,
   "metadata": {},
   "outputs": [],
   "source": [
    "# importar time travel\n",
    "df_pol = gpd.read_file(\"./acce_output_2/geonet_poltime_Plazoleta.shp\")\n",
    "df_pol['rango'] = df_pol.apply(lambda row: row.Name.split(': ')[1], axis=1)\n",
    "df_pol.rango.unique()\n",
    "df_pol.to_file(\"./acce_output_2/geonet_poltime_Plazoleta_clean.shp\")"
   ]
  },
  {
   "cell_type": "code",
   "execution_count": null,
   "metadata": {},
   "outputs": [],
   "source": [
    "# importar eps\n",
    "df_eps_all = gpd.read_file(\"../2_Procesamiento/CapasEditadas/EspaciosPublicos_v11.geojson\")\n",
    "\n",
    "for eptipo in ['Plaza', 'Plazoleta', 'Parque con equipamiento', 'Parque']:\n",
    "    # load time data\n",
    "    path_load = \"./acce_output_2/geonet_poltime_\"+eptipo+\"_clean.shp\"\n",
    "    df_pol = gpd.read_file(path_load)\n",
    "    # filter ep polygons\n",
    "    df_eps = df_eps_all.loc[df_eps_all.tipo == eptipo]\n",
    "\n",
    "    dissolveTiempos(df_pol, df_eps, \"./evp_acce/geonet_poltime_\"+eptipo+\".shp\")"
   ]
  },
  {
   "cell_type": "markdown",
   "metadata": {},
   "source": [
    "# Parques Potenciales"
   ]
  },
  {
   "cell_type": "code",
   "execution_count": 9,
   "metadata": {},
   "outputs": [],
   "source": [
    "# importar parques potenciales\n",
    "df_parques_potenciales = gpd.read_file(\"../2_Procesamiento/ep_parques_potenciales/EspaciosPublicos_PARQUE CON POT.shp\")"
   ]
  },
  {
   "cell_type": "code",
   "execution_count": 5,
   "metadata": {},
   "outputs": [
    {
     "data": {
      "text/plain": [
       "array(['10 - 15', '5 - 10', '0 - 5'], dtype=object)"
      ]
     },
     "execution_count": 5,
     "metadata": {},
     "output_type": "execute_result"
    }
   ],
   "source": [
    "# importar accesibilidad a parques potenciales\n",
    "df_pol = gpd.read_file(\"./parques_potenciales/geonet_poltime_ParquePotenciales.shp\")\n",
    "df_pol['rango'] = df_pol.apply(lambda row: row.Name.split(': ')[1], axis=1)\n",
    "df_pol.rango.unique()"
   ]
  },
  {
   "cell_type": "code",
   "execution_count": 14,
   "metadata": {},
   "outputs": [
    {
     "name": "stderr",
     "output_type": "stream",
     "text": [
      "c:\\Users\\Compumar\\anaconda3\\envs\\GeoAnalysis\\lib\\site-packages\\geopandas\\geodataframe.py:1351: SettingWithCopyWarning: \n",
      "A value is trying to be set on a copy of a slice from a DataFrame.\n",
      "Try using .loc[row_indexer,col_indexer] = value instead\n",
      "\n",
      "See the caveats in the documentation: https://pandas.pydata.org/pandas-docs/stable/user_guide/indexing.html#returning-a-view-versus-a-copy\n",
      "  super().__setitem__(key, value)\n"
     ]
    }
   ],
   "source": [
    "dissolveTiempos(df_pol, df_parques_potenciales, \"./parques_potenciales/geonet_poltime_ParquePotenciales_disseolve.shp\")"
   ]
  },
  {
   "cell_type": "markdown",
   "metadata": {},
   "source": [
    "# Sistemas de EVP"
   ]
  },
  {
   "cell_type": "code",
   "execution_count": 5,
   "metadata": {},
   "outputs": [],
   "source": [
    "# filter sistems\n",
    "df_eps_sist = df_eps.loc[df_eps.sis_bool == 1]"
   ]
  },
  {
   "cell_type": "code",
   "execution_count": 6,
   "metadata": {},
   "outputs": [
    {
     "data": {
      "text/plain": [
       "array(['10 - 15', '5 - 10', '5 - 8,86072503011333', '0 - 5',\n",
       "       '0 - 0,565751806879071', '0 - 0,349764172997331'], dtype=object)"
      ]
     },
     "execution_count": 6,
     "metadata": {},
     "output_type": "execute_result"
    }
   ],
   "source": [
    "# importar accesibilidad a sistemas\n",
    "df_pol = gpd.read_file(\"./evp_sistemas/geonet_sistemas_ttravel_2.shp\")\n",
    "df_pol['rango'] = df_pol.apply(lambda row: row.Name.split(': ')[1], axis=1)\n",
    "df_pol.rango.unique()"
   ]
  },
  {
   "cell_type": "code",
   "execution_count": 7,
   "metadata": {},
   "outputs": [
    {
     "data": {
      "text/plain": [
       "array(['10 - 15', '5 - 10', '0 - 5'], dtype=object)"
      ]
     },
     "execution_count": 7,
     "metadata": {},
     "output_type": "execute_result"
    }
   ],
   "source": [
    "# clean range\n",
    "df_pol.loc[df_pol.rango == '5 - 8,86072503011333', 'rango'] = '5 - 10'\n",
    "df_pol.loc[df_pol.rango == '0 - 0,565751806879071', 'rango'] = '0 - 5'\n",
    "df_pol.loc[df_pol.rango == '0 - 0,349764172997331', 'rango'] = '0 - 5'\n",
    "df_pol.rango.unique()"
   ]
  },
  {
   "cell_type": "code",
   "execution_count": 10,
   "metadata": {},
   "outputs": [
    {
     "name": "stderr",
     "output_type": "stream",
     "text": [
      "c:\\Users\\Compumar\\anaconda3\\envs\\GeoAnalysis\\lib\\site-packages\\geopandas\\geodataframe.py:1351: SettingWithCopyWarning: \n",
      "A value is trying to be set on a copy of a slice from a DataFrame.\n",
      "Try using .loc[row_indexer,col_indexer] = value instead\n",
      "\n",
      "See the caveats in the documentation: https://pandas.pydata.org/pandas-docs/stable/user_guide/indexing.html#returning-a-view-versus-a-copy\n",
      "  super().__setitem__(key, value)\n"
     ]
    }
   ],
   "source": [
    "dissolveTiempos(df_pol, df_eps_sist, \"./evp_sistemas/geonet_sistemas_ttravel_disseolve.shp\")"
   ]
  },
  {
   "cell_type": "code",
   "execution_count": null,
   "metadata": {},
   "outputs": [],
   "source": []
  }
 ],
 "metadata": {
  "kernelspec": {
   "display_name": "Python 3.7.8 ('GeoAnalysis')",
   "language": "python",
   "name": "python3"
  },
  "language_info": {
   "codemirror_mode": {
    "name": "ipython",
    "version": 3
   },
   "file_extension": ".py",
   "mimetype": "text/x-python",
   "name": "python",
   "nbconvert_exporter": "python",
   "pygments_lexer": "ipython3",
   "version": "3.7.8"
  },
  "orig_nbformat": 4,
  "vscode": {
   "interpreter": {
    "hash": "76d8fbc8f8336675a1901d9de0a2c7c06ee4b86e9ca9d1443f3f5d90eeade619"
   }
  }
 },
 "nbformat": 4,
 "nbformat_minor": 2
}
