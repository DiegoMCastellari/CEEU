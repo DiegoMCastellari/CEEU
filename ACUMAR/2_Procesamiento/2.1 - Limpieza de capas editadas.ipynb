{
 "cells": [
  {
   "cell_type": "code",
   "execution_count": 1,
   "metadata": {},
   "outputs": [],
   "source": [
    "import pandas as pd\n",
    "import geopandas as gpd"
   ]
  },
  {
   "cell_type": "code",
   "execution_count": 8,
   "metadata": {},
   "outputs": [],
   "source": [
    "# importar capas\n",
    "gdf_evp = gpd.read_file(\"./CapasEditadas/EspaciosPublicos_v10.geojson\")\n",
    "gdf_evp.drop(columns=['sis_area_m2', 'barpop_nam', 'barpop_cant', 'bus50_cant', 'bus500_cant'], inplace=True)"
   ]
  },
  {
   "cell_type": "code",
   "execution_count": 39,
   "metadata": {},
   "outputs": [],
   "source": [
    "# importar capas de municipios y límite antrópico\n",
    "gdf_muni = gpd.read_file(\"../1_Datos/ACUMAR/LIMITE_POLITICO.shp\")\n",
    "gdf_limite = gpd.read_file(\"../1_Datos/ACUMAR/LIMITE_ANTROPICO_POLIGONO.geojson\")"
   ]
  },
  {
   "cell_type": "code",
   "execution_count": 5,
   "metadata": {},
   "outputs": [],
   "source": [
    "# importar capas de línea de colectivos\n",
    "gdf_bus = gpd.read_file(\"./Capas_Output/LineasColectivos_v1.geojson\")"
   ]
  },
  {
   "cell_type": "code",
   "execution_count": 6,
   "metadata": {},
   "outputs": [
    {
     "data": {
      "text/html": [
       "<div>\n",
       "<style scoped>\n",
       "    .dataframe tbody tr th:only-of-type {\n",
       "        vertical-align: middle;\n",
       "    }\n",
       "\n",
       "    .dataframe tbody tr th {\n",
       "        vertical-align: top;\n",
       "    }\n",
       "\n",
       "    .dataframe thead th {\n",
       "        text-align: right;\n",
       "    }\n",
       "</style>\n",
       "<table border=\"1\" class=\"dataframe\">\n",
       "  <thead>\n",
       "    <tr style=\"text-align: right;\">\n",
       "      <th></th>\n",
       "      <th>renabap_id</th>\n",
       "      <th>nombre_barrio</th>\n",
       "      <th>provincia</th>\n",
       "      <th>departamento</th>\n",
       "      <th>localidad</th>\n",
       "      <th>cantidad_familias_aproximada</th>\n",
       "      <th>cantidad_viviendas_aproximadas</th>\n",
       "      <th>decada_de_creacion</th>\n",
       "      <th>anio_de_creacion</th>\n",
       "      <th>energia_electrica</th>\n",
       "      <th>efluentes_cloacales</th>\n",
       "      <th>agua_corriente</th>\n",
       "      <th>cocina</th>\n",
       "      <th>calefaccion</th>\n",
       "      <th>situacion_dominial</th>\n",
       "      <th>clasificacion_barrio</th>\n",
       "      <th>superficie_m2</th>\n",
       "      <th>geometry</th>\n",
       "    </tr>\n",
       "  </thead>\n",
       "  <tbody>\n",
       "    <tr>\n",
       "      <th>0</th>\n",
       "      <td>1</td>\n",
       "      <td>Monterrey I</td>\n",
       "      <td>Buenos Aires</td>\n",
       "      <td>Pilar</td>\n",
       "      <td>Presidente Derqui</td>\n",
       "      <td>44.0</td>\n",
       "      <td>40.0</td>\n",
       "      <td>Década 1990</td>\n",
       "      <td>NaN</td>\n",
       "      <td>Conexión a la red con medidor comunitario</td>\n",
       "      <td>Desagüe a cámara séptica y pozo ciego</td>\n",
       "      <td>Bomba de agua de pozo domiciliaria</td>\n",
       "      <td>Gas en garrafa</td>\n",
       "      <td>Otro / vacío</td>\n",
       "      <td>Otro tipo de seguridad en la tenencia</td>\n",
       "      <td>Asentamiento</td>\n",
       "      <td>11674</td>\n",
       "      <td>MULTIPOLYGON (((-58.83350 -34.48128, -58.83383...</td>\n",
       "    </tr>\n",
       "    <tr>\n",
       "      <th>1</th>\n",
       "      <td>2</td>\n",
       "      <td>Malvinas II</td>\n",
       "      <td>Buenos Aires</td>\n",
       "      <td>La Plata</td>\n",
       "      <td>José Melchor Romero</td>\n",
       "      <td>319.0</td>\n",
       "      <td>290.0</td>\n",
       "      <td>Década 1990</td>\n",
       "      <td>NaN</td>\n",
       "      <td>Conexión irregular a la red</td>\n",
       "      <td>Desagüe a cámara séptica y pozo ciego</td>\n",
       "      <td>Conexión irregular a la red de agua</td>\n",
       "      <td>Gas en garrafa</td>\n",
       "      <td>Otro / vacío</td>\n",
       "      <td>Ninguna seguridad en la tenencia</td>\n",
       "      <td>Asentamiento</td>\n",
       "      <td>98034</td>\n",
       "      <td>MULTIPOLYGON (((-58.01200 -34.94732, -58.00911...</td>\n",
       "    </tr>\n",
       "    <tr>\n",
       "      <th>2</th>\n",
       "      <td>3</td>\n",
       "      <td>Ferroviario</td>\n",
       "      <td>Buenos Aires</td>\n",
       "      <td>La Plata</td>\n",
       "      <td>Angel Etcheverry</td>\n",
       "      <td>146.0</td>\n",
       "      <td>133.0</td>\n",
       "      <td>Década 2000</td>\n",
       "      <td>NaN</td>\n",
       "      <td>Conexión irregular a la red</td>\n",
       "      <td>Desagüe sólo a pozo negro/ciego u hoyo</td>\n",
       "      <td>Conexión formal a la red de agua con factura</td>\n",
       "      <td>Gas en garrafa</td>\n",
       "      <td>Leña o carbón</td>\n",
       "      <td>Ninguna seguridad en la tenencia</td>\n",
       "      <td>Asentamiento</td>\n",
       "      <td>75850</td>\n",
       "      <td>MULTIPOLYGON (((-58.07980 -35.03507, -58.07958...</td>\n",
       "    </tr>\n",
       "    <tr>\n",
       "      <th>3</th>\n",
       "      <td>4</td>\n",
       "      <td>La Favelita</td>\n",
       "      <td>Buenos Aires</td>\n",
       "      <td>La Plata</td>\n",
       "      <td>Tolosa</td>\n",
       "      <td>134.0</td>\n",
       "      <td>122.0</td>\n",
       "      <td>Década 1970</td>\n",
       "      <td>NaN</td>\n",
       "      <td>Conexión irregular a la red</td>\n",
       "      <td>Desagüe sólo a pozo negro/ciego u hoyo</td>\n",
       "      <td>Conexión irregular a la red de agua</td>\n",
       "      <td>Gas en garrafa</td>\n",
       "      <td>Energía eléctrica</td>\n",
       "      <td>Ninguna seguridad en la tenencia</td>\n",
       "      <td>Asentamiento</td>\n",
       "      <td>36865</td>\n",
       "      <td>MULTIPOLYGON (((-57.97991 -34.90834, -57.97994...</td>\n",
       "    </tr>\n",
       "    <tr>\n",
       "      <th>4</th>\n",
       "      <td>5</td>\n",
       "      <td>Casaca</td>\n",
       "      <td>Buenos Aires</td>\n",
       "      <td>La Plata</td>\n",
       "      <td>City Bell</td>\n",
       "      <td>22.0</td>\n",
       "      <td>20.0</td>\n",
       "      <td>Década 2000</td>\n",
       "      <td>NaN</td>\n",
       "      <td>Conexión irregular a la red</td>\n",
       "      <td>Desagüe a cámara séptica y pozo ciego</td>\n",
       "      <td>Bomba de agua de pozo domiciliaria</td>\n",
       "      <td>Gas en garrafa</td>\n",
       "      <td>Otro / vacío</td>\n",
       "      <td>Ninguna seguridad en la tenencia</td>\n",
       "      <td>Asentamiento</td>\n",
       "      <td>25754</td>\n",
       "      <td>MULTIPOLYGON (((-58.06297 -34.90134, -58.06328...</td>\n",
       "    </tr>\n",
       "  </tbody>\n",
       "</table>\n",
       "</div>"
      ],
      "text/plain": [
       "   renabap_id nombre_barrio     provincia departamento            localidad  \\\n",
       "0           1   Monterrey I  Buenos Aires        Pilar    Presidente Derqui   \n",
       "1           2   Malvinas II  Buenos Aires     La Plata  José Melchor Romero   \n",
       "2           3   Ferroviario  Buenos Aires     La Plata     Angel Etcheverry   \n",
       "3           4   La Favelita  Buenos Aires     La Plata               Tolosa   \n",
       "4           5        Casaca  Buenos Aires     La Plata            City Bell   \n",
       "\n",
       "   cantidad_familias_aproximada  cantidad_viviendas_aproximadas  \\\n",
       "0                          44.0                            40.0   \n",
       "1                         319.0                           290.0   \n",
       "2                         146.0                           133.0   \n",
       "3                         134.0                           122.0   \n",
       "4                          22.0                            20.0   \n",
       "\n",
       "  decada_de_creacion  anio_de_creacion  \\\n",
       "0        Década 1990               NaN   \n",
       "1        Década 1990               NaN   \n",
       "2        Década 2000               NaN   \n",
       "3        Década 1970               NaN   \n",
       "4        Década 2000               NaN   \n",
       "\n",
       "                           energia_electrica  \\\n",
       "0  Conexión a la red con medidor comunitario   \n",
       "1                Conexión irregular a la red   \n",
       "2                Conexión irregular a la red   \n",
       "3                Conexión irregular a la red   \n",
       "4                Conexión irregular a la red   \n",
       "\n",
       "                      efluentes_cloacales  \\\n",
       "0   Desagüe a cámara séptica y pozo ciego   \n",
       "1   Desagüe a cámara séptica y pozo ciego   \n",
       "2  Desagüe sólo a pozo negro/ciego u hoyo   \n",
       "3  Desagüe sólo a pozo negro/ciego u hoyo   \n",
       "4   Desagüe a cámara séptica y pozo ciego   \n",
       "\n",
       "                                 agua_corriente          cocina  \\\n",
       "0            Bomba de agua de pozo domiciliaria  Gas en garrafa   \n",
       "1           Conexión irregular a la red de agua  Gas en garrafa   \n",
       "2  Conexión formal a la red de agua con factura  Gas en garrafa   \n",
       "3           Conexión irregular a la red de agua  Gas en garrafa   \n",
       "4            Bomba de agua de pozo domiciliaria  Gas en garrafa   \n",
       "\n",
       "         calefaccion                     situacion_dominial  \\\n",
       "0       Otro / vacío  Otro tipo de seguridad en la tenencia   \n",
       "1       Otro / vacío       Ninguna seguridad en la tenencia   \n",
       "2      Leña o carbón       Ninguna seguridad en la tenencia   \n",
       "3  Energía eléctrica       Ninguna seguridad en la tenencia   \n",
       "4       Otro / vacío       Ninguna seguridad en la tenencia   \n",
       "\n",
       "  clasificacion_barrio  superficie_m2  \\\n",
       "0         Asentamiento          11674   \n",
       "1         Asentamiento          98034   \n",
       "2         Asentamiento          75850   \n",
       "3         Asentamiento          36865   \n",
       "4         Asentamiento          25754   \n",
       "\n",
       "                                            geometry  \n",
       "0  MULTIPOLYGON (((-58.83350 -34.48128, -58.83383...  \n",
       "1  MULTIPOLYGON (((-58.01200 -34.94732, -58.00911...  \n",
       "2  MULTIPOLYGON (((-58.07980 -35.03507, -58.07958...  \n",
       "3  MULTIPOLYGON (((-57.97991 -34.90834, -57.97994...  \n",
       "4  MULTIPOLYGON (((-58.06297 -34.90134, -58.06328...  "
      ]
     },
     "execution_count": 6,
     "metadata": {},
     "output_type": "execute_result"
    }
   ],
   "source": [
    "# importar barrios populares\n",
    "gdf_barrios = gpd.read_file(\"../1_Datos/Renabap/BarriosPopulares_2022-05-15_info_publica.geojson\")\n",
    "gdf_barrios.head()"
   ]
  },
  {
   "cell_type": "markdown",
   "metadata": {},
   "source": [
    "# Crear nuevo campo bool y nombre de barrios popular"
   ]
  },
  {
   "cell_type": "code",
   "execution_count": null,
   "metadata": {},
   "outputs": [],
   "source": [
    "# presencia y nombre de barrio al que pertenece el espacio verde\n",
    "\"\"\" gdf_evp_b = gpd.sjoin(gdf_evp, gdf_barrios, how='left')\n",
    "gdf_evp_b.drop_duplicates(subset=['full_id'], inplace=True)\n",
    "gdf_evp = gdf_evp.merge(gdf_evp_b[['full_id', 'nombre_barrio']], on='full_id', how='left')\n",
    "gdf_evp.rename(columns={'nombre_barrio':'barp_nam'}, inplace=True)\n",
    "gdf_evp['barp_bool'] = 0\n",
    "gdf_evp.loc[gdf_evp.barp_nam.notnull(), 'barp_bool'] = 1 \"\"\""
   ]
  },
  {
   "cell_type": "code",
   "execution_count": 10,
   "metadata": {},
   "outputs": [],
   "source": [
    "# buffer de 200m y cruce de capas\n",
    "gdf_evp_buffer = gdf_evp.copy()\n",
    "gdf_evp_buffer = gdf_evp_buffer.to_crs(\"EPSG:5347\")\n",
    "gdf_evp_buffer.geometry = gdf_evp_buffer.buffer(200)\n",
    "gdf_evp_buffer = gdf_evp_buffer.to_crs(\"EPSG:4326\")\n",
    "\n",
    "gdf_evp_buffer_b = gpd.sjoin(gdf_evp_buffer, gdf_barrios, how='left')"
   ]
  },
  {
   "cell_type": "code",
   "execution_count": 11,
   "metadata": {},
   "outputs": [],
   "source": [
    "# cantidad y nombres de barrios a 200 de cada espacio verde\n",
    "pd_bar100_size = pd.DataFrame(gdf_evp_buffer_b.loc[gdf_evp_buffer_b.nombre_barrio.notnull(), 'full_id'].value_counts())\n",
    "pd_bar100_size.reset_index(inplace=True)\n",
    "pd_bar100_size.rename(columns={'index':'full_id', 'full_id':'barpop_cant'}, inplace=True)\n",
    "pd_bar100_nam = pd.DataFrame(gdf_evp_buffer_b.loc[gdf_evp_buffer_b.nombre_barrio.notnull()].groupby(['full_id'])['nombre_barrio'].apply(lambda x: (\", \").join(list(set(x)))))\n",
    "pd_bar100_nam.reset_index(inplace=True)"
   ]
  },
  {
   "cell_type": "code",
   "execution_count": 12,
   "metadata": {},
   "outputs": [],
   "source": [
    "gdf_evp = gdf_evp.merge(pd_bar100_size[['full_id', 'barpop_cant']], on='full_id', how='left')\n",
    "gdf_evp = gdf_evp.merge(pd_bar100_nam[['full_id', 'nombre_barrio']], on='full_id', how='left')\n",
    "gdf_evp.rename(columns={'nombre_barrio':'barpop_nam'}, inplace=True)\n",
    "gdf_evp.barpop_cant.fillna(0, inplace=True)"
   ]
  },
  {
   "cell_type": "markdown",
   "metadata": {},
   "source": [
    "# Generar valores de campo \"full_id\" para los datos UNSAM "
   ]
  },
  {
   "cell_type": "code",
   "execution_count": null,
   "metadata": {},
   "outputs": [],
   "source": [
    "\"\"\" num = 1\n",
    "for i in gdf_evp.loc[gdf_evp.fuente == \"UNSAM\"].index:\n",
    "    num_str = str(num).zfill(5)\n",
    "    gdf_evp.loc[i, 'full_id'] = \"usm\" + num_str\n",
    "    num = num+1 \"\"\""
   ]
  },
  {
   "cell_type": "markdown",
   "metadata": {},
   "source": [
    "# Suma de área de sistemas líneales"
   ]
  },
  {
   "cell_type": "code",
   "execution_count": 13,
   "metadata": {},
   "outputs": [],
   "source": [
    "gdf_evp.loc[gdf_evp.sis_nam == '', 'sis_nam'] = None"
   ]
  },
  {
   "cell_type": "code",
   "execution_count": 14,
   "metadata": {},
   "outputs": [],
   "source": [
    "df_sissup = pd.DataFrame(gdf_evp.loc[(gdf_evp.sis_nam.notnull())&(gdf_evp.sis_nam != '')].groupby(\"sis_nam\")['area_m2'].sum()).reset_index()\n",
    "df_sissup.rename(columns={'area_m2':'sis_area_m2'}, inplace=True)"
   ]
  },
  {
   "cell_type": "code",
   "execution_count": 15,
   "metadata": {},
   "outputs": [
    {
     "name": "stdout",
     "output_type": "stream",
     "text": [
      "302\n",
      "302\n"
     ]
    }
   ],
   "source": [
    "print(len(gdf_evp))\n",
    "gdf_evp = gdf_evp.merge(df_sissup, on='sis_nam', how='left')\n",
    "print(len(gdf_evp))"
   ]
  },
  {
   "cell_type": "markdown",
   "metadata": {},
   "source": [
    "# Cruce con líneas de colectivos"
   ]
  },
  {
   "cell_type": "code",
   "execution_count": 16,
   "metadata": {},
   "outputs": [],
   "source": [
    "# buffer de 50m y cruce capa capa de líenas de colectivos\n",
    "gdf_evp_buffer_50m = gdf_evp.copy()\n",
    "gdf_evp_buffer_50m = gdf_evp_buffer_50m.to_crs(\"EPSG:5347\")\n",
    "gdf_evp_buffer_50m.geometry = gdf_evp_buffer_50m.buffer(50)\n",
    "gdf_evp_buffer_50m = gdf_evp_buffer_50m.to_crs(\"EPSG:4326\")\n",
    "\n",
    "gdf_evp_buffer_50m_sj = gpd.sjoin(gdf_evp_buffer_50m, gdf_bus, how='left')\n",
    "df_bus50 = pd.DataFrame(gdf_evp_buffer_50m_sj.loc[gdf_evp_buffer_50m_sj.full_id_right.notnull(), 'full_id_left'].value_counts()).reset_index().rename(columns={'index':'full_id', 'full_id_left':'bus50_cant'})"
   ]
  },
  {
   "cell_type": "code",
   "execution_count": 17,
   "metadata": {},
   "outputs": [],
   "source": [
    "# buffer de 500m y cruce capa capa de líenas de colectivos\n",
    "gdf_evp_buffer_500m = gdf_evp.copy()\n",
    "gdf_evp_buffer_500m = gdf_evp_buffer_500m.to_crs(\"EPSG:5347\")\n",
    "gdf_evp_buffer_500m.geometry = gdf_evp_buffer_500m.buffer(500)\n",
    "gdf_evp_buffer_500m = gdf_evp_buffer_500m.to_crs(\"EPSG:4326\")\n",
    "\n",
    "gdf_evp_buffer_500m_sj = gpd.sjoin(gdf_evp_buffer_500m, gdf_bus, how='left')\n",
    "df_bus500 = pd.DataFrame(gdf_evp_buffer_500m_sj.loc[gdf_evp_buffer_500m_sj.full_id_right.notnull(), 'full_id_left'].value_counts()).reset_index().rename(columns={'index':'full_id', 'full_id_left':'bus500_cant'})"
   ]
  },
  {
   "cell_type": "code",
   "execution_count": 18,
   "metadata": {},
   "outputs": [
    {
     "name": "stdout",
     "output_type": "stream",
     "text": [
      "302\n",
      "302\n"
     ]
    }
   ],
   "source": [
    "print(len(gdf_evp))\n",
    "gdf_evp = gdf_evp.merge(df_bus50, on='full_id', how='left')\n",
    "gdf_evp = gdf_evp.merge(df_bus500, on='full_id', how='left')\n",
    "gdf_evp.bus50_cant.fillna(0, inplace=True)\n",
    "gdf_evp.bus500_cant.fillna(0, inplace=True)\n",
    "print(len(gdf_evp))"
   ]
  },
  {
   "cell_type": "markdown",
   "metadata": {},
   "source": [
    "# Limpieza de datos"
   ]
  },
  {
   "cell_type": "code",
   "execution_count": 19,
   "metadata": {},
   "outputs": [
    {
     "data": {
      "text/plain": [
       "True"
      ]
     },
     "execution_count": 19,
     "metadata": {},
     "output_type": "execute_result"
    }
   ],
   "source": [
    "# check unique ids\n",
    "len(gdf_evp) == len(gdf_evp.full_id.unique())"
   ]
  },
  {
   "cell_type": "code",
   "execution_count": 20,
   "metadata": {},
   "outputs": [
    {
     "data": {
      "text/plain": [
       "array(['Plaza', 'Plazoleta', 'Parque con equipamiento', '-', 'Parque',\n",
       "       'Separador vial', 'Cancha'], dtype=object)"
      ]
     },
     "execution_count": 20,
     "metadata": {},
     "output_type": "execute_result"
    }
   ],
   "source": [
    "# check unique tipo\n",
    "gdf_evp.tipo.unique()"
   ]
  },
  {
   "cell_type": "code",
   "execution_count": 25,
   "metadata": {},
   "outputs": [
    {
     "name": "stdout",
     "output_type": "stream",
     "text": [
      "[0.]\n",
      "[1.]\n",
      "[0.]\n",
      "['-' 'Separador vial']\n"
     ]
    }
   ],
   "source": [
    "print(gdf_evp.loc[gdf_evp.tipo == '-', 'evp'].unique())\n",
    "print(gdf_evp.loc[gdf_evp.tipo == 'Cancha', 'evp'].unique())\n",
    "print(gdf_evp.loc[gdf_evp.tipo == 'Separador vial', 'evp'].unique())\n",
    "print(gdf_evp.loc[gdf_evp.evp == 0, 'tipo'].unique())"
   ]
  },
  {
   "cell_type": "code",
   "execution_count": 26,
   "metadata": {},
   "outputs": [
    {
     "data": {
      "text/plain": [
       "array(['Lomas de Zamora', 'Lanús'], dtype=object)"
      ]
     },
     "execution_count": 26,
     "metadata": {},
     "output_type": "execute_result"
    }
   ],
   "source": [
    "# check unique distrito\n",
    "gdf_evp.distrito.unique()"
   ]
  },
  {
   "cell_type": "code",
   "execution_count": 27,
   "metadata": {},
   "outputs": [],
   "source": [
    "gdf_evp[['full_id', 'fuente', 'distrito', 'evp', 'tipo', 'nombre', 'limite', 'area_m2', \n",
    "       'sis_bool', 'sis_nam', 'sis_area_m2', 'barpop_cant', 'barpop_nam', 'bus50_cant', 'bus500_cant', \n",
    "       'observaciones', 'geometry']].to_file(\"./CapasEditadas/EspaciosPublicos_v10.1.geojson\", driver=\"GeoJSON\")"
   ]
  },
  {
   "cell_type": "markdown",
   "metadata": {},
   "source": [
    "# Capas para mapas"
   ]
  },
  {
   "cell_type": "code",
   "execution_count": 30,
   "metadata": {},
   "outputs": [
    {
     "name": "stderr",
     "output_type": "stream",
     "text": [
      "c:\\Users\\Compumar\\anaconda3\\envs\\GeoAnalysis\\lib\\site-packages\\ipykernel_launcher.py:3: UserWarning: Column names longer than 10 characters will be truncated when saved to ESRI Shapefile.\n",
      "  This is separate from the ipykernel package so we can avoid doing imports until\n"
     ]
    }
   ],
   "source": [
    "gdf_evp[['full_id', 'fuente', 'distrito', 'evp', 'tipo', 'nombre', 'limite', 'area_m2', \n",
    "       'sis_bool', 'sis_nam', 'sis_area_m2', 'barpop_cant', 'barpop_nam', 'bus50_cant', 'bus500_cant', \n",
    "       'observaciones', 'geometry']].to_file(\"./Mapas/MapLayouts/shp/EspaciosPublicos.shp\")"
   ]
  },
  {
   "cell_type": "code",
   "execution_count": 41,
   "metadata": {},
   "outputs": [],
   "source": [
    "gdf_limite = gdf_limite.dissolve('Layer')\n",
    "gdf_limite = gdf_limite[['geometry']] \n",
    "gdf_limite.to_file(\"./Mapas/MapLayouts/shp/LimiteAntropico.shp\")"
   ]
  },
  {
   "cell_type": "code",
   "execution_count": 44,
   "metadata": {},
   "outputs": [],
   "source": [
    "gdf_muni_inersect = gdf_muni.overlay(gdf_limite, how='intersection')\n",
    "gdf_muni_inersect.to_file(\"./Mapas/MapLayouts/shp/LimitePolíticoAntropico.shp\")"
   ]
  },
  {
   "cell_type": "code",
   "execution_count": 46,
   "metadata": {},
   "outputs": [],
   "source": [
    "gdf_muni.to_file(\"./Mapas/MapLayouts/shp/LimitePolítico.shp\")"
   ]
  },
  {
   "cell_type": "code",
   "execution_count": null,
   "metadata": {},
   "outputs": [],
   "source": []
  }
 ],
 "metadata": {
  "kernelspec": {
   "display_name": "Python 3.7.8 ('GeoAnalysis')",
   "language": "python",
   "name": "python3"
  },
  "language_info": {
   "codemirror_mode": {
    "name": "ipython",
    "version": 3
   },
   "file_extension": ".py",
   "mimetype": "text/x-python",
   "name": "python",
   "nbconvert_exporter": "python",
   "pygments_lexer": "ipython3",
   "version": "3.7.8"
  },
  "orig_nbformat": 4,
  "vscode": {
   "interpreter": {
    "hash": "76d8fbc8f8336675a1901d9de0a2c7c06ee4b86e9ca9d1443f3f5d90eeade619"
   }
  }
 },
 "nbformat": 4,
 "nbformat_minor": 2
}
