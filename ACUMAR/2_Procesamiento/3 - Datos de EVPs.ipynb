{
 "cells": [
  {
   "cell_type": "code",
   "execution_count": 1,
   "metadata": {},
   "outputs": [],
   "source": [
    "import pandas as pd\n",
    "import geopandas as gpd"
   ]
  },
  {
   "cell_type": "code",
   "execution_count": 2,
   "metadata": {},
   "outputs": [],
   "source": [
    "gdf_evp = gpd.read_file(\"./CapasEditadas/EspaciosPublicos_v10.1.geojson\", driver=\"GeoJSON\")"
   ]
  },
  {
   "cell_type": "code",
   "execution_count": 3,
   "metadata": {},
   "outputs": [
    {
     "name": "stdout",
     "output_type": "stream",
     "text": [
      "cantidad total de epv: 302\n",
      "-- Partido: --\n",
      "  cantidad de epv en Lomas de Zamora: 135\n",
      "  cantidad de epv en Lanús: 167\n",
      "-- Límite: --\n",
      "  cantidad de epv dentro del límite antrópico: 207\n",
      "  cantidad de epv fuera del límite antrópico: 95\n",
      "-- Espacios Lineales: --\n",
      "  cantidad de epv en sistema lineal: 125\n",
      "  cantidad sistemas linelaes: 29\n",
      "-- Tipología: --\n",
      "  Plaza: 85\n",
      "  Plazoleta: 165\n",
      "  Parque con equipamiento: 6\n",
      "  -: 34\n",
      "  Parque: 1\n",
      "  Separador vial: 9\n",
      "  Cancha: 2\n",
      "-- Fuente: --\n",
      "  OSM: 129\n",
      "  IGN: 82\n",
      "  UNSAM: 91\n"
     ]
    }
   ],
   "source": [
    "print(\"cantidad total de epv:\", len(gdf_evp))\n",
    "print(\"-- Partido: --\")\n",
    "for partido in list(gdf_evp.distrito.unique()):\n",
    "    print(\" \", \"cantidad de epv en \"+partido+\":\", len(gdf_evp.loc[gdf_evp.distrito == partido]))\n",
    "print(\"-- Límite: --\")\n",
    "print(\" \", \"cantidad de epv dentro del límite antrópico:\", len(gdf_evp.loc[gdf_evp.limite == 1]))\n",
    "print(\" \", \"cantidad de epv fuera del límite antrópico:\", len(gdf_evp.loc[gdf_evp.limite == 0]))\n",
    "print(\"-- Espacios Lineales: --\")\n",
    "print(\" \", \"cantidad de epv en sistema lineal:\", len(gdf_evp.loc[gdf_evp.sis_bool == 1]))\n",
    "print(\" \", \"cantidad sistemas linelaes:\", len(gdf_evp.loc[gdf_evp.sis_bool == 1, 'sis_nam'].unique()))\n",
    "print(\"-- Tipología: --\")\n",
    "for tipo in list(gdf_evp.tipo.unique()):\n",
    "    print(\" \", tipo+\":\", len(gdf_evp.loc[gdf_evp.tipo == tipo]))\n",
    "print(\"-- Fuente: --\")\n",
    "for source in list(gdf_evp.fuente.unique()):\n",
    "    print(\" \", source+\":\", len(gdf_evp.loc[gdf_evp.fuente == source]))"
   ]
  },
  {
   "cell_type": "code",
   "execution_count": null,
   "metadata": {},
   "outputs": [],
   "source": []
  }
 ],
 "metadata": {
  "kernelspec": {
   "display_name": "Python 3.7.8 ('GeoAnalysis')",
   "language": "python",
   "name": "python3"
  },
  "language_info": {
   "codemirror_mode": {
    "name": "ipython",
    "version": 3
   },
   "file_extension": ".py",
   "mimetype": "text/x-python",
   "name": "python",
   "nbconvert_exporter": "python",
   "pygments_lexer": "ipython3",
   "version": "3.7.8"
  },
  "orig_nbformat": 4,
  "vscode": {
   "interpreter": {
    "hash": "76d8fbc8f8336675a1901d9de0a2c7c06ee4b86e9ca9d1443f3f5d90eeade619"
   }
  }
 },
 "nbformat": 4,
 "nbformat_minor": 2
}
