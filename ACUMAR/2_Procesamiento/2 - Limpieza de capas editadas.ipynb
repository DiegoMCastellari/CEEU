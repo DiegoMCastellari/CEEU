{
 "cells": [
  {
   "cell_type": "code",
   "execution_count": 1,
   "metadata": {},
   "outputs": [],
   "source": [
    "import pandas as pd\n",
    "import geopandas as gpd"
   ]
  },
  {
   "cell_type": "markdown",
   "metadata": {},
   "source": [
    "# Cargar Datos"
   ]
  },
  {
   "cell_type": "code",
   "execution_count": 276,
   "metadata": {},
   "outputs": [],
   "source": [
    "# importar capas\n",
    "gdf_OSMIGN = gpd.read_file(\"./CapasEditadas/EspaciosPublicos_v2.geojson\")\n",
    "gdf_UNSAM = gpd.read_file(\"./CapasEditadas/EspaciosPublicos_v2_UNSAM.2.geojson\")"
   ]
  },
  {
   "cell_type": "code",
   "execution_count": 277,
   "metadata": {},
   "outputs": [
    {
     "name": "stdout",
     "output_type": "stream",
     "text": [
      "Datos OSM+IGN: 213\n",
      "Datos UNSAM: 49\n",
      "Datos Total: 262\n",
      "____________________________\n",
      "Datos Capa EPV: 262\n"
     ]
    }
   ],
   "source": [
    "gdf_evp = pd.concat([gdf_OSMIGN, gdf_UNSAM])\n",
    "gdf_evp.reset_index(inplace=True, drop=True)\n",
    "print(\"Datos OSM+IGN:\", len(gdf_OSMIGN))\n",
    "print(\"Datos UNSAM:\", len(gdf_UNSAM))\n",
    "print(\"Datos Total:\", len(gdf_OSMIGN)+len(gdf_UNSAM))\n",
    "print(\"____________________________\")\n",
    "print(\"Datos Capa EPV:\", len(gdf_evp))"
   ]
  },
  {
   "cell_type": "code",
   "execution_count": 278,
   "metadata": {},
   "outputs": [],
   "source": [
    "# importar capas de municipios y límite antrópico\n",
    "gdf_muni = gpd.read_file(\"../1_Datos/ACUMAR/LIMITE_POLITICO.shp\")\n",
    "gdf_limite = gpd.read_file(\"../1_Datos/ACUMAR/LIMITE_ANTROPICO_POLIGONO.geojson\")"
   ]
  },
  {
   "cell_type": "code",
   "execution_count": 10,
   "metadata": {},
   "outputs": [
    {
     "data": {
      "text/html": [
       "<div>\n",
       "<style scoped>\n",
       "    .dataframe tbody tr th:only-of-type {\n",
       "        vertical-align: middle;\n",
       "    }\n",
       "\n",
       "    .dataframe tbody tr th {\n",
       "        vertical-align: top;\n",
       "    }\n",
       "\n",
       "    .dataframe thead th {\n",
       "        text-align: right;\n",
       "    }\n",
       "</style>\n",
       "<table border=\"1\" class=\"dataframe\">\n",
       "  <thead>\n",
       "    <tr style=\"text-align: right;\">\n",
       "      <th></th>\n",
       "      <th>renabap_id</th>\n",
       "      <th>nombre_barrio</th>\n",
       "      <th>provincia</th>\n",
       "      <th>departamento</th>\n",
       "      <th>localidad</th>\n",
       "      <th>cantidad_familias_aproximada</th>\n",
       "      <th>cantidad_viviendas_aproximadas</th>\n",
       "      <th>decada_de_creacion</th>\n",
       "      <th>anio_de_creacion</th>\n",
       "      <th>energia_electrica</th>\n",
       "      <th>efluentes_cloacales</th>\n",
       "      <th>agua_corriente</th>\n",
       "      <th>cocina</th>\n",
       "      <th>calefaccion</th>\n",
       "      <th>situacion_dominial</th>\n",
       "      <th>clasificacion_barrio</th>\n",
       "      <th>superficie_m2</th>\n",
       "      <th>geometry</th>\n",
       "    </tr>\n",
       "  </thead>\n",
       "  <tbody>\n",
       "    <tr>\n",
       "      <th>0</th>\n",
       "      <td>1</td>\n",
       "      <td>Monterrey I</td>\n",
       "      <td>Buenos Aires</td>\n",
       "      <td>Pilar</td>\n",
       "      <td>Presidente Derqui</td>\n",
       "      <td>44.0</td>\n",
       "      <td>40.0</td>\n",
       "      <td>Década 1990</td>\n",
       "      <td>NaN</td>\n",
       "      <td>Conexión a la red con medidor comunitario</td>\n",
       "      <td>Desagüe a cámara séptica y pozo ciego</td>\n",
       "      <td>Bomba de agua de pozo domiciliaria</td>\n",
       "      <td>Gas en garrafa</td>\n",
       "      <td>Otro / vacío</td>\n",
       "      <td>Otro tipo de seguridad en la tenencia</td>\n",
       "      <td>Asentamiento</td>\n",
       "      <td>11674</td>\n",
       "      <td>MULTIPOLYGON (((-58.83350 -34.48128, -58.83383...</td>\n",
       "    </tr>\n",
       "    <tr>\n",
       "      <th>1</th>\n",
       "      <td>2</td>\n",
       "      <td>Malvinas II</td>\n",
       "      <td>Buenos Aires</td>\n",
       "      <td>La Plata</td>\n",
       "      <td>José Melchor Romero</td>\n",
       "      <td>319.0</td>\n",
       "      <td>290.0</td>\n",
       "      <td>Década 1990</td>\n",
       "      <td>NaN</td>\n",
       "      <td>Conexión irregular a la red</td>\n",
       "      <td>Desagüe a cámara séptica y pozo ciego</td>\n",
       "      <td>Conexión irregular a la red de agua</td>\n",
       "      <td>Gas en garrafa</td>\n",
       "      <td>Otro / vacío</td>\n",
       "      <td>Ninguna seguridad en la tenencia</td>\n",
       "      <td>Asentamiento</td>\n",
       "      <td>98034</td>\n",
       "      <td>MULTIPOLYGON (((-58.01200 -34.94732, -58.00911...</td>\n",
       "    </tr>\n",
       "    <tr>\n",
       "      <th>2</th>\n",
       "      <td>3</td>\n",
       "      <td>Ferroviario</td>\n",
       "      <td>Buenos Aires</td>\n",
       "      <td>La Plata</td>\n",
       "      <td>Angel Etcheverry</td>\n",
       "      <td>146.0</td>\n",
       "      <td>133.0</td>\n",
       "      <td>Década 2000</td>\n",
       "      <td>NaN</td>\n",
       "      <td>Conexión irregular a la red</td>\n",
       "      <td>Desagüe sólo a pozo negro/ciego u hoyo</td>\n",
       "      <td>Conexión formal a la red de agua con factura</td>\n",
       "      <td>Gas en garrafa</td>\n",
       "      <td>Leña o carbón</td>\n",
       "      <td>Ninguna seguridad en la tenencia</td>\n",
       "      <td>Asentamiento</td>\n",
       "      <td>75850</td>\n",
       "      <td>MULTIPOLYGON (((-58.07980 -35.03507, -58.07958...</td>\n",
       "    </tr>\n",
       "    <tr>\n",
       "      <th>3</th>\n",
       "      <td>4</td>\n",
       "      <td>La Favelita</td>\n",
       "      <td>Buenos Aires</td>\n",
       "      <td>La Plata</td>\n",
       "      <td>Tolosa</td>\n",
       "      <td>134.0</td>\n",
       "      <td>122.0</td>\n",
       "      <td>Década 1970</td>\n",
       "      <td>NaN</td>\n",
       "      <td>Conexión irregular a la red</td>\n",
       "      <td>Desagüe sólo a pozo negro/ciego u hoyo</td>\n",
       "      <td>Conexión irregular a la red de agua</td>\n",
       "      <td>Gas en garrafa</td>\n",
       "      <td>Energía eléctrica</td>\n",
       "      <td>Ninguna seguridad en la tenencia</td>\n",
       "      <td>Asentamiento</td>\n",
       "      <td>36865</td>\n",
       "      <td>MULTIPOLYGON (((-57.97991 -34.90834, -57.97994...</td>\n",
       "    </tr>\n",
       "    <tr>\n",
       "      <th>4</th>\n",
       "      <td>5</td>\n",
       "      <td>Casaca</td>\n",
       "      <td>Buenos Aires</td>\n",
       "      <td>La Plata</td>\n",
       "      <td>City Bell</td>\n",
       "      <td>22.0</td>\n",
       "      <td>20.0</td>\n",
       "      <td>Década 2000</td>\n",
       "      <td>NaN</td>\n",
       "      <td>Conexión irregular a la red</td>\n",
       "      <td>Desagüe a cámara séptica y pozo ciego</td>\n",
       "      <td>Bomba de agua de pozo domiciliaria</td>\n",
       "      <td>Gas en garrafa</td>\n",
       "      <td>Otro / vacío</td>\n",
       "      <td>Ninguna seguridad en la tenencia</td>\n",
       "      <td>Asentamiento</td>\n",
       "      <td>25754</td>\n",
       "      <td>MULTIPOLYGON (((-58.06297 -34.90134, -58.06328...</td>\n",
       "    </tr>\n",
       "  </tbody>\n",
       "</table>\n",
       "</div>"
      ],
      "text/plain": [
       "   renabap_id nombre_barrio     provincia departamento            localidad  \\\n",
       "0           1   Monterrey I  Buenos Aires        Pilar    Presidente Derqui   \n",
       "1           2   Malvinas II  Buenos Aires     La Plata  José Melchor Romero   \n",
       "2           3   Ferroviario  Buenos Aires     La Plata     Angel Etcheverry   \n",
       "3           4   La Favelita  Buenos Aires     La Plata               Tolosa   \n",
       "4           5        Casaca  Buenos Aires     La Plata            City Bell   \n",
       "\n",
       "   cantidad_familias_aproximada  cantidad_viviendas_aproximadas  \\\n",
       "0                          44.0                            40.0   \n",
       "1                         319.0                           290.0   \n",
       "2                         146.0                           133.0   \n",
       "3                         134.0                           122.0   \n",
       "4                          22.0                            20.0   \n",
       "\n",
       "  decada_de_creacion  anio_de_creacion  \\\n",
       "0        Década 1990               NaN   \n",
       "1        Década 1990               NaN   \n",
       "2        Década 2000               NaN   \n",
       "3        Década 1970               NaN   \n",
       "4        Década 2000               NaN   \n",
       "\n",
       "                           energia_electrica  \\\n",
       "0  Conexión a la red con medidor comunitario   \n",
       "1                Conexión irregular a la red   \n",
       "2                Conexión irregular a la red   \n",
       "3                Conexión irregular a la red   \n",
       "4                Conexión irregular a la red   \n",
       "\n",
       "                      efluentes_cloacales  \\\n",
       "0   Desagüe a cámara séptica y pozo ciego   \n",
       "1   Desagüe a cámara séptica y pozo ciego   \n",
       "2  Desagüe sólo a pozo negro/ciego u hoyo   \n",
       "3  Desagüe sólo a pozo negro/ciego u hoyo   \n",
       "4   Desagüe a cámara séptica y pozo ciego   \n",
       "\n",
       "                                 agua_corriente          cocina  \\\n",
       "0            Bomba de agua de pozo domiciliaria  Gas en garrafa   \n",
       "1           Conexión irregular a la red de agua  Gas en garrafa   \n",
       "2  Conexión formal a la red de agua con factura  Gas en garrafa   \n",
       "3           Conexión irregular a la red de agua  Gas en garrafa   \n",
       "4            Bomba de agua de pozo domiciliaria  Gas en garrafa   \n",
       "\n",
       "         calefaccion                     situacion_dominial  \\\n",
       "0       Otro / vacío  Otro tipo de seguridad en la tenencia   \n",
       "1       Otro / vacío       Ninguna seguridad en la tenencia   \n",
       "2      Leña o carbón       Ninguna seguridad en la tenencia   \n",
       "3  Energía eléctrica       Ninguna seguridad en la tenencia   \n",
       "4       Otro / vacío       Ninguna seguridad en la tenencia   \n",
       "\n",
       "  clasificacion_barrio  superficie_m2  \\\n",
       "0         Asentamiento          11674   \n",
       "1         Asentamiento          98034   \n",
       "2         Asentamiento          75850   \n",
       "3         Asentamiento          36865   \n",
       "4         Asentamiento          25754   \n",
       "\n",
       "                                            geometry  \n",
       "0  MULTIPOLYGON (((-58.83350 -34.48128, -58.83383...  \n",
       "1  MULTIPOLYGON (((-58.01200 -34.94732, -58.00911...  \n",
       "2  MULTIPOLYGON (((-58.07980 -35.03507, -58.07958...  \n",
       "3  MULTIPOLYGON (((-57.97991 -34.90834, -57.97994...  \n",
       "4  MULTIPOLYGON (((-58.06297 -34.90134, -58.06328...  "
      ]
     },
     "execution_count": 10,
     "metadata": {},
     "output_type": "execute_result"
    }
   ],
   "source": [
    "# importar barrios populares\n",
    "gdf_barrios = gpd.read_file(\"../1_Datos/Renabap/BarriosPopulares_2022-05-15_info_publica.geojson\")\n",
    "gdf_barrios.head()"
   ]
  },
  {
   "cell_type": "markdown",
   "metadata": {},
   "source": [
    "# Calcular superficie"
   ]
  },
  {
   "cell_type": "code",
   "execution_count": 280,
   "metadata": {},
   "outputs": [],
   "source": [
    "gdf_evp = gdf_evp.to_crs(\"EPSG:5347\")\n",
    "gdf_evp['area_m2'] = gdf_evp.area\n",
    "gdf_evp.area_m2 = round(gdf_evp.area_m2, 2)\n",
    "gdf_evp = gdf_evp.to_crs(\"EPSG:4326\")"
   ]
  },
  {
   "cell_type": "markdown",
   "metadata": {},
   "source": [
    "# Limpiar el campo observaciones"
   ]
  },
  {
   "cell_type": "code",
   "execution_count": 281,
   "metadata": {},
   "outputs": [
    {
     "data": {
      "text/plain": [
       "array(['OSM', 'IGN', 'UNSAM'], dtype=object)"
      ]
     },
     "execution_count": 281,
     "metadata": {},
     "output_type": "execute_result"
    }
   ],
   "source": [
    "# chequeo de fuentes\n",
    "gdf_evp.fuente.unique()"
   ]
  },
  {
   "cell_type": "code",
   "execution_count": 282,
   "metadata": {},
   "outputs": [],
   "source": [
    "# eliminar palabra nuevo de las observaciones de los datos de fuente UNSAM\n",
    "gdf_evp.loc[gdf_evp.fuente == 'UNSAM', 'observaciones'] = gdf_evp.loc[gdf_evp.fuente == 'UNSAM', 'observaciones'].str.replace('nuevo. ', '')\n",
    "gdf_evp.loc[gdf_evp.fuente == 'UNSAM', 'observaciones'] = gdf_evp.loc[gdf_evp.fuente == 'UNSAM', 'observaciones'].str.replace('nueva. ', '')\n",
    "gdf_evp.loc[gdf_evp.fuente == 'UNSAM', 'observaciones'] = gdf_evp.loc[gdf_evp.fuente == 'UNSAM', 'observaciones'].str.replace('nuevo', '')\n",
    "gdf_evp.loc[gdf_evp.fuente == 'UNSAM', 'observaciones'] = gdf_evp.loc[gdf_evp.fuente == 'UNSAM', 'observaciones'].str.replace('nueva', '')"
   ]
  },
  {
   "cell_type": "markdown",
   "metadata": {},
   "source": [
    "# Crear nuevo campo bool y string para sistema"
   ]
  },
  {
   "cell_type": "code",
   "execution_count": 283,
   "metadata": {},
   "outputs": [],
   "source": [
    "gdf_evp['sis_bool'] = 0\n",
    "gdf_evp['sis_nam'] = None\n",
    "gdf_evp = gdf_evp[['full_id', 'fuente', 'distrito', 'evp', 'categoria', 'tipo', 'nombre', 'sis_bool', 'sis_nam',\n",
    "       'superpuesto', 'area_m2', 'limite', 'observaciones', 'geometry']]"
   ]
  },
  {
   "cell_type": "markdown",
   "metadata": {},
   "source": [
    "# Crear nuevo campo bool y nombre de barrios popular"
   ]
  },
  {
   "cell_type": "code",
   "execution_count": 284,
   "metadata": {},
   "outputs": [],
   "source": [
    "# presencia y nombre de barrio al que pertenece el espacio verde\n",
    "gdf_evp_b = gpd.sjoin(gdf_evp, gdf_barrios, how='left')\n",
    "gdf_evp = gdf_evp.merge(gdf_evp_b[['full_id', 'nombre_barrio']], on='full_id', how='left')\n",
    "gdf_evp.rename(columns={'nombre_barrio':'barp_nam'}, inplace=True)\n",
    "gdf_evp['barp_bool'] = 0\n",
    "gdf_evp.loc[gdf_evp.barp_nam.notnull(), 'barp_bool'] = 1"
   ]
  },
  {
   "cell_type": "code",
   "execution_count": 285,
   "metadata": {},
   "outputs": [],
   "source": [
    "# buffer de 100m y cruce de capas\n",
    "gdf_evp_buffer = gdf_evp.copy()\n",
    "gdf_evp_buffer = gdf_evp_buffer.to_crs(\"EPSG:5347\")\n",
    "gdf_evp_buffer.geometry = gdf_evp_buffer.buffer(100)\n",
    "gdf_evp_buffer = gdf_evp_buffer.to_crs(\"EPSG:4326\")\n",
    "\n",
    "gdf_evp_buffer_b = gpd.sjoin(gdf_evp_buffer, gdf_barrios, how='left')"
   ]
  },
  {
   "cell_type": "code",
   "execution_count": 286,
   "metadata": {},
   "outputs": [],
   "source": [
    "# cantidad y nombres de barrios a 100 de cada espacio verde\n",
    "pd_bar100_size = pd.DataFrame(gdf_evp_buffer_b.loc[gdf_evp_buffer_b.nombre_barrio.notnull(), 'full_id'].value_counts())\n",
    "pd_bar100_size.reset_index(inplace=True)\n",
    "pd_bar100_size.rename(columns={'index':'full_id', 'full_id':'barp100_cant'}, inplace=True)\n",
    "pd_bar100_nam = pd.DataFrame(gdf_evp_buffer_b.loc[gdf_evp_buffer_b.nombre_barrio.notnull()].groupby(['full_id'])['nombre_barrio'].apply(lambda x: (\", \").join(list(set(x)))))\n",
    "pd_bar100_nam.reset_index(inplace=True)"
   ]
  },
  {
   "cell_type": "code",
   "execution_count": 287,
   "metadata": {},
   "outputs": [],
   "source": [
    "gdf_evp = gdf_evp.merge(pd_bar100_size[['full_id', 'barp100_cant']], on='full_id', how='left')\n",
    "gdf_evp = gdf_evp.merge(pd_bar100_nam[['full_id', 'nombre_barrio']], on='full_id', how='left')\n",
    "gdf_evp.rename(columns={'nombre_barrio':'barp100_nam'}, inplace=True)"
   ]
  },
  {
   "cell_type": "markdown",
   "metadata": {},
   "source": [
    "# Generar valores de campo \"full_id\" para los datos UNSAM "
   ]
  },
  {
   "cell_type": "code",
   "execution_count": 288,
   "metadata": {},
   "outputs": [],
   "source": [
    "num = 1\n",
    "for i in gdf_evp.loc[gdf_evp.fuente == \"UNSAM\"].index:\n",
    "    num_str = str(num).zfill(5)\n",
    "    gdf_evp.loc[i, 'full_id'] = \"usm\" + num_str\n",
    "    num = num+1"
   ]
  },
  {
   "cell_type": "markdown",
   "metadata": {},
   "source": [
    "# Limpieza de datos"
   ]
  },
  {
   "cell_type": "code",
   "execution_count": 289,
   "metadata": {},
   "outputs": [],
   "source": [
    "# check polígonos eliminados\n",
    "lista_e = ['w149700227', 'r5514857', 'w241322368', 'r2895800', '5902', '13221', '13562', 'w678895041', '107', 'w557932545', 'w557932547', 'w557932548',\n",
    "        'r2467321', 'w160069211', 'w160069212', 'w160069213', 'w167029792', 'w160069208', 'w800490320', 'w160069206', 'w570792577', 'w510623913']\n",
    "\n",
    "for e in lista_e:\n",
    "    if len(gdf_evp.loc[gdf_evp.full_id == i]) > 0:\n",
    "        print(i)"
   ]
  },
  {
   "cell_type": "code",
   "execution_count": 290,
   "metadata": {},
   "outputs": [
    {
     "data": {
      "text/plain": [
       "True"
      ]
     },
     "execution_count": 290,
     "metadata": {},
     "output_type": "execute_result"
    }
   ],
   "source": [
    "# check unique ids\n",
    "len(gdf_evp) == len(gdf_evp.full_id.unique())"
   ]
  },
  {
   "cell_type": "code",
   "execution_count": 291,
   "metadata": {},
   "outputs": [
    {
     "data": {
      "text/plain": [
       "array(['Plaza', 'Plazoleta', 'Parque con equipamiento', '-', 'Parque',\n",
       "       'Separador vial', 'Plazoleta/Separador vial', '?'], dtype=object)"
      ]
     },
     "execution_count": 291,
     "metadata": {},
     "output_type": "execute_result"
    }
   ],
   "source": [
    "# check unique tipo\n",
    "gdf_evp.tipo.unique()"
   ]
  },
  {
   "cell_type": "code",
   "execution_count": 292,
   "metadata": {},
   "outputs": [
    {
     "data": {
      "text/plain": [
       "array(['LOMAS DE ZAMORA', 'LANUS', None], dtype=object)"
      ]
     },
     "execution_count": 292,
     "metadata": {},
     "output_type": "execute_result"
    }
   ],
   "source": [
    "# check unique distrito\n",
    "gdf_evp.distrito.unique()"
   ]
  },
  {
   "cell_type": "code",
   "execution_count": 293,
   "metadata": {},
   "outputs": [
    {
     "name": "stderr",
     "output_type": "stream",
     "text": [
      "c:\\Users\\Compumar\\anaconda3\\envs\\GeoAnalysis\\lib\\site-packages\\ipykernel_launcher.py:3: UserWarning: Geometry is in a geographic CRS. Results from 'centroid' are likely incorrect. Use 'GeoSeries.to_crs()' to re-project geometries to a projected CRS before this operation.\n",
      "\n",
      "  This is separate from the ipykernel package so we can avoid doing imports until\n"
     ]
    }
   ],
   "source": [
    "# recalcular distrito\n",
    "gdf_evp_center = gdf_evp.copy()\n",
    "gdf_evp_center.geometry = gdf_evp.centroid\n",
    "gdf_evp_center_sjoin = gpd.sjoin(gdf_evp_center, gdf_muni[['DISTRITO', 'geometry']], how='left')\n",
    "gdf_evp = gdf_evp.merge(gdf_evp_center_sjoin[['full_id', 'DISTRITO']], on='full_id', how='left')\n",
    "gdf_evp['distrito'] = gdf_evp['DISTRITO']\n",
    "gdf_evp.drop(columns='DISTRITO', inplace=True)"
   ]
  },
  {
   "cell_type": "code",
   "execution_count": 294,
   "metadata": {},
   "outputs": [
    {
     "data": {
      "text/plain": [
       "array(['Lomas de Zamora', 'Lanús'], dtype=object)"
      ]
     },
     "execution_count": 294,
     "metadata": {},
     "output_type": "execute_result"
    }
   ],
   "source": [
    "# cambiar el nombre de los distritos\n",
    "gdf_evp.loc[gdf_evp.distrito == 'LANUS', 'distrito'] = 'Lanús'\n",
    "gdf_evp.loc[gdf_evp.distrito != 'Lanús', 'distrito'] = 'Lomas de Zamora'\n",
    "gdf_evp.distrito.unique()"
   ]
  },
  {
   "cell_type": "code",
   "execution_count": 295,
   "metadata": {},
   "outputs": [],
   "source": [
    "# recalcular limite\n",
    "gdf_evp = gpd.sjoin(gdf_evp, gdf_limite[['fid', 'geometry']], how='left')\n",
    "gdf_evp['limite'] = 1\n",
    "gdf_evp.loc[gdf_evp.index_right.isnull(), 'limite'] = 0"
   ]
  },
  {
   "cell_type": "code",
   "execution_count": 296,
   "metadata": {},
   "outputs": [],
   "source": [
    "# ordenar columns y eliminar \"superpuesto\"\n",
    "gdf_evp = gdf_evp[['full_id', 'fuente', 'distrito', 'evp', 'tipo', 'nombre', 'sis_bool', 'sis_nam',\n",
    "        'area_m2', 'barp_nam', 'barp_bool', 'barp100_cant', 'barp100_nam', 'limite', 'observaciones', \n",
    "        'geometry']]"
   ]
  },
  {
   "cell_type": "code",
   "execution_count": 297,
   "metadata": {},
   "outputs": [],
   "source": [
    "gdf_evp.to_file(\"./CapasEditadas/EspaciosPublicos_v4.geojson\", driver=\"GeoJSON\")"
   ]
  },
  {
   "cell_type": "markdown",
   "metadata": {},
   "source": [
    "# Segundo Chequeo"
   ]
  },
  {
   "cell_type": "code",
   "execution_count": 7,
   "metadata": {},
   "outputs": [],
   "source": [
    "gdf_evp = gpd.read_file(\"./CapasEditadas/EspaciosPublicos_v3-12-7.geojson\")"
   ]
  },
  {
   "cell_type": "code",
   "execution_count": 8,
   "metadata": {},
   "outputs": [
    {
     "name": "stdout",
     "output_type": "stream",
     "text": [
      "303\n",
      "300\n"
     ]
    }
   ],
   "source": [
    "# eliminar polígonos duplicados\n",
    "print(len(gdf_evp))\n",
    "gdf_evp = gdf_evp.loc[gdf_evp.full_id != 'usm00002']\n",
    "gdf_evp = gdf_evp.loc[gdf_evp.full_id != 'usm00004']\n",
    "gdf_evp = gdf_evp.loc[gdf_evp.full_id != 'usm00005']\n",
    "gdf_evp.reset_index(inplace=True, drop=True)\n",
    "print(len(gdf_evp))"
   ]
  },
  {
   "cell_type": "code",
   "execution_count": 9,
   "metadata": {},
   "outputs": [],
   "source": [
    "# calcular áreas\n",
    "gdf_evp = gdf_evp.to_crs(\"EPSG:5347\")\n",
    "gdf_evp['area_m2'] = gdf_evp.area\n",
    "gdf_evp.area_m2 = round(gdf_evp.area_m2, 2)\n",
    "gdf_evp = gdf_evp.to_crs(\"EPSG:4326\")"
   ]
  },
  {
   "cell_type": "code",
   "execution_count": null,
   "metadata": {},
   "outputs": [],
   "source": [
    "# presencia y nombre de barrio al que pertenece el espacio verde\n",
    "gdf_evp_b = gpd.sjoin(gdf_evp, gdf_barrios, how='left')\n",
    "gdf_evp = gdf_evp.merge(gdf_evp_b[['full_id', 'nombre_barrio']], on='full_id', how='left')\n",
    "gdf_evp.rename(columns={'nombre_barrio':'barp_nam'}, inplace=True)\n",
    "gdf_evp['barp_bool'] = 0\n",
    "gdf_evp.loc[gdf_evp.barp_nam.notnull(), 'barp_bool'] = 1\n",
    "\n",
    "# buffer de 100m y cruce de capas\n",
    "gdf_evp_buffer = gdf_evp.copy()\n",
    "gdf_evp_buffer = gdf_evp_buffer.to_crs(\"EPSG:5347\")\n",
    "gdf_evp_buffer.geometry = gdf_evp_buffer.buffer(100)\n",
    "gdf_evp_buffer = gdf_evp_buffer.to_crs(\"EPSG:4326\")\n",
    "\n",
    "gdf_evp_buffer_b = gpd.sjoin(gdf_evp_buffer, gdf_barrios, how='left')\n",
    "\n",
    "# cantidad y nombres de barrios a 100 de cada espacio verde\n",
    "pd_bar100_size = pd.DataFrame(gdf_evp_buffer_b.loc[gdf_evp_buffer_b.nombre_barrio.notnull(), 'full_id'].value_counts())\n",
    "pd_bar100_size.reset_index(inplace=True)\n",
    "pd_bar100_size.rename(columns={'index':'full_id', 'full_id':'barp100_cant'}, inplace=True)\n",
    "pd_bar100_nam = pd.DataFrame(gdf_evp_buffer_b.loc[gdf_evp_buffer_b.nombre_barrio.notnull()].groupby(['full_id'])['nombre_barrio'].apply(lambda x: (\", \").join(list(set(x)))))\n",
    "pd_bar100_nam.reset_index(inplace=True)\n",
    "\n",
    "gdf_evp = gdf_evp.merge(pd_bar100_size[['full_id', 'barp100_cant']], on='full_id', how='left')\n",
    "gdf_evp = gdf_evp.merge(pd_bar100_nam[['full_id', 'nombre_barrio']], on='full_id', how='left')\n",
    "gdf_evp.rename(columns={'nombre_barrio':'barp100_nam'}, inplace=True)"
   ]
  }
 ],
 "metadata": {
  "kernelspec": {
   "display_name": "Python 3.7.8 ('GeoAnalysis')",
   "language": "python",
   "name": "python3"
  },
  "language_info": {
   "codemirror_mode": {
    "name": "ipython",
    "version": 3
   },
   "file_extension": ".py",
   "mimetype": "text/x-python",
   "name": "python",
   "nbconvert_exporter": "python",
   "pygments_lexer": "ipython3",
   "version": "3.7.8"
  },
  "orig_nbformat": 4,
  "vscode": {
   "interpreter": {
    "hash": "76d8fbc8f8336675a1901d9de0a2c7c06ee4b86e9ca9d1443f3f5d90eeade619"
   }
  }
 },
 "nbformat": 4,
 "nbformat_minor": 2
}
