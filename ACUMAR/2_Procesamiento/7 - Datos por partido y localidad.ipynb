{
 "cells": [
  {
   "cell_type": "code",
   "execution_count": 80,
   "metadata": {},
   "outputs": [],
   "source": [
    "# import libraries\n",
    "import pandas as pd\n",
    "import geopandas as gpd"
   ]
  },
  {
   "cell_type": "markdown",
   "metadata": {},
   "source": [
    "## Load file"
   ]
  },
  {
   "cell_type": "code",
   "execution_count": 81,
   "metadata": {},
   "outputs": [
    {
     "data": {
      "text/html": [
       "<div>\n",
       "<style scoped>\n",
       "    .dataframe tbody tr th:only-of-type {\n",
       "        vertical-align: middle;\n",
       "    }\n",
       "\n",
       "    .dataframe tbody tr th {\n",
       "        vertical-align: top;\n",
       "    }\n",
       "\n",
       "    .dataframe thead th {\n",
       "        text-align: right;\n",
       "    }\n",
       "</style>\n",
       "<table border=\"1\" class=\"dataframe\">\n",
       "  <thead>\n",
       "    <tr style=\"text-align: right;\">\n",
       "      <th></th>\n",
       "      <th>full_id</th>\n",
       "      <th>fuente</th>\n",
       "      <th>distrito</th>\n",
       "      <th>evp</th>\n",
       "      <th>tipo</th>\n",
       "      <th>nombre</th>\n",
       "      <th>limite</th>\n",
       "      <th>area_m2</th>\n",
       "      <th>sis_bool</th>\n",
       "      <th>sis_nam</th>\n",
       "      <th>sis_area_m2</th>\n",
       "      <th>barpop_cant</th>\n",
       "      <th>barpop_nam</th>\n",
       "      <th>bus50_cant</th>\n",
       "      <th>bus500_cant</th>\n",
       "      <th>observaciones</th>\n",
       "      <th>geometry</th>\n",
       "    </tr>\n",
       "  </thead>\n",
       "  <tbody>\n",
       "    <tr>\n",
       "      <th>0</th>\n",
       "      <td>r13232486</td>\n",
       "      <td>OSM</td>\n",
       "      <td>Lomas de Zamora</td>\n",
       "      <td>1</td>\n",
       "      <td>Plaza</td>\n",
       "      <td>Plaza Carlos Pellegrini</td>\n",
       "      <td>1</td>\n",
       "      <td>6932.85</td>\n",
       "      <td>0</td>\n",
       "      <td>None</td>\n",
       "      <td>NaN</td>\n",
       "      <td>0.0</td>\n",
       "      <td>None</td>\n",
       "      <td>0.0</td>\n",
       "      <td>7.0</td>\n",
       "      <td>None</td>\n",
       "      <td>MULTIPOLYGON (((-58.42685 -34.79316, -58.42684...</td>\n",
       "    </tr>\n",
       "    <tr>\n",
       "      <th>1</th>\n",
       "      <td>w28051684</td>\n",
       "      <td>OSM</td>\n",
       "      <td>Lomas de Zamora</td>\n",
       "      <td>1</td>\n",
       "      <td>Plaza</td>\n",
       "      <td>Plaza Libertad Y Democracia, Dr. Raúl Alfonsín</td>\n",
       "      <td>1</td>\n",
       "      <td>14263.38</td>\n",
       "      <td>0</td>\n",
       "      <td>None</td>\n",
       "      <td>NaN</td>\n",
       "      <td>0.0</td>\n",
       "      <td>None</td>\n",
       "      <td>0.0</td>\n",
       "      <td>2.0</td>\n",
       "      <td>None</td>\n",
       "      <td>MULTIPOLYGON (((-58.41578 -34.75867, -58.41435...</td>\n",
       "    </tr>\n",
       "    <tr>\n",
       "      <th>2</th>\n",
       "      <td>w28051696</td>\n",
       "      <td>OSM</td>\n",
       "      <td>Lomas de Zamora</td>\n",
       "      <td>1</td>\n",
       "      <td>Plaza</td>\n",
       "      <td>Plaza de los Italianos</td>\n",
       "      <td>1</td>\n",
       "      <td>7883.71</td>\n",
       "      <td>0</td>\n",
       "      <td>None</td>\n",
       "      <td>NaN</td>\n",
       "      <td>0.0</td>\n",
       "      <td>None</td>\n",
       "      <td>0.0</td>\n",
       "      <td>9.0</td>\n",
       "      <td>None</td>\n",
       "      <td>MULTIPOLYGON (((-58.42691 -34.76192, -58.42614...</td>\n",
       "    </tr>\n",
       "  </tbody>\n",
       "</table>\n",
       "</div>"
      ],
      "text/plain": [
       "     full_id fuente         distrito  evp   tipo  \\\n",
       "0  r13232486    OSM  Lomas de Zamora    1  Plaza   \n",
       "1  w28051684    OSM  Lomas de Zamora    1  Plaza   \n",
       "2  w28051696    OSM  Lomas de Zamora    1  Plaza   \n",
       "\n",
       "                                           nombre  limite   area_m2  sis_bool  \\\n",
       "0                         Plaza Carlos Pellegrini       1   6932.85         0   \n",
       "1  Plaza Libertad Y Democracia, Dr. Raúl Alfonsín       1  14263.38         0   \n",
       "2                          Plaza de los Italianos       1   7883.71         0   \n",
       "\n",
       "  sis_nam  sis_area_m2  barpop_cant barpop_nam  bus50_cant  bus500_cant  \\\n",
       "0    None          NaN          0.0       None         0.0          7.0   \n",
       "1    None          NaN          0.0       None         0.0          2.0   \n",
       "2    None          NaN          0.0       None         0.0          9.0   \n",
       "\n",
       "  observaciones                                           geometry  \n",
       "0          None  MULTIPOLYGON (((-58.42685 -34.79316, -58.42684...  \n",
       "1          None  MULTIPOLYGON (((-58.41578 -34.75867, -58.41435...  \n",
       "2          None  MULTIPOLYGON (((-58.42691 -34.76192, -58.42614...  "
      ]
     },
     "execution_count": 81,
     "metadata": {},
     "output_type": "execute_result"
    }
   ],
   "source": [
    "df = gpd.read_file(\"./CapasEditadas/EspaciosPublicos_v11.geojson\")\n",
    "df['evp'] = 0\n",
    "\n",
    "# EP radius\n",
    "df.loc[df.tipo == 'Plazoleta', 'evp'] = 1\n",
    "df.loc[df.tipo == 'Plaza', 'evp'] = 1\n",
    "df.loc[df.tipo == 'Parque', 'evp'] = 1\n",
    "df.loc[df.tipo == 'Parque con equipamiento', 'evp'] = 1\n",
    "\n",
    "df_ep = df.loc[(df.limite == 1)&(df.evp == 1)].reset_index(drop=True)\n",
    "df_ep.head(3)"
   ]
  },
  {
   "cell_type": "code",
   "execution_count": 82,
   "metadata": {},
   "outputs": [],
   "source": [
    "# importar capas de municipios y límite antrópico\n",
    "gdf_muni = gpd.read_file(\"../1_Datos/ACUMAR/LIMITE_POLITICO.shp\")\n",
    "gdf_antro = gpd.read_file(\"../1_Datos/ACUMAR/LIMITE_ANTROPICO_POLIGONO.geojson\")\n",
    "# filtro de los municipios de interés \n",
    "gdf_muni = gdf_muni.loc[(gdf_muni.DISTRITO == \"LOMAS DE ZAMORA\") | (gdf_muni.DISTRITO == \"LANUS\")]"
   ]
  },
  {
   "cell_type": "code",
   "execution_count": 83,
   "metadata": {},
   "outputs": [],
   "source": [
    "# importar capas de localidades\n",
    "gdf_local = gpd.read_file(\"../1_Datos/Zonificación_Localidades_L y LZ.geojson\")"
   ]
  },
  {
   "cell_type": "markdown",
   "metadata": {},
   "source": [
    "# number and area by distrito"
   ]
  },
  {
   "cell_type": "code",
   "execution_count": 84,
   "metadata": {},
   "outputs": [
    {
     "data": {
      "text/html": [
       "<div>\n",
       "<style scoped>\n",
       "    .dataframe tbody tr th:only-of-type {\n",
       "        vertical-align: middle;\n",
       "    }\n",
       "\n",
       "    .dataframe tbody tr th {\n",
       "        vertical-align: top;\n",
       "    }\n",
       "\n",
       "    .dataframe thead th {\n",
       "        text-align: right;\n",
       "    }\n",
       "</style>\n",
       "<table border=\"1\" class=\"dataframe\">\n",
       "  <thead>\n",
       "    <tr style=\"text-align: right;\">\n",
       "      <th></th>\n",
       "      <th>distrito</th>\n",
       "      <th>size</th>\n",
       "      <th>sum</th>\n",
       "    </tr>\n",
       "  </thead>\n",
       "  <tbody>\n",
       "    <tr>\n",
       "      <th>0</th>\n",
       "      <td>Lanús</td>\n",
       "      <td>107</td>\n",
       "      <td>840267.29</td>\n",
       "    </tr>\n",
       "    <tr>\n",
       "      <th>1</th>\n",
       "      <td>Lomas de Zamora</td>\n",
       "      <td>70</td>\n",
       "      <td>7148687.64</td>\n",
       "    </tr>\n",
       "  </tbody>\n",
       "</table>\n",
       "</div>"
      ],
      "text/plain": [
       "          distrito  size         sum\n",
       "0            Lanús   107   840267.29\n",
       "1  Lomas de Zamora    70  7148687.64"
      ]
     },
     "execution_count": 84,
     "metadata": {},
     "output_type": "execute_result"
    }
   ],
   "source": [
    "df_ep.groupby('distrito')['area_m2'].agg(['size', 'sum']).reset_index()"
   ]
  },
  {
   "cell_type": "markdown",
   "metadata": {},
   "source": [
    "# number and area by localidad"
   ]
  },
  {
   "cell_type": "code",
   "execution_count": 117,
   "metadata": {},
   "outputs": [],
   "source": [
    "# clip localidades\n",
    "df_dif = gpd.overlay(gdf_local, gdf_antro[['geometry']], how='intersection')\n",
    "#df_dif_sj = gpd.overlay(df_dif, df_ep[['full_id', 'area_m2', 'geometry']], how='intersection')\n",
    "#df_dif_sj.area_m2 = df_dif_sj.to_crs(\"EPSG:5347\").area\n",
    "df_dif_sj = gpd.sjoin(df_dif, df_ep[['full_id', 'area_m2', 'geometry']])\n",
    "df_dif_sj.drop_duplicates(subset=\"full_id\", inplace=True)"
   ]
  },
  {
   "cell_type": "code",
   "execution_count": 118,
   "metadata": {},
   "outputs": [],
   "source": [
    "df_dif_data = df_dif_sj.groupby('localidad')['area_m2'].agg(['size', 'sum']).reset_index()\n",
    "gdf_local_data = pd.merge(df_dif, df_dif_data, on='localidad', how='left')\n",
    "gdf_local_data.to_file(\"./Indice_m2/EP_localidad_antro.geojson\", driver='GeoJSON')\n",
    "gdf_local_data[['municipio', 'localidad', 'size', 'sum']].to_csv(\"./Indice_m2/EP_localidad_antro.csv\")"
   ]
  },
  {
   "cell_type": "code",
   "execution_count": 120,
   "metadata": {},
   "outputs": [
    {
     "data": {
      "text/html": [
       "<div>\n",
       "<style scoped>\n",
       "    .dataframe tbody tr th:only-of-type {\n",
       "        vertical-align: middle;\n",
       "    }\n",
       "\n",
       "    .dataframe tbody tr th {\n",
       "        vertical-align: top;\n",
       "    }\n",
       "\n",
       "    .dataframe thead th {\n",
       "        text-align: right;\n",
       "    }\n",
       "</style>\n",
       "<table border=\"1\" class=\"dataframe\">\n",
       "  <thead>\n",
       "    <tr style=\"text-align: right;\">\n",
       "      <th></th>\n",
       "      <th>municipio</th>\n",
       "      <th>localidad</th>\n",
       "      <th>size</th>\n",
       "      <th>sum</th>\n",
       "    </tr>\n",
       "  </thead>\n",
       "  <tbody>\n",
       "    <tr>\n",
       "      <th>0</th>\n",
       "      <td>Lanús</td>\n",
       "      <td>Valentín Alsina</td>\n",
       "      <td>38.0</td>\n",
       "      <td>92122.40</td>\n",
       "    </tr>\n",
       "    <tr>\n",
       "      <th>1</th>\n",
       "      <td>Lanús</td>\n",
       "      <td>Lanús Oeste</td>\n",
       "      <td>49.0</td>\n",
       "      <td>97491.80</td>\n",
       "    </tr>\n",
       "    <tr>\n",
       "      <th>2</th>\n",
       "      <td>Lanús</td>\n",
       "      <td>Lanús Este</td>\n",
       "      <td>3.0</td>\n",
       "      <td>13472.88</td>\n",
       "    </tr>\n",
       "    <tr>\n",
       "      <th>3</th>\n",
       "      <td>Lanús</td>\n",
       "      <td>Gerli</td>\n",
       "      <td>3.0</td>\n",
       "      <td>2304.48</td>\n",
       "    </tr>\n",
       "    <tr>\n",
       "      <th>4</th>\n",
       "      <td>Lanús</td>\n",
       "      <td>Remedios de Escalada</td>\n",
       "      <td>14.0</td>\n",
       "      <td>634875.73</td>\n",
       "    </tr>\n",
       "    <tr>\n",
       "      <th>5</th>\n",
       "      <td>Lomas de Zamora</td>\n",
       "      <td>Villa Fiorito</td>\n",
       "      <td>3.0</td>\n",
       "      <td>35016.34</td>\n",
       "    </tr>\n",
       "    <tr>\n",
       "      <th>6</th>\n",
       "      <td>Lomas de Zamora</td>\n",
       "      <td>Ingeniero Budge</td>\n",
       "      <td>27.0</td>\n",
       "      <td>3320166.57</td>\n",
       "    </tr>\n",
       "    <tr>\n",
       "      <th>7</th>\n",
       "      <td>Lomas de Zamora</td>\n",
       "      <td>Llavallol</td>\n",
       "      <td>15.0</td>\n",
       "      <td>3460396.86</td>\n",
       "    </tr>\n",
       "    <tr>\n",
       "      <th>8</th>\n",
       "      <td>Lomas de Zamora</td>\n",
       "      <td>Villa Centenario</td>\n",
       "      <td>9.0</td>\n",
       "      <td>30354.89</td>\n",
       "    </tr>\n",
       "    <tr>\n",
       "      <th>9</th>\n",
       "      <td>Lomas de Zamora</td>\n",
       "      <td>Lomas de Zamora</td>\n",
       "      <td>13.0</td>\n",
       "      <td>299000.74</td>\n",
       "    </tr>\n",
       "    <tr>\n",
       "      <th>10</th>\n",
       "      <td>Lomas de Zamora</td>\n",
       "      <td>Banfield</td>\n",
       "      <td>NaN</td>\n",
       "      <td>NaN</td>\n",
       "    </tr>\n",
       "    <tr>\n",
       "      <th>11</th>\n",
       "      <td>Lomas de Zamora</td>\n",
       "      <td>Turdera</td>\n",
       "      <td>1.0</td>\n",
       "      <td>600.98</td>\n",
       "    </tr>\n",
       "    <tr>\n",
       "      <th>12</th>\n",
       "      <td>Lomas de Zamora</td>\n",
       "      <td>Temperley</td>\n",
       "      <td>2.0</td>\n",
       "      <td>3151.26</td>\n",
       "    </tr>\n",
       "  </tbody>\n",
       "</table>\n",
       "</div>"
      ],
      "text/plain": [
       "          municipio             localidad  size         sum\n",
       "0             Lanús       Valentín Alsina  38.0    92122.40\n",
       "1             Lanús           Lanús Oeste  49.0    97491.80\n",
       "2             Lanús            Lanús Este   3.0    13472.88\n",
       "3             Lanús                 Gerli   3.0     2304.48\n",
       "4             Lanús  Remedios de Escalada  14.0   634875.73\n",
       "5   Lomas de Zamora         Villa Fiorito   3.0    35016.34\n",
       "6   Lomas de Zamora       Ingeniero Budge  27.0  3320166.57\n",
       "7   Lomas de Zamora             Llavallol  15.0  3460396.86\n",
       "8   Lomas de Zamora      Villa Centenario   9.0    30354.89\n",
       "9   Lomas de Zamora       Lomas de Zamora  13.0   299000.74\n",
       "10  Lomas de Zamora              Banfield   NaN         NaN\n",
       "11  Lomas de Zamora               Turdera   1.0      600.98\n",
       "12  Lomas de Zamora             Temperley   2.0     3151.26"
      ]
     },
     "execution_count": 120,
     "metadata": {},
     "output_type": "execute_result"
    }
   ],
   "source": [
    "gdf_local_data[['municipio', 'localidad', 'size', 'sum']]"
   ]
  },
  {
   "cell_type": "markdown",
   "metadata": {},
   "source": [
    "# Datos"
   ]
  },
  {
   "cell_type": "code",
   "execution_count": 88,
   "metadata": {},
   "outputs": [
    {
     "name": "stdout",
     "output_type": "stream",
     "text": [
      "area 8.301727590000002 Mm²\n",
      "% area 8.580924516932031 %\n",
      "area 7.988954929999999 Mm²\n",
      "% area 96.2324388916741 %\n"
     ]
    }
   ],
   "source": [
    "print(\"area\", df.loc[(df.limite == 1), 'area_m2'].sum()/1000000, 'Mm²')\n",
    "print(\"% area\", 100*df.loc[(df.limite == 1), 'area_m2'].sum()/gdf_local_data.to_crs(\"EPSG:5347\").area.sum(), '%')\n",
    "print(\"area\", df_ep.area_m2.sum()/1000000, 'Mm²')\n",
    "print(\"% area\", 100*df_ep.area_m2.sum()/df.loc[(df.limite == 1), 'area_m2'].sum(), '%')"
   ]
  },
  {
   "cell_type": "code",
   "execution_count": 89,
   "metadata": {},
   "outputs": [
    {
     "data": {
      "text/html": [
       "<div>\n",
       "<style scoped>\n",
       "    .dataframe tbody tr th:only-of-type {\n",
       "        vertical-align: middle;\n",
       "    }\n",
       "\n",
       "    .dataframe tbody tr th {\n",
       "        vertical-align: top;\n",
       "    }\n",
       "\n",
       "    .dataframe thead th {\n",
       "        text-align: right;\n",
       "    }\n",
       "</style>\n",
       "<table border=\"1\" class=\"dataframe\">\n",
       "  <thead>\n",
       "    <tr style=\"text-align: right;\">\n",
       "      <th></th>\n",
       "      <th>size</th>\n",
       "      <th>sum</th>\n",
       "      <th>porc</th>\n",
       "    </tr>\n",
       "    <tr>\n",
       "      <th>tipo</th>\n",
       "      <th></th>\n",
       "      <th></th>\n",
       "      <th></th>\n",
       "    </tr>\n",
       "  </thead>\n",
       "  <tbody>\n",
       "    <tr>\n",
       "      <th>Parque con equipamiento</th>\n",
       "      <td>6</td>\n",
       "      <td>7450274.32</td>\n",
       "      <td>93.257183</td>\n",
       "    </tr>\n",
       "    <tr>\n",
       "      <th>Plaza</th>\n",
       "      <td>46</td>\n",
       "      <td>388895.70</td>\n",
       "      <td>4.867917</td>\n",
       "    </tr>\n",
       "    <tr>\n",
       "      <th>Plazoleta</th>\n",
       "      <td>125</td>\n",
       "      <td>149784.91</td>\n",
       "      <td>1.874900</td>\n",
       "    </tr>\n",
       "  </tbody>\n",
       "</table>\n",
       "</div>"
      ],
      "text/plain": [
       "                         size         sum       porc\n",
       "tipo                                                \n",
       "Parque con equipamiento     6  7450274.32  93.257183\n",
       "Plaza                      46   388895.70   4.867917\n",
       "Plazoleta                 125   149784.91   1.874900"
      ]
     },
     "execution_count": 89,
     "metadata": {},
     "output_type": "execute_result"
    }
   ],
   "source": [
    "sup_data = df_ep.groupby(['tipo'])['area_m2'].agg(['size', 'sum'])\n",
    "sup_data['porc'] = 100* sup_data['sum'] / df_ep.area_m2.sum()\n",
    "sup_data"
   ]
  },
  {
   "cell_type": "code",
   "execution_count": null,
   "metadata": {},
   "outputs": [],
   "source": []
  }
 ],
 "metadata": {
  "kernelspec": {
   "display_name": "Python 3.7.8 ('GeoAnalysis')",
   "language": "python",
   "name": "python3"
  },
  "language_info": {
   "codemirror_mode": {
    "name": "ipython",
    "version": 3
   },
   "file_extension": ".py",
   "mimetype": "text/x-python",
   "name": "python",
   "nbconvert_exporter": "python",
   "pygments_lexer": "ipython3",
   "version": "3.7.8"
  },
  "orig_nbformat": 4,
  "vscode": {
   "interpreter": {
    "hash": "76d8fbc8f8336675a1901d9de0a2c7c06ee4b86e9ca9d1443f3f5d90eeade619"
   }
  }
 },
 "nbformat": 4,
 "nbformat_minor": 2
}
