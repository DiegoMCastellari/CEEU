{
 "cells": [
  {
   "cell_type": "code",
   "execution_count": 52,
   "metadata": {},
   "outputs": [],
   "source": [
    "import pandas as pd\n",
    "import geopandas as gpd"
   ]
  },
  {
   "cell_type": "code",
   "execution_count": 53,
   "metadata": {},
   "outputs": [],
   "source": [
    "# importar capas de ríos\n",
    "gdf_riachuelo = gpd.read_file(\"../1_Datos/ACUMAR/RED_HIDRICA_CMR.shp\")\n",
    "gdf_limpolitico = gpd.read_file(\"../1_Datos/ACUMAR/LIMITE_POLITICO.shp\")\n",
    "gdf_zonas = gpd.read_file(\"../1_Datos/UNSAM/Zonificación_Localidades_L y LZ.geojson\")"
   ]
  },
  {
   "cell_type": "markdown",
   "metadata": {},
   "source": [
    "# Zona de riachuelo"
   ]
  },
  {
   "cell_type": "code",
   "execution_count": 54,
   "metadata": {},
   "outputs": [],
   "source": [
    "gdf_riachuelo = gdf_riachuelo.loc[gdf_riachuelo.OBSERVACIO == 'RECTIFICACION']\n",
    "gdf_riachuelo_buffer = gdf_riachuelo.to_crs(\"EPSG:5347\")\n",
    "gdf_riachuelo_buffer.geometry = gdf_riachuelo_buffer.buffer(800,   )\n",
    "gdf_riachuelo_buffer = gdf_riachuelo_buffer.to_crs(\"EPSG:4326\")\n",
    "gdf_riachuelo_buffer = gdf_riachuelo_buffer.dissolve('OBSERVACIO')"
   ]
  },
  {
   "cell_type": "code",
   "execution_count": 55,
   "metadata": {},
   "outputs": [],
   "source": [
    "# intersect by limpolitico\n",
    "gdf_limpolitico = gdf_limpolitico.loc[(gdf_limpolitico.DISTRITO == 'LANUS') | (gdf_limpolitico.DISTRITO == 'LOMAS DE ZAMORA')]\n",
    "gdf_zona_riachuelo = gdf_riachuelo_buffer.overlay(gdf_limpolitico, how='intersection')"
   ]
  },
  {
   "cell_type": "code",
   "execution_count": 56,
   "metadata": {},
   "outputs": [],
   "source": [
    "gdf_zona_riachuelo.rename(columns={'DISTRITO':'municipio'}, inplace = True)\n",
    "gdf_zona_riachuelo['id'] = 15\n",
    "gdf_zona_riachuelo['localidad'] = 'x'\n",
    "gdf_zona_riachuelo.loc[gdf_zona_riachuelo.municipio == 'LANUS', 'localidad'] = 'SIRGA - Lanús'\n",
    "gdf_zona_riachuelo.loc[gdf_zona_riachuelo.municipio == 'LANUS', 'municipio'] = 'Lanús'\n",
    "gdf_zona_riachuelo.loc[gdf_zona_riachuelo.municipio == 'LOMAS DE ZAMORA', 'id'] = 16\n",
    "gdf_zona_riachuelo.loc[gdf_zona_riachuelo.municipio == 'LOMAS DE ZAMORA', 'localidad'] = 'SIRGA - Lomas de Zamora'\n",
    "gdf_zona_riachuelo.loc[gdf_zona_riachuelo.municipio == 'LOMAS DE ZAMORA', 'municipio'] = 'Lomas de Zamora'\n",
    "gdf_zona_riachuelo = gdf_zona_riachuelo[['id', 'municipio', 'localidad', 'geometry']]"
   ]
  },
  {
   "cell_type": "markdown",
   "metadata": {},
   "source": [
    "# Merge all zonas"
   ]
  },
  {
   "cell_type": "code",
   "execution_count": 57,
   "metadata": {},
   "outputs": [],
   "source": [
    "gdf_zonas_dif = gdf_zonas.overlay(gdf_riachuelo_buffer, how='difference')"
   ]
  },
  {
   "cell_type": "code",
   "execution_count": 58,
   "metadata": {},
   "outputs": [
    {
     "data": {
      "text/html": [
       "<div>\n",
       "<style scoped>\n",
       "    .dataframe tbody tr th:only-of-type {\n",
       "        vertical-align: middle;\n",
       "    }\n",
       "\n",
       "    .dataframe tbody tr th {\n",
       "        vertical-align: top;\n",
       "    }\n",
       "\n",
       "    .dataframe thead th {\n",
       "        text-align: right;\n",
       "    }\n",
       "</style>\n",
       "<table border=\"1\" class=\"dataframe\">\n",
       "  <thead>\n",
       "    <tr style=\"text-align: right;\">\n",
       "      <th></th>\n",
       "      <th>id</th>\n",
       "      <th>municipio</th>\n",
       "      <th>localidad</th>\n",
       "      <th>geometry</th>\n",
       "    </tr>\n",
       "  </thead>\n",
       "  <tbody>\n",
       "    <tr>\n",
       "      <th>0</th>\n",
       "      <td>1</td>\n",
       "      <td>Lanús</td>\n",
       "      <td>Valentín Alsina</td>\n",
       "      <td>POLYGON ((-58.39896 -34.66938, -58.39763 -34.6...</td>\n",
       "    </tr>\n",
       "    <tr>\n",
       "      <th>1</th>\n",
       "      <td>2</td>\n",
       "      <td>Lanús</td>\n",
       "      <td>Lanús Oeste</td>\n",
       "      <td>POLYGON ((-58.42518 -34.67557, -58.42490 -34.6...</td>\n",
       "    </tr>\n",
       "    <tr>\n",
       "      <th>2</th>\n",
       "      <td>6</td>\n",
       "      <td>Lanús</td>\n",
       "      <td>Monte Chingolo</td>\n",
       "      <td>POLYGON ((-58.38091 -34.73822, -58.38024 -34.7...</td>\n",
       "    </tr>\n",
       "    <tr>\n",
       "      <th>3</th>\n",
       "      <td>5</td>\n",
       "      <td>Lanús</td>\n",
       "      <td>Lanús Este</td>\n",
       "      <td>POLYGON ((-58.36398 -34.70055, -58.36396 -34.7...</td>\n",
       "    </tr>\n",
       "    <tr>\n",
       "      <th>4</th>\n",
       "      <td>3</td>\n",
       "      <td>Lanús</td>\n",
       "      <td>Gerli</td>\n",
       "      <td>POLYGON ((-58.36398 -34.70055, -58.36446 -34.7...</td>\n",
       "    </tr>\n",
       "    <tr>\n",
       "      <th>5</th>\n",
       "      <td>4</td>\n",
       "      <td>Lanús</td>\n",
       "      <td>Remedios de Escalada</td>\n",
       "      <td>POLYGON ((-58.42806 -34.71350, -58.42377 -34.7...</td>\n",
       "    </tr>\n",
       "    <tr>\n",
       "      <th>6</th>\n",
       "      <td>7</td>\n",
       "      <td>Lomas de Zamora</td>\n",
       "      <td>Villa Fiorito</td>\n",
       "      <td>POLYGON ((-58.44501 -34.72267, -58.44555 -34.7...</td>\n",
       "    </tr>\n",
       "    <tr>\n",
       "      <th>7</th>\n",
       "      <td>8</td>\n",
       "      <td>Lomas de Zamora</td>\n",
       "      <td>Ingeniero Budge</td>\n",
       "      <td>MULTIPOLYGON (((-58.44501 -34.72267, -58.44372...</td>\n",
       "    </tr>\n",
       "    <tr>\n",
       "      <th>8</th>\n",
       "      <td>12</td>\n",
       "      <td>Lomas de Zamora</td>\n",
       "      <td>Llavallol</td>\n",
       "      <td>POLYGON ((-58.45770 -34.77849, -58.45691 -34.7...</td>\n",
       "    </tr>\n",
       "    <tr>\n",
       "      <th>9</th>\n",
       "      <td>9</td>\n",
       "      <td>Lomas de Zamora</td>\n",
       "      <td>Villa Centenario</td>\n",
       "      <td>POLYGON ((-58.42806 -34.71350, -58.42788 -34.7...</td>\n",
       "    </tr>\n",
       "    <tr>\n",
       "      <th>10</th>\n",
       "      <td>11</td>\n",
       "      <td>Lomas de Zamora</td>\n",
       "      <td>Lomas de Zamora</td>\n",
       "      <td>POLYGON ((-58.38700 -34.75169, -58.38690 -34.7...</td>\n",
       "    </tr>\n",
       "    <tr>\n",
       "      <th>11</th>\n",
       "      <td>10</td>\n",
       "      <td>Lomas de Zamora</td>\n",
       "      <td>Banfield</td>\n",
       "      <td>POLYGON ((-58.37011 -34.75279, -58.37067 -34.7...</td>\n",
       "    </tr>\n",
       "    <tr>\n",
       "      <th>12</th>\n",
       "      <td>13</td>\n",
       "      <td>Lomas de Zamora</td>\n",
       "      <td>Turdera</td>\n",
       "      <td>POLYGON ((-58.39583 -34.77948, -58.39581 -34.7...</td>\n",
       "    </tr>\n",
       "    <tr>\n",
       "      <th>13</th>\n",
       "      <td>14</td>\n",
       "      <td>Lomas de Zamora</td>\n",
       "      <td>Temperley</td>\n",
       "      <td>POLYGON ((-58.39190 -34.78885, -58.39192 -34.7...</td>\n",
       "    </tr>\n",
       "    <tr>\n",
       "      <th>14</th>\n",
       "      <td>15</td>\n",
       "      <td>Lanús</td>\n",
       "      <td>SIRGA - Lanús</td>\n",
       "      <td>POLYGON ((-58.39897 -34.66938, -58.39971 -34.6...</td>\n",
       "    </tr>\n",
       "    <tr>\n",
       "      <th>15</th>\n",
       "      <td>16</td>\n",
       "      <td>Lomas de Zamora</td>\n",
       "      <td>SIRGA - Lomas de Zamora</td>\n",
       "      <td>POLYGON ((-58.49712 -34.72815, -58.49386 -34.7...</td>\n",
       "    </tr>\n",
       "  </tbody>\n",
       "</table>\n",
       "</div>"
      ],
      "text/plain": [
       "    id        municipio                localidad  \\\n",
       "0    1            Lanús          Valentín Alsina   \n",
       "1    2            Lanús              Lanús Oeste   \n",
       "2    6            Lanús           Monte Chingolo   \n",
       "3    5            Lanús               Lanús Este   \n",
       "4    3            Lanús                    Gerli   \n",
       "5    4            Lanús     Remedios de Escalada   \n",
       "6    7  Lomas de Zamora            Villa Fiorito   \n",
       "7    8  Lomas de Zamora          Ingeniero Budge   \n",
       "8   12  Lomas de Zamora                Llavallol   \n",
       "9    9  Lomas de Zamora         Villa Centenario   \n",
       "10  11  Lomas de Zamora          Lomas de Zamora   \n",
       "11  10  Lomas de Zamora                 Banfield   \n",
       "12  13  Lomas de Zamora                  Turdera   \n",
       "13  14  Lomas de Zamora                Temperley   \n",
       "14  15            Lanús            SIRGA - Lanús   \n",
       "15  16  Lomas de Zamora  SIRGA - Lomas de Zamora   \n",
       "\n",
       "                                             geometry  \n",
       "0   POLYGON ((-58.39896 -34.66938, -58.39763 -34.6...  \n",
       "1   POLYGON ((-58.42518 -34.67557, -58.42490 -34.6...  \n",
       "2   POLYGON ((-58.38091 -34.73822, -58.38024 -34.7...  \n",
       "3   POLYGON ((-58.36398 -34.70055, -58.36396 -34.7...  \n",
       "4   POLYGON ((-58.36398 -34.70055, -58.36446 -34.7...  \n",
       "5   POLYGON ((-58.42806 -34.71350, -58.42377 -34.7...  \n",
       "6   POLYGON ((-58.44501 -34.72267, -58.44555 -34.7...  \n",
       "7   MULTIPOLYGON (((-58.44501 -34.72267, -58.44372...  \n",
       "8   POLYGON ((-58.45770 -34.77849, -58.45691 -34.7...  \n",
       "9   POLYGON ((-58.42806 -34.71350, -58.42788 -34.7...  \n",
       "10  POLYGON ((-58.38700 -34.75169, -58.38690 -34.7...  \n",
       "11  POLYGON ((-58.37011 -34.75279, -58.37067 -34.7...  \n",
       "12  POLYGON ((-58.39583 -34.77948, -58.39581 -34.7...  \n",
       "13  POLYGON ((-58.39190 -34.78885, -58.39192 -34.7...  \n",
       "14  POLYGON ((-58.39897 -34.66938, -58.39971 -34.6...  \n",
       "15  POLYGON ((-58.49712 -34.72815, -58.49386 -34.7...  "
      ]
     },
     "execution_count": 58,
     "metadata": {},
     "output_type": "execute_result"
    }
   ],
   "source": [
    "gdf_zonas_complete = pd.concat([gdf_zonas_dif, gdf_zona_riachuelo])\n",
    "gdf_zonas_complete.reset_index(inplace=True, drop=True)\n",
    "gdf_zonas_complete"
   ]
  },
  {
   "cell_type": "code",
   "execution_count": 59,
   "metadata": {},
   "outputs": [],
   "source": [
    "gdf_zonas_complete.to_file(\"./CapasEditadas/Zonificación_Localidades_LyLZ_SIRGA.geojson\", driver=\"GeoJSON\")\n"
   ]
  },
  {
   "cell_type": "code",
   "execution_count": null,
   "metadata": {},
   "outputs": [],
   "source": []
  }
 ],
 "metadata": {
  "kernelspec": {
   "display_name": "Python 3.7.8 ('GeoAnalysis')",
   "language": "python",
   "name": "python3"
  },
  "language_info": {
   "codemirror_mode": {
    "name": "ipython",
    "version": 3
   },
   "file_extension": ".py",
   "mimetype": "text/x-python",
   "name": "python",
   "nbconvert_exporter": "python",
   "pygments_lexer": "ipython3",
   "version": "3.7.8"
  },
  "orig_nbformat": 4,
  "vscode": {
   "interpreter": {
    "hash": "76d8fbc8f8336675a1901d9de0a2c7c06ee4b86e9ca9d1443f3f5d90eeade619"
   }
  }
 },
 "nbformat": 4,
 "nbformat_minor": 2
}
