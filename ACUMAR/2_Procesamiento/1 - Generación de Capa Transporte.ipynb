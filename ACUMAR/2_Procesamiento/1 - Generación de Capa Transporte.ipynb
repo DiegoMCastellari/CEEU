{
 "cells": [
  {
   "cell_type": "code",
   "execution_count": 27,
   "metadata": {},
   "outputs": [],
   "source": [
    "import pandas as pd\n",
    "import geopandas as gpd"
   ]
  },
  {
   "cell_type": "markdown",
   "metadata": {},
   "source": [
    "# Cargar datos"
   ]
  },
  {
   "cell_type": "code",
   "execution_count": 28,
   "metadata": {},
   "outputs": [],
   "source": [
    "# importar capas\n",
    "gdf_bus = gpd.read_file(\"../1_Datos/OSM/route_bus_line.geojson\")"
   ]
  },
  {
   "cell_type": "code",
   "execution_count": 29,
   "metadata": {},
   "outputs": [
    {
     "data": {
      "text/html": [
       "<div>\n",
       "<style scoped>\n",
       "    .dataframe tbody tr th:only-of-type {\n",
       "        vertical-align: middle;\n",
       "    }\n",
       "\n",
       "    .dataframe tbody tr th {\n",
       "        vertical-align: top;\n",
       "    }\n",
       "\n",
       "    .dataframe thead th {\n",
       "        text-align: right;\n",
       "    }\n",
       "</style>\n",
       "<table border=\"1\" class=\"dataframe\">\n",
       "  <thead>\n",
       "    <tr style=\"text-align: right;\">\n",
       "      <th></th>\n",
       "      <th>SUPERFICIE</th>\n",
       "      <th>DISTRITO</th>\n",
       "      <th>geometry</th>\n",
       "    </tr>\n",
       "  </thead>\n",
       "  <tbody>\n",
       "    <tr>\n",
       "      <th>4</th>\n",
       "      <td>50</td>\n",
       "      <td>LANUS</td>\n",
       "      <td>POLYGON ((-58.40258 -34.65983, -58.40293 -34.6...</td>\n",
       "    </tr>\n",
       "    <tr>\n",
       "      <th>5</th>\n",
       "      <td>88</td>\n",
       "      <td>LOMAS DE ZAMORA</td>\n",
       "      <td>POLYGON ((-58.44710 -34.68897, -58.44699 -34.6...</td>\n",
       "    </tr>\n",
       "  </tbody>\n",
       "</table>\n",
       "</div>"
      ],
      "text/plain": [
       "   SUPERFICIE         DISTRITO  \\\n",
       "4          50            LANUS   \n",
       "5          88  LOMAS DE ZAMORA   \n",
       "\n",
       "                                            geometry  \n",
       "4  POLYGON ((-58.40258 -34.65983, -58.40293 -34.6...  \n",
       "5  POLYGON ((-58.44710 -34.68897, -58.44699 -34.6...  "
      ]
     },
     "execution_count": 29,
     "metadata": {},
     "output_type": "execute_result"
    }
   ],
   "source": [
    "# importar capas de municipios y límite antrópico\n",
    "gdf_muni = gpd.read_file(\"../1_Datos/ACUMAR/LIMITE_POLITICO.shp\")\n",
    "# filtro de los municipios de interés \n",
    "gdf_muni = gdf_muni.loc[(gdf_muni.DISTRITO == \"LOMAS DE ZAMORA\") | (gdf_muni.DISTRITO == \"LANUS\")]\n",
    "gdf_muni"
   ]
  },
  {
   "cell_type": "markdown",
   "metadata": {},
   "source": [
    "# Intersect"
   ]
  },
  {
   "cell_type": "code",
   "execution_count": 30,
   "metadata": {},
   "outputs": [
    {
     "name": "stderr",
     "output_type": "stream",
     "text": [
      "c:\\Users\\Compumar\\anaconda3\\envs\\GeoAnalysis\\lib\\site-packages\\ipykernel_launcher.py:2: UserWarning: `keep_geom_type=True` in overlay resulted in 2 dropped geometries of different geometry types than df1 has. Set `keep_geom_type=False` to retain all geometries\n",
      "  \n"
     ]
    }
   ],
   "source": [
    "df_inte = gpd.overlay(gdf_bus, gdf_muni, how='union').reset_index(drop=True) # .explode()\n",
    "df_inte = df_inte.loc[df_inte.DISTRITO.notnull()].reset_index()"
   ]
  },
  {
   "cell_type": "markdown",
   "metadata": {},
   "source": [
    "# Clean"
   ]
  },
  {
   "cell_type": "code",
   "execution_count": 31,
   "metadata": {},
   "outputs": [],
   "source": [
    "df_inte_2 = df_inte[['full_id', 'osm_id', 'network', 'name', 'operator', 'from', 'to', 'fee', 'payment:sube', 'wheelchair', 'geometry']]"
   ]
  },
  {
   "cell_type": "markdown",
   "metadata": {},
   "source": [
    "# Export file"
   ]
  },
  {
   "cell_type": "code",
   "execution_count": 32,
   "metadata": {},
   "outputs": [],
   "source": [
    "df_inte_2.to_file(\"./Capas_Output/LineasColectivos_v1.geojson\", driver=\"GeoJSON\")"
   ]
  },
  {
   "cell_type": "code",
   "execution_count": null,
   "metadata": {},
   "outputs": [],
   "source": []
  }
 ],
 "metadata": {
  "kernelspec": {
   "display_name": "Python 3.7.8 ('GeoAnalysis')",
   "language": "python",
   "name": "python3"
  },
  "language_info": {
   "codemirror_mode": {
    "name": "ipython",
    "version": 3
   },
   "file_extension": ".py",
   "mimetype": "text/x-python",
   "name": "python",
   "nbconvert_exporter": "python",
   "pygments_lexer": "ipython3",
   "version": "3.7.8"
  },
  "orig_nbformat": 4,
  "vscode": {
   "interpreter": {
    "hash": "76d8fbc8f8336675a1901d9de0a2c7c06ee4b86e9ca9d1443f3f5d90eeade619"
   }
  }
 },
 "nbformat": 4,
 "nbformat_minor": 2
}
