{
 "cells": [
  {
   "cell_type": "markdown",
   "metadata": {},
   "source": [
    "# Ep buffer\n",
    "### This notebook create a buffer for each EP type, acording to its radius of influence."
   ]
  },
  {
   "cell_type": "code",
   "execution_count": 33,
   "metadata": {},
   "outputs": [],
   "source": [
    "# import libraries\n",
    "import pandas as pd\n",
    "import geopandas as gpd"
   ]
  },
  {
   "cell_type": "markdown",
   "metadata": {},
   "source": [
    "## Load file"
   ]
  },
  {
   "cell_type": "code",
   "execution_count": 34,
   "metadata": {},
   "outputs": [
    {
     "data": {
      "text/html": [
       "<div>\n",
       "<style scoped>\n",
       "    .dataframe tbody tr th:only-of-type {\n",
       "        vertical-align: middle;\n",
       "    }\n",
       "\n",
       "    .dataframe tbody tr th {\n",
       "        vertical-align: top;\n",
       "    }\n",
       "\n",
       "    .dataframe thead th {\n",
       "        text-align: right;\n",
       "    }\n",
       "</style>\n",
       "<table border=\"1\" class=\"dataframe\">\n",
       "  <thead>\n",
       "    <tr style=\"text-align: right;\">\n",
       "      <th></th>\n",
       "      <th>full_id</th>\n",
       "      <th>fuente</th>\n",
       "      <th>distrito</th>\n",
       "      <th>evp</th>\n",
       "      <th>tipo</th>\n",
       "      <th>nombre</th>\n",
       "      <th>limite</th>\n",
       "      <th>area_m2</th>\n",
       "      <th>sis_bool</th>\n",
       "      <th>sis_nam</th>\n",
       "      <th>sis_area_m2</th>\n",
       "      <th>barpop_cant</th>\n",
       "      <th>barpop_nam</th>\n",
       "      <th>bus50_cant</th>\n",
       "      <th>bus500_cant</th>\n",
       "      <th>observaciones</th>\n",
       "      <th>geometry</th>\n",
       "    </tr>\n",
       "  </thead>\n",
       "  <tbody>\n",
       "    <tr>\n",
       "      <th>0</th>\n",
       "      <td>r13232486</td>\n",
       "      <td>OSM</td>\n",
       "      <td>Lomas de Zamora</td>\n",
       "      <td>1.0</td>\n",
       "      <td>Plaza</td>\n",
       "      <td>Plaza Carlos Pellegrini</td>\n",
       "      <td>1</td>\n",
       "      <td>6932.85</td>\n",
       "      <td>0</td>\n",
       "      <td>None</td>\n",
       "      <td>NaN</td>\n",
       "      <td>0.0</td>\n",
       "      <td>None</td>\n",
       "      <td>0.0</td>\n",
       "      <td>7.0</td>\n",
       "      <td>None</td>\n",
       "      <td>MULTIPOLYGON (((-58.42685 -34.79316, -58.42684...</td>\n",
       "    </tr>\n",
       "    <tr>\n",
       "      <th>1</th>\n",
       "      <td>w28051684</td>\n",
       "      <td>OSM</td>\n",
       "      <td>Lomas de Zamora</td>\n",
       "      <td>1.0</td>\n",
       "      <td>Plaza</td>\n",
       "      <td>Plaza Libertad Y Democracia, Dr. Raúl Alfonsín</td>\n",
       "      <td>1</td>\n",
       "      <td>14263.38</td>\n",
       "      <td>0</td>\n",
       "      <td>None</td>\n",
       "      <td>NaN</td>\n",
       "      <td>0.0</td>\n",
       "      <td>None</td>\n",
       "      <td>0.0</td>\n",
       "      <td>2.0</td>\n",
       "      <td>None</td>\n",
       "      <td>MULTIPOLYGON (((-58.41578 -34.75867, -58.41435...</td>\n",
       "    </tr>\n",
       "    <tr>\n",
       "      <th>2</th>\n",
       "      <td>w28051696</td>\n",
       "      <td>OSM</td>\n",
       "      <td>Lomas de Zamora</td>\n",
       "      <td>1.0</td>\n",
       "      <td>Plaza</td>\n",
       "      <td>Plaza de los Italianos</td>\n",
       "      <td>1</td>\n",
       "      <td>7883.71</td>\n",
       "      <td>0</td>\n",
       "      <td>None</td>\n",
       "      <td>NaN</td>\n",
       "      <td>0.0</td>\n",
       "      <td>None</td>\n",
       "      <td>0.0</td>\n",
       "      <td>9.0</td>\n",
       "      <td>None</td>\n",
       "      <td>MULTIPOLYGON (((-58.42691 -34.76192, -58.42614...</td>\n",
       "    </tr>\n",
       "  </tbody>\n",
       "</table>\n",
       "</div>"
      ],
      "text/plain": [
       "     full_id fuente         distrito  evp   tipo  \\\n",
       "0  r13232486    OSM  Lomas de Zamora  1.0  Plaza   \n",
       "1  w28051684    OSM  Lomas de Zamora  1.0  Plaza   \n",
       "2  w28051696    OSM  Lomas de Zamora  1.0  Plaza   \n",
       "\n",
       "                                           nombre  limite   area_m2  sis_bool  \\\n",
       "0                         Plaza Carlos Pellegrini       1   6932.85         0   \n",
       "1  Plaza Libertad Y Democracia, Dr. Raúl Alfonsín       1  14263.38         0   \n",
       "2                          Plaza de los Italianos       1   7883.71         0   \n",
       "\n",
       "  sis_nam  sis_area_m2  barpop_cant barpop_nam  bus50_cant  bus500_cant  \\\n",
       "0    None          NaN          0.0       None         0.0          7.0   \n",
       "1    None          NaN          0.0       None         0.0          2.0   \n",
       "2    None          NaN          0.0       None         0.0          9.0   \n",
       "\n",
       "  observaciones                                           geometry  \n",
       "0          None  MULTIPOLYGON (((-58.42685 -34.79316, -58.42684...  \n",
       "1          None  MULTIPOLYGON (((-58.41578 -34.75867, -58.41435...  \n",
       "2          None  MULTIPOLYGON (((-58.42691 -34.76192, -58.42614...  "
      ]
     },
     "execution_count": 34,
     "metadata": {},
     "output_type": "execute_result"
    }
   ],
   "source": [
    "df = gpd.read_file(\"./CapasEditadas/EspaciosPublicos_v11.geojson\")\n",
    "df.head(3)"
   ]
  },
  {
   "cell_type": "markdown",
   "metadata": {},
   "source": [
    "## Buffers according to radius"
   ]
  },
  {
   "cell_type": "code",
   "execution_count": 35,
   "metadata": {},
   "outputs": [
    {
     "data": {
      "text/plain": [
       "array(['Plaza', 'Plazoleta', 'Parque con equipamiento', '-', 'Parque',\n",
       "       'Separador vial', 'Cancha'], dtype=object)"
      ]
     },
     "execution_count": 35,
     "metadata": {},
     "output_type": "execute_result"
    }
   ],
   "source": [
    "# unique EP types\n",
    "df.tipo.unique()"
   ]
  },
  {
   "cell_type": "code",
   "execution_count": 36,
   "metadata": {},
   "outputs": [],
   "source": [
    "# EP radius\n",
    "radius = {\n",
    "    'Plazoleta': 400,\n",
    "    'Plaza': 600,\n",
    "    'Parque': 800,\n",
    "    'Parque con equipamiento': 2000\n",
    "}"
   ]
  },
  {
   "cell_type": "code",
   "execution_count": 37,
   "metadata": {},
   "outputs": [],
   "source": [
    "df_plazoleta = df.loc[df.tipo == 'Plazoleta']\n",
    "df_plazoleta.reset_index(inplace=True, drop=True)\n",
    "df_plazoleta = df_plazoleta.to_crs(\"EPSG:5347\")\n",
    "df_plazoleta.geometry = df_plazoleta.buffer(radius['Plazoleta'])\n",
    "df_plazoleta = df_plazoleta.dissolve(by='tipo')\n",
    "df_plazoleta = df_plazoleta[['geometry']]\n",
    "df_plazoleta.to_file(\"./BufferEP/EP_Plazoletas_buffer\"+str(radius['Plazoleta'])+\".geojson\", driver='GeoJSON')"
   ]
  },
  {
   "cell_type": "code",
   "execution_count": 38,
   "metadata": {},
   "outputs": [],
   "source": [
    "df_plaza = df.loc[df.tipo == 'Plaza']\n",
    "df_plaza.reset_index(inplace=True, drop=True)\n",
    "df_plaza = df_plaza.to_crs(\"EPSG:5347\")\n",
    "df_plaza.geometry = df_plaza.buffer(radius['Plaza'])\n",
    "df_plaza = df_plaza.dissolve(by='tipo')\n",
    "df_plaza = df_plaza[['geometry']]\n",
    "df_plaza.to_file(\"./BufferEP/EP_Plaza_buffer\"+str(radius['Plaza'])+\".geojson\", driver='GeoJSON')"
   ]
  },
  {
   "cell_type": "code",
   "execution_count": 39,
   "metadata": {},
   "outputs": [],
   "source": [
    "df_parque = df.loc[df.tipo == 'Parque']\n",
    "df_parque.reset_index(inplace=True, drop=True)\n",
    "df_parque = df_parque.to_crs(\"EPSG:5347\")\n",
    "df_parque.geometry = df_parque.buffer(radius['Parque'])\n",
    "df_parque = df_parque.dissolve(by='tipo')\n",
    "df_parque = df_parque[['geometry']]\n",
    "df_parque.to_file(\"./BufferEP/EP_Parque_buffer\"+str(radius['Parque'])+\".geojson\", driver='GeoJSON')"
   ]
  },
  {
   "cell_type": "code",
   "execution_count": 40,
   "metadata": {},
   "outputs": [],
   "source": [
    "df_parqueconequip = df.loc[df.tipo == 'Parque con equipamiento']\n",
    "df_parqueconequip.reset_index(inplace=True, drop=True)\n",
    "df_parqueconequip = df_parqueconequip.to_crs(\"EPSG:5347\")\n",
    "df_parqueconequip.geometry = df_parqueconequip.buffer(radius['Parque con equipamiento'])\n",
    "df_parqueconequip = df_parqueconequip.dissolve(by='tipo')\n",
    "df_parqueconequip = df_parqueconequip[['geometry']]\n",
    "df_parqueconequip.to_file(\"./BufferEP/EP_ParqueConEquip_buffer\"+str(radius['Parque con equipamiento'])+\".geojson\", driver='GeoJSON')"
   ]
  },
  {
   "cell_type": "code",
   "execution_count": null,
   "metadata": {},
   "outputs": [],
   "source": []
  }
 ],
 "metadata": {
  "kernelspec": {
   "display_name": "Python 3.7.8 ('GeoAnalysis')",
   "language": "python",
   "name": "python3"
  },
  "language_info": {
   "codemirror_mode": {
    "name": "ipython",
    "version": 3
   },
   "file_extension": ".py",
   "mimetype": "text/x-python",
   "name": "python",
   "nbconvert_exporter": "python",
   "pygments_lexer": "ipython3",
   "version": "3.7.8"
  },
  "orig_nbformat": 4,
  "vscode": {
   "interpreter": {
    "hash": "76d8fbc8f8336675a1901d9de0a2c7c06ee4b86e9ca9d1443f3f5d90eeade619"
   }
  }
 },
 "nbformat": 4,
 "nbformat_minor": 2
}
